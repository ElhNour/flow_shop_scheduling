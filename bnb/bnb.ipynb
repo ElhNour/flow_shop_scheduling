{
  "nbformat": 4,
  "nbformat_minor": 0,
  "metadata": {
    "colab": {
      "name": "results.ipynb",
      "provenance": []
    },
    "kernelspec": {
      "name": "python371jvsc74a57bd04480e32245891b07b354378c7dbc380a1b3f17ee24171af64af582c25470e498",
      "display_name": "Python 3.7.1 64-bit (conda)"
    },
    "language_info": {
      "name": "python",
      "version": "3.7.1"
    }
  },
  "cells": [
    {
      "source": [
        "# Methode Exacte : Branch & Bound"
      ],
      "cell_type": "markdown",
      "metadata": {}
    },
    {
      "source": [
        "Nous proposons un algorithme exacte de resolution du probleme de flow shop de permutation. selon les criteres suivants"
      ],
      "cell_type": "markdown",
      "metadata": {
        "id": "uL4A-WS4t0mG"
      }
    },
    {
      "source": [
        "## Strategie de Recherche\n",
        "\n",
        "L'algorithme est parametrable par la strategie de recherche . On propose 2 strategie:\n",
        "\n",
        "    - Recherche en profondeur : Depth First Search\n",
        "    - Recherche Meilleur D'abord : Best First Search\n",
        "selon l'instance les 2 algoritmes peuvent donner des resultats different parfois meme tres performants. "
      ],
      "cell_type": "markdown",
      "metadata": {}
    },
    {
      "source": [
        "## Espace de recherche"
      ],
      "cell_type": "markdown",
      "metadata": {}
    },
    {
      "source": [
        "![branch and bound tree](./images/bnb.png)"
      ],
      "cell_type": "markdown",
      "metadata": {}
    },
    {
      "source": [
        "# Evaluation des noeuds "
      ],
      "cell_type": "markdown",
      "metadata": {}
    },
    {
      "source": [
        "** Evaluation noeud Interne ** : calculer le Makespan $C^*_{max}$ de la sous sequence scheduled de ce noeud\n",
        "\n",
        "** Evaluation feuille ** : calculer le Makespan total $C_{max}$"
      ],
      "cell_type": "markdown",
      "metadata": {}
    },
    {
      "source": [
        "# Elagage des noeud interne :\n",
        "\n",
        "Un noeud interne est élagué et donc non exploré si est seuelement si : \n",
        "$$\n",
        "C^*_{max} > UpperBound\n",
        "$$"
      ],
      "cell_type": "markdown",
      "metadata": {}
    },
    {
      "cell_type": "code",
      "execution_count": 1,
      "metadata": {},
      "outputs": [],
      "source": [
        "import sys\n",
        "sys.path.append(\"../\") # in order to import fsp\n",
        "from fsp import branch_and_bound\n",
        "import matplotlib.pyplot as plt\n",
        "from utils import Instance, Benchmark\n",
        "import numpy as np"
      ]
    },
    {
      "cell_type": "code",
      "execution_count": 2,
      "metadata": {
        "tags": []
      },
      "outputs": [
        {
          "output_type": "stream",
          "name": "stdout",
          "text": [
            "start seq(0, 6, 8, 2, 5, 7, 4, 1, 3)\n",
            "upper bound 49.0\n",
            "{'C_max': 42.0, 'order': [0, 2, 1, 4, 5, 8, 3, 7, 6], 'details': {'explored': 229926, 'pruned': 180532, 'leafs': 4, 'time': 7.348183800000015}}\n"
          ]
        },
        {
          "output_type": "display_data",
          "data": {
            "application/vnd.plotly.v1+json": {
              "config": {
                "plotlyServerURL": "https://plot.ly"
              },
              "data": [
                {
                  "alignmentgroup": "True",
                  "base": [
                    "1971-01-01",
                    "1971-01-02",
                    "1971-01-04",
                    "1971-01-07"
                  ],
                  "hovertemplate": "Resource=Job 0<br>Start=%{base}<br>Finish=%{x}<br>Task=%{y}<extra></extra>",
                  "legendgroup": "Job 0",
                  "marker": {
                    "color": "#636efa"
                  },
                  "name": "Job 0",
                  "offsetgroup": "Job 0",
                  "orientation": "h",
                  "showlegend": true,
                  "textposition": "auto",
                  "type": "bar",
                  "x": [
                    86400000,
                    172800000,
                    259200000,
                    172800000
                  ],
                  "xaxis": "x",
                  "y": [
                    "Machine 0",
                    "Machine 1",
                    "Machine 2",
                    "Machine 3"
                  ],
                  "yaxis": "y"
                },
                {
                  "alignmentgroup": "True",
                  "base": [
                    "1971-01-02",
                    "1971-01-05",
                    "1971-01-07",
                    "1971-01-09"
                  ],
                  "hovertemplate": "Resource=Job 2<br>Start=%{base}<br>Finish=%{x}<br>Task=%{y}<extra></extra>",
                  "legendgroup": "Job 2",
                  "marker": {
                    "color": "#EF553B"
                  },
                  "name": "Job 2",
                  "offsetgroup": "Job 2",
                  "orientation": "h",
                  "showlegend": true,
                  "textposition": "auto",
                  "type": "bar",
                  "x": [
                    259200000,
                    172800000,
                    86400000,
                    432000000
                  ],
                  "xaxis": "x",
                  "y": [
                    "Machine 0",
                    "Machine 1",
                    "Machine 2",
                    "Machine 3"
                  ],
                  "yaxis": "y"
                },
                {
                  "alignmentgroup": "True",
                  "base": [
                    "1971-01-05",
                    "1971-01-07",
                    "1971-01-11",
                    "1971-01-14"
                  ],
                  "hovertemplate": "Resource=Job 1<br>Start=%{base}<br>Finish=%{x}<br>Task=%{y}<extra></extra>",
                  "legendgroup": "Job 1",
                  "marker": {
                    "color": "#00cc96"
                  },
                  "name": "Job 1",
                  "offsetgroup": "Job 1",
                  "orientation": "h",
                  "showlegend": true,
                  "textposition": "auto",
                  "type": "bar",
                  "x": [
                    86400000,
                    345600000,
                    172800000,
                    864000000
                  ],
                  "xaxis": "x",
                  "y": [
                    "Machine 0",
                    "Machine 1",
                    "Machine 2",
                    "Machine 3"
                  ],
                  "yaxis": "y"
                },
                {
                  "alignmentgroup": "True",
                  "base": [
                    "1971-01-06",
                    "1971-01-11",
                    "1971-01-16",
                    "1971-01-24"
                  ],
                  "hovertemplate": "Resource=Job 4<br>Start=%{base}<br>Finish=%{x}<br>Task=%{y}<extra></extra>",
                  "legendgroup": "Job 4",
                  "marker": {
                    "color": "#ab63fa"
                  },
                  "name": "Job 4",
                  "offsetgroup": "Job 4",
                  "orientation": "h",
                  "showlegend": true,
                  "textposition": "auto",
                  "type": "bar",
                  "x": [
                    86400000,
                    432000000,
                    345600000,
                    345600000
                  ],
                  "xaxis": "x",
                  "y": [
                    "Machine 0",
                    "Machine 1",
                    "Machine 2",
                    "Machine 3"
                  ],
                  "yaxis": "y"
                },
                {
                  "alignmentgroup": "True",
                  "base": [
                    "1971-01-07",
                    "1971-01-16",
                    "1971-01-20",
                    "1971-01-28"
                  ],
                  "hovertemplate": "Resource=Job 5<br>Start=%{base}<br>Finish=%{x}<br>Task=%{y}<extra></extra>",
                  "legendgroup": "Job 5",
                  "marker": {
                    "color": "#FFA15A"
                  },
                  "name": "Job 5",
                  "offsetgroup": "Job 5",
                  "orientation": "h",
                  "showlegend": true,
                  "textposition": "auto",
                  "type": "bar",
                  "x": [
                    172800000,
                    259200000,
                    172800000,
                    518400000
                  ],
                  "xaxis": "x",
                  "y": [
                    "Machine 0",
                    "Machine 1",
                    "Machine 2",
                    "Machine 3"
                  ],
                  "yaxis": "y"
                },
                {
                  "alignmentgroup": "True",
                  "base": [
                    "1971-01-09",
                    "1971-01-19",
                    "1971-01-22",
                    "1971-02-03"
                  ],
                  "hovertemplate": "Resource=Job 8<br>Start=%{base}<br>Finish=%{x}<br>Task=%{y}<extra></extra>",
                  "legendgroup": "Job 8",
                  "marker": {
                    "color": "#19d3f3"
                  },
                  "name": "Job 8",
                  "offsetgroup": "Job 8",
                  "orientation": "h",
                  "showlegend": true,
                  "textposition": "auto",
                  "type": "bar",
                  "x": [
                    432000000,
                    172800000,
                    86400000,
                    86400000
                  ],
                  "xaxis": "x",
                  "y": [
                    "Machine 0",
                    "Machine 1",
                    "Machine 2",
                    "Machine 3"
                  ],
                  "yaxis": "y"
                },
                {
                  "alignmentgroup": "True",
                  "base": [
                    "1971-01-14",
                    "1971-01-21",
                    "1971-01-31",
                    "1971-02-04"
                  ],
                  "hovertemplate": "Resource=Job 3<br>Start=%{base}<br>Finish=%{x}<br>Task=%{y}<extra></extra>",
                  "legendgroup": "Job 3",
                  "marker": {
                    "color": "#FF6692"
                  },
                  "name": "Job 3",
                  "offsetgroup": "Job 3",
                  "orientation": "h",
                  "showlegend": true,
                  "textposition": "auto",
                  "type": "bar",
                  "x": [
                    345600000,
                    864000000,
                    259200000,
                    86400000
                  ],
                  "xaxis": "x",
                  "y": [
                    "Machine 0",
                    "Machine 1",
                    "Machine 2",
                    "Machine 3"
                  ],
                  "yaxis": "y"
                },
                {
                  "alignmentgroup": "True",
                  "base": [
                    "1971-01-18",
                    "1971-01-31",
                    "1971-02-03",
                    "1971-02-05"
                  ],
                  "hovertemplate": "Resource=Job 7<br>Start=%{base}<br>Finish=%{x}<br>Task=%{y}<extra></extra>",
                  "legendgroup": "Job 7",
                  "marker": {
                    "color": "#B6E880"
                  },
                  "name": "Job 7",
                  "offsetgroup": "Job 7",
                  "orientation": "h",
                  "showlegend": true,
                  "textposition": "auto",
                  "type": "bar",
                  "x": [
                    172800000,
                    259200000,
                    172800000,
                    518400000
                  ],
                  "xaxis": "x",
                  "y": [
                    "Machine 0",
                    "Machine 1",
                    "Machine 2",
                    "Machine 3"
                  ],
                  "yaxis": "y"
                },
                {
                  "alignmentgroup": "True",
                  "base": [
                    "1971-01-20",
                    "1971-02-03",
                    "1971-02-05",
                    "1971-02-11"
                  ],
                  "hovertemplate": "Resource=Job 6<br>Start=%{base}<br>Finish=%{x}<br>Task=%{y}<extra></extra>",
                  "legendgroup": "Job 6",
                  "marker": {
                    "color": "#FF97FF"
                  },
                  "name": "Job 6",
                  "offsetgroup": "Job 6",
                  "orientation": "h",
                  "showlegend": true,
                  "textposition": "auto",
                  "type": "bar",
                  "x": [
                    432000000,
                    172800000,
                    86400000,
                    86400000
                  ],
                  "xaxis": "x",
                  "y": [
                    "Machine 0",
                    "Machine 1",
                    "Machine 2",
                    "Machine 3"
                  ],
                  "yaxis": "y"
                }
              ],
              "layout": {
                "barmode": "overlay",
                "legend": {
                  "title": {
                    "text": "Resource"
                  },
                  "tracegroupgap": 0
                },
                "margin": {
                  "t": 60
                },
                "template": {
                  "data": {
                    "bar": [
                      {
                        "error_x": {
                          "color": "#2a3f5f"
                        },
                        "error_y": {
                          "color": "#2a3f5f"
                        },
                        "marker": {
                          "line": {
                            "color": "#E5ECF6",
                            "width": 0.5
                          }
                        },
                        "type": "bar"
                      }
                    ],
                    "barpolar": [
                      {
                        "marker": {
                          "line": {
                            "color": "#E5ECF6",
                            "width": 0.5
                          }
                        },
                        "type": "barpolar"
                      }
                    ],
                    "carpet": [
                      {
                        "aaxis": {
                          "endlinecolor": "#2a3f5f",
                          "gridcolor": "white",
                          "linecolor": "white",
                          "minorgridcolor": "white",
                          "startlinecolor": "#2a3f5f"
                        },
                        "baxis": {
                          "endlinecolor": "#2a3f5f",
                          "gridcolor": "white",
                          "linecolor": "white",
                          "minorgridcolor": "white",
                          "startlinecolor": "#2a3f5f"
                        },
                        "type": "carpet"
                      }
                    ],
                    "choropleth": [
                      {
                        "colorbar": {
                          "outlinewidth": 0,
                          "ticks": ""
                        },
                        "type": "choropleth"
                      }
                    ],
                    "contour": [
                      {
                        "colorbar": {
                          "outlinewidth": 0,
                          "ticks": ""
                        },
                        "colorscale": [
                          [
                            0,
                            "#0d0887"
                          ],
                          [
                            0.1111111111111111,
                            "#46039f"
                          ],
                          [
                            0.2222222222222222,
                            "#7201a8"
                          ],
                          [
                            0.3333333333333333,
                            "#9c179e"
                          ],
                          [
                            0.4444444444444444,
                            "#bd3786"
                          ],
                          [
                            0.5555555555555556,
                            "#d8576b"
                          ],
                          [
                            0.6666666666666666,
                            "#ed7953"
                          ],
                          [
                            0.7777777777777778,
                            "#fb9f3a"
                          ],
                          [
                            0.8888888888888888,
                            "#fdca26"
                          ],
                          [
                            1,
                            "#f0f921"
                          ]
                        ],
                        "type": "contour"
                      }
                    ],
                    "contourcarpet": [
                      {
                        "colorbar": {
                          "outlinewidth": 0,
                          "ticks": ""
                        },
                        "type": "contourcarpet"
                      }
                    ],
                    "heatmap": [
                      {
                        "colorbar": {
                          "outlinewidth": 0,
                          "ticks": ""
                        },
                        "colorscale": [
                          [
                            0,
                            "#0d0887"
                          ],
                          [
                            0.1111111111111111,
                            "#46039f"
                          ],
                          [
                            0.2222222222222222,
                            "#7201a8"
                          ],
                          [
                            0.3333333333333333,
                            "#9c179e"
                          ],
                          [
                            0.4444444444444444,
                            "#bd3786"
                          ],
                          [
                            0.5555555555555556,
                            "#d8576b"
                          ],
                          [
                            0.6666666666666666,
                            "#ed7953"
                          ],
                          [
                            0.7777777777777778,
                            "#fb9f3a"
                          ],
                          [
                            0.8888888888888888,
                            "#fdca26"
                          ],
                          [
                            1,
                            "#f0f921"
                          ]
                        ],
                        "type": "heatmap"
                      }
                    ],
                    "heatmapgl": [
                      {
                        "colorbar": {
                          "outlinewidth": 0,
                          "ticks": ""
                        },
                        "colorscale": [
                          [
                            0,
                            "#0d0887"
                          ],
                          [
                            0.1111111111111111,
                            "#46039f"
                          ],
                          [
                            0.2222222222222222,
                            "#7201a8"
                          ],
                          [
                            0.3333333333333333,
                            "#9c179e"
                          ],
                          [
                            0.4444444444444444,
                            "#bd3786"
                          ],
                          [
                            0.5555555555555556,
                            "#d8576b"
                          ],
                          [
                            0.6666666666666666,
                            "#ed7953"
                          ],
                          [
                            0.7777777777777778,
                            "#fb9f3a"
                          ],
                          [
                            0.8888888888888888,
                            "#fdca26"
                          ],
                          [
                            1,
                            "#f0f921"
                          ]
                        ],
                        "type": "heatmapgl"
                      }
                    ],
                    "histogram": [
                      {
                        "marker": {
                          "colorbar": {
                            "outlinewidth": 0,
                            "ticks": ""
                          }
                        },
                        "type": "histogram"
                      }
                    ],
                    "histogram2d": [
                      {
                        "colorbar": {
                          "outlinewidth": 0,
                          "ticks": ""
                        },
                        "colorscale": [
                          [
                            0,
                            "#0d0887"
                          ],
                          [
                            0.1111111111111111,
                            "#46039f"
                          ],
                          [
                            0.2222222222222222,
                            "#7201a8"
                          ],
                          [
                            0.3333333333333333,
                            "#9c179e"
                          ],
                          [
                            0.4444444444444444,
                            "#bd3786"
                          ],
                          [
                            0.5555555555555556,
                            "#d8576b"
                          ],
                          [
                            0.6666666666666666,
                            "#ed7953"
                          ],
                          [
                            0.7777777777777778,
                            "#fb9f3a"
                          ],
                          [
                            0.8888888888888888,
                            "#fdca26"
                          ],
                          [
                            1,
                            "#f0f921"
                          ]
                        ],
                        "type": "histogram2d"
                      }
                    ],
                    "histogram2dcontour": [
                      {
                        "colorbar": {
                          "outlinewidth": 0,
                          "ticks": ""
                        },
                        "colorscale": [
                          [
                            0,
                            "#0d0887"
                          ],
                          [
                            0.1111111111111111,
                            "#46039f"
                          ],
                          [
                            0.2222222222222222,
                            "#7201a8"
                          ],
                          [
                            0.3333333333333333,
                            "#9c179e"
                          ],
                          [
                            0.4444444444444444,
                            "#bd3786"
                          ],
                          [
                            0.5555555555555556,
                            "#d8576b"
                          ],
                          [
                            0.6666666666666666,
                            "#ed7953"
                          ],
                          [
                            0.7777777777777778,
                            "#fb9f3a"
                          ],
                          [
                            0.8888888888888888,
                            "#fdca26"
                          ],
                          [
                            1,
                            "#f0f921"
                          ]
                        ],
                        "type": "histogram2dcontour"
                      }
                    ],
                    "mesh3d": [
                      {
                        "colorbar": {
                          "outlinewidth": 0,
                          "ticks": ""
                        },
                        "type": "mesh3d"
                      }
                    ],
                    "parcoords": [
                      {
                        "line": {
                          "colorbar": {
                            "outlinewidth": 0,
                            "ticks": ""
                          }
                        },
                        "type": "parcoords"
                      }
                    ],
                    "pie": [
                      {
                        "automargin": true,
                        "type": "pie"
                      }
                    ],
                    "scatter": [
                      {
                        "marker": {
                          "colorbar": {
                            "outlinewidth": 0,
                            "ticks": ""
                          }
                        },
                        "type": "scatter"
                      }
                    ],
                    "scatter3d": [
                      {
                        "line": {
                          "colorbar": {
                            "outlinewidth": 0,
                            "ticks": ""
                          }
                        },
                        "marker": {
                          "colorbar": {
                            "outlinewidth": 0,
                            "ticks": ""
                          }
                        },
                        "type": "scatter3d"
                      }
                    ],
                    "scattercarpet": [
                      {
                        "marker": {
                          "colorbar": {
                            "outlinewidth": 0,
                            "ticks": ""
                          }
                        },
                        "type": "scattercarpet"
                      }
                    ],
                    "scattergeo": [
                      {
                        "marker": {
                          "colorbar": {
                            "outlinewidth": 0,
                            "ticks": ""
                          }
                        },
                        "type": "scattergeo"
                      }
                    ],
                    "scattergl": [
                      {
                        "marker": {
                          "colorbar": {
                            "outlinewidth": 0,
                            "ticks": ""
                          }
                        },
                        "type": "scattergl"
                      }
                    ],
                    "scattermapbox": [
                      {
                        "marker": {
                          "colorbar": {
                            "outlinewidth": 0,
                            "ticks": ""
                          }
                        },
                        "type": "scattermapbox"
                      }
                    ],
                    "scatterpolar": [
                      {
                        "marker": {
                          "colorbar": {
                            "outlinewidth": 0,
                            "ticks": ""
                          }
                        },
                        "type": "scatterpolar"
                      }
                    ],
                    "scatterpolargl": [
                      {
                        "marker": {
                          "colorbar": {
                            "outlinewidth": 0,
                            "ticks": ""
                          }
                        },
                        "type": "scatterpolargl"
                      }
                    ],
                    "scatterternary": [
                      {
                        "marker": {
                          "colorbar": {
                            "outlinewidth": 0,
                            "ticks": ""
                          }
                        },
                        "type": "scatterternary"
                      }
                    ],
                    "surface": [
                      {
                        "colorbar": {
                          "outlinewidth": 0,
                          "ticks": ""
                        },
                        "colorscale": [
                          [
                            0,
                            "#0d0887"
                          ],
                          [
                            0.1111111111111111,
                            "#46039f"
                          ],
                          [
                            0.2222222222222222,
                            "#7201a8"
                          ],
                          [
                            0.3333333333333333,
                            "#9c179e"
                          ],
                          [
                            0.4444444444444444,
                            "#bd3786"
                          ],
                          [
                            0.5555555555555556,
                            "#d8576b"
                          ],
                          [
                            0.6666666666666666,
                            "#ed7953"
                          ],
                          [
                            0.7777777777777778,
                            "#fb9f3a"
                          ],
                          [
                            0.8888888888888888,
                            "#fdca26"
                          ],
                          [
                            1,
                            "#f0f921"
                          ]
                        ],
                        "type": "surface"
                      }
                    ],
                    "table": [
                      {
                        "cells": {
                          "fill": {
                            "color": "#EBF0F8"
                          },
                          "line": {
                            "color": "white"
                          }
                        },
                        "header": {
                          "fill": {
                            "color": "#C8D4E3"
                          },
                          "line": {
                            "color": "white"
                          }
                        },
                        "type": "table"
                      }
                    ]
                  },
                  "layout": {
                    "annotationdefaults": {
                      "arrowcolor": "#2a3f5f",
                      "arrowhead": 0,
                      "arrowwidth": 1
                    },
                    "autotypenumbers": "strict",
                    "coloraxis": {
                      "colorbar": {
                        "outlinewidth": 0,
                        "ticks": ""
                      }
                    },
                    "colorscale": {
                      "diverging": [
                        [
                          0,
                          "#8e0152"
                        ],
                        [
                          0.1,
                          "#c51b7d"
                        ],
                        [
                          0.2,
                          "#de77ae"
                        ],
                        [
                          0.3,
                          "#f1b6da"
                        ],
                        [
                          0.4,
                          "#fde0ef"
                        ],
                        [
                          0.5,
                          "#f7f7f7"
                        ],
                        [
                          0.6,
                          "#e6f5d0"
                        ],
                        [
                          0.7,
                          "#b8e186"
                        ],
                        [
                          0.8,
                          "#7fbc41"
                        ],
                        [
                          0.9,
                          "#4d9221"
                        ],
                        [
                          1,
                          "#276419"
                        ]
                      ],
                      "sequential": [
                        [
                          0,
                          "#0d0887"
                        ],
                        [
                          0.1111111111111111,
                          "#46039f"
                        ],
                        [
                          0.2222222222222222,
                          "#7201a8"
                        ],
                        [
                          0.3333333333333333,
                          "#9c179e"
                        ],
                        [
                          0.4444444444444444,
                          "#bd3786"
                        ],
                        [
                          0.5555555555555556,
                          "#d8576b"
                        ],
                        [
                          0.6666666666666666,
                          "#ed7953"
                        ],
                        [
                          0.7777777777777778,
                          "#fb9f3a"
                        ],
                        [
                          0.8888888888888888,
                          "#fdca26"
                        ],
                        [
                          1,
                          "#f0f921"
                        ]
                      ],
                      "sequentialminus": [
                        [
                          0,
                          "#0d0887"
                        ],
                        [
                          0.1111111111111111,
                          "#46039f"
                        ],
                        [
                          0.2222222222222222,
                          "#7201a8"
                        ],
                        [
                          0.3333333333333333,
                          "#9c179e"
                        ],
                        [
                          0.4444444444444444,
                          "#bd3786"
                        ],
                        [
                          0.5555555555555556,
                          "#d8576b"
                        ],
                        [
                          0.6666666666666666,
                          "#ed7953"
                        ],
                        [
                          0.7777777777777778,
                          "#fb9f3a"
                        ],
                        [
                          0.8888888888888888,
                          "#fdca26"
                        ],
                        [
                          1,
                          "#f0f921"
                        ]
                      ]
                    },
                    "colorway": [
                      "#636efa",
                      "#EF553B",
                      "#00cc96",
                      "#ab63fa",
                      "#FFA15A",
                      "#19d3f3",
                      "#FF6692",
                      "#B6E880",
                      "#FF97FF",
                      "#FECB52"
                    ],
                    "font": {
                      "color": "#2a3f5f"
                    },
                    "geo": {
                      "bgcolor": "white",
                      "lakecolor": "white",
                      "landcolor": "#E5ECF6",
                      "showlakes": true,
                      "showland": true,
                      "subunitcolor": "white"
                    },
                    "hoverlabel": {
                      "align": "left"
                    },
                    "hovermode": "closest",
                    "mapbox": {
                      "style": "light"
                    },
                    "paper_bgcolor": "white",
                    "plot_bgcolor": "#E5ECF6",
                    "polar": {
                      "angularaxis": {
                        "gridcolor": "white",
                        "linecolor": "white",
                        "ticks": ""
                      },
                      "bgcolor": "#E5ECF6",
                      "radialaxis": {
                        "gridcolor": "white",
                        "linecolor": "white",
                        "ticks": ""
                      }
                    },
                    "scene": {
                      "xaxis": {
                        "backgroundcolor": "#E5ECF6",
                        "gridcolor": "white",
                        "gridwidth": 2,
                        "linecolor": "white",
                        "showbackground": true,
                        "ticks": "",
                        "zerolinecolor": "white"
                      },
                      "yaxis": {
                        "backgroundcolor": "#E5ECF6",
                        "gridcolor": "white",
                        "gridwidth": 2,
                        "linecolor": "white",
                        "showbackground": true,
                        "ticks": "",
                        "zerolinecolor": "white"
                      },
                      "zaxis": {
                        "backgroundcolor": "#E5ECF6",
                        "gridcolor": "white",
                        "gridwidth": 2,
                        "linecolor": "white",
                        "showbackground": true,
                        "ticks": "",
                        "zerolinecolor": "white"
                      }
                    },
                    "shapedefaults": {
                      "line": {
                        "color": "#2a3f5f"
                      }
                    },
                    "ternary": {
                      "aaxis": {
                        "gridcolor": "white",
                        "linecolor": "white",
                        "ticks": ""
                      },
                      "baxis": {
                        "gridcolor": "white",
                        "linecolor": "white",
                        "ticks": ""
                      },
                      "bgcolor": "#E5ECF6",
                      "caxis": {
                        "gridcolor": "white",
                        "linecolor": "white",
                        "ticks": ""
                      }
                    },
                    "title": {
                      "x": 0.05
                    },
                    "xaxis": {
                      "automargin": true,
                      "gridcolor": "white",
                      "linecolor": "white",
                      "ticks": "",
                      "title": {
                        "standoff": 15
                      },
                      "zerolinecolor": "white",
                      "zerolinewidth": 2
                    },
                    "yaxis": {
                      "automargin": true,
                      "gridcolor": "white",
                      "linecolor": "white",
                      "ticks": "",
                      "title": {
                        "standoff": 15
                      },
                      "zerolinecolor": "white",
                      "zerolinewidth": 2
                    }
                  }
                },
                "xaxis": {
                  "anchor": "y",
                  "domain": [
                    0,
                    1
                  ],
                  "ticktext": [
                    0,
                    1,
                    2,
                    3,
                    4,
                    5,
                    6,
                    7,
                    8,
                    9,
                    10,
                    11,
                    12,
                    13,
                    14,
                    15,
                    16,
                    17,
                    18,
                    19,
                    20,
                    21,
                    22,
                    23,
                    24,
                    25,
                    26,
                    27,
                    28,
                    29,
                    30,
                    31,
                    32,
                    33,
                    34,
                    35,
                    36,
                    37,
                    38,
                    39,
                    40,
                    41,
                    42
                  ],
                  "tickvals": [
                    "1971-01-01",
                    "1971-01-02",
                    "1971-01-03",
                    "1971-01-04",
                    "1971-01-05",
                    "1971-01-06",
                    "1971-01-07",
                    "1971-01-08",
                    "1971-01-09",
                    "1971-01-10",
                    "1971-01-11",
                    "1971-01-12",
                    "1971-01-13",
                    "1971-01-14",
                    "1971-01-15",
                    "1971-01-16",
                    "1971-01-17",
                    "1971-01-18",
                    "1971-01-19",
                    "1971-01-20",
                    "1971-01-21",
                    "1971-01-22",
                    "1971-01-23",
                    "1971-01-24",
                    "1971-01-25",
                    "1971-01-26",
                    "1971-01-27",
                    "1971-01-28",
                    "1971-01-29",
                    "1971-01-30",
                    "1971-01-31",
                    "1971-02-01",
                    "1971-02-02",
                    "1971-02-03",
                    "1971-02-04",
                    "1971-02-05",
                    "1971-02-06",
                    "1971-02-07",
                    "1971-02-08",
                    "1971-02-09",
                    "1971-02-10",
                    "1971-02-11",
                    "1971-02-12"
                  ],
                  "type": "date"
                },
                "yaxis": {
                  "anchor": "x",
                  "domain": [
                    0,
                    1
                  ],
                  "title": {
                    "text": "Task"
                  }
                }
              }
            }
          },
          "metadata": {}
        }
      ],
      "source": [
        "import plotly.figure_factory as ff\n",
        "from datetime import datetime\n",
        "import numpy as np\n",
        "import plotly.express as px\n",
        "instance4 = Instance(\n",
        "    np.array([\n",
        "        [1,2,3,2],\n",
        "        [1,4,2,10],\n",
        "        [3,2,1,5],\n",
        "        [4,10,3,1],\n",
        "        [1,5,4,4],\n",
        "        [2,3,2,6],\n",
        "        [5,2,1,1],\n",
        "        [2,3,2,6],\n",
        "        [5,2,1,1],\n",
        "    ], dtype=np.int64)\n",
        ")\n",
        "results = branch_and_bound.get_results(instance4,search_strategy=branch_and_bound.DEPTH_FIRST_SEARCH,use_heuristique_init=True,log=False)\n",
        "print(results)\n",
        "res = instance4.get_chart_data(results)\n",
        "\n",
        "fig = px.timeline(res['df'], x_start=\"Start\", x_end=\"Finish\", y=\"Task\", color=\"Resource\")\n",
        "fig.layout.xaxis.update({\n",
        "        'tickvals' : res['date_ticks'],\n",
        "        'ticktext' : res['num_tick_labels']\n",
        "        })\n",
        "fig.show()"
      ]
    },
    {
      "cell_type": "code",
      "execution_count": 3,
      "metadata": {},
      "outputs": [
        {
          "output_type": "stream",
          "name": "stdout",
          "text": [
            "start seq(0, 1, 2, 3, 4, 5, 6, 7, 8)\n",
            "upper bound 46.0\n",
            "{'C_max': 42.0, 'order': [0, 2, 1, 4, 5, 8, 3, 7, 6], 'details': {'explored': 229925, 'pruned': 180532, 'leafs': 3, 'time': 7.086145500000043}}\n"
          ]
        },
        {
          "output_type": "display_data",
          "data": {
            "application/vnd.plotly.v1+json": {
              "config": {
                "plotlyServerURL": "https://plot.ly"
              },
              "data": [
                {
                  "alignmentgroup": "True",
                  "base": [
                    "1971-01-01",
                    "1971-01-02",
                    "1971-01-04",
                    "1971-01-07"
                  ],
                  "hovertemplate": "Resource=Job 0<br>Start=%{base}<br>Finish=%{x}<br>Task=%{y}<extra></extra>",
                  "legendgroup": "Job 0",
                  "marker": {
                    "color": "#636efa"
                  },
                  "name": "Job 0",
                  "offsetgroup": "Job 0",
                  "orientation": "h",
                  "showlegend": true,
                  "textposition": "auto",
                  "type": "bar",
                  "x": [
                    86400000,
                    172800000,
                    259200000,
                    172800000
                  ],
                  "xaxis": "x",
                  "y": [
                    "Machine 0",
                    "Machine 1",
                    "Machine 2",
                    "Machine 3"
                  ],
                  "yaxis": "y"
                },
                {
                  "alignmentgroup": "True",
                  "base": [
                    "1971-01-02",
                    "1971-01-05",
                    "1971-01-07",
                    "1971-01-09"
                  ],
                  "hovertemplate": "Resource=Job 2<br>Start=%{base}<br>Finish=%{x}<br>Task=%{y}<extra></extra>",
                  "legendgroup": "Job 2",
                  "marker": {
                    "color": "#EF553B"
                  },
                  "name": "Job 2",
                  "offsetgroup": "Job 2",
                  "orientation": "h",
                  "showlegend": true,
                  "textposition": "auto",
                  "type": "bar",
                  "x": [
                    259200000,
                    172800000,
                    86400000,
                    432000000
                  ],
                  "xaxis": "x",
                  "y": [
                    "Machine 0",
                    "Machine 1",
                    "Machine 2",
                    "Machine 3"
                  ],
                  "yaxis": "y"
                },
                {
                  "alignmentgroup": "True",
                  "base": [
                    "1971-01-05",
                    "1971-01-07",
                    "1971-01-11",
                    "1971-01-14"
                  ],
                  "hovertemplate": "Resource=Job 1<br>Start=%{base}<br>Finish=%{x}<br>Task=%{y}<extra></extra>",
                  "legendgroup": "Job 1",
                  "marker": {
                    "color": "#00cc96"
                  },
                  "name": "Job 1",
                  "offsetgroup": "Job 1",
                  "orientation": "h",
                  "showlegend": true,
                  "textposition": "auto",
                  "type": "bar",
                  "x": [
                    86400000,
                    345600000,
                    172800000,
                    864000000
                  ],
                  "xaxis": "x",
                  "y": [
                    "Machine 0",
                    "Machine 1",
                    "Machine 2",
                    "Machine 3"
                  ],
                  "yaxis": "y"
                },
                {
                  "alignmentgroup": "True",
                  "base": [
                    "1971-01-06",
                    "1971-01-11",
                    "1971-01-16",
                    "1971-01-24"
                  ],
                  "hovertemplate": "Resource=Job 4<br>Start=%{base}<br>Finish=%{x}<br>Task=%{y}<extra></extra>",
                  "legendgroup": "Job 4",
                  "marker": {
                    "color": "#ab63fa"
                  },
                  "name": "Job 4",
                  "offsetgroup": "Job 4",
                  "orientation": "h",
                  "showlegend": true,
                  "textposition": "auto",
                  "type": "bar",
                  "x": [
                    86400000,
                    432000000,
                    345600000,
                    345600000
                  ],
                  "xaxis": "x",
                  "y": [
                    "Machine 0",
                    "Machine 1",
                    "Machine 2",
                    "Machine 3"
                  ],
                  "yaxis": "y"
                },
                {
                  "alignmentgroup": "True",
                  "base": [
                    "1971-01-07",
                    "1971-01-16",
                    "1971-01-20",
                    "1971-01-28"
                  ],
                  "hovertemplate": "Resource=Job 5<br>Start=%{base}<br>Finish=%{x}<br>Task=%{y}<extra></extra>",
                  "legendgroup": "Job 5",
                  "marker": {
                    "color": "#FFA15A"
                  },
                  "name": "Job 5",
                  "offsetgroup": "Job 5",
                  "orientation": "h",
                  "showlegend": true,
                  "textposition": "auto",
                  "type": "bar",
                  "x": [
                    172800000,
                    259200000,
                    172800000,
                    518400000
                  ],
                  "xaxis": "x",
                  "y": [
                    "Machine 0",
                    "Machine 1",
                    "Machine 2",
                    "Machine 3"
                  ],
                  "yaxis": "y"
                },
                {
                  "alignmentgroup": "True",
                  "base": [
                    "1971-01-09",
                    "1971-01-19",
                    "1971-01-22",
                    "1971-02-03"
                  ],
                  "hovertemplate": "Resource=Job 8<br>Start=%{base}<br>Finish=%{x}<br>Task=%{y}<extra></extra>",
                  "legendgroup": "Job 8",
                  "marker": {
                    "color": "#19d3f3"
                  },
                  "name": "Job 8",
                  "offsetgroup": "Job 8",
                  "orientation": "h",
                  "showlegend": true,
                  "textposition": "auto",
                  "type": "bar",
                  "x": [
                    432000000,
                    172800000,
                    86400000,
                    86400000
                  ],
                  "xaxis": "x",
                  "y": [
                    "Machine 0",
                    "Machine 1",
                    "Machine 2",
                    "Machine 3"
                  ],
                  "yaxis": "y"
                },
                {
                  "alignmentgroup": "True",
                  "base": [
                    "1971-01-14",
                    "1971-01-21",
                    "1971-01-31",
                    "1971-02-04"
                  ],
                  "hovertemplate": "Resource=Job 3<br>Start=%{base}<br>Finish=%{x}<br>Task=%{y}<extra></extra>",
                  "legendgroup": "Job 3",
                  "marker": {
                    "color": "#FF6692"
                  },
                  "name": "Job 3",
                  "offsetgroup": "Job 3",
                  "orientation": "h",
                  "showlegend": true,
                  "textposition": "auto",
                  "type": "bar",
                  "x": [
                    345600000,
                    864000000,
                    259200000,
                    86400000
                  ],
                  "xaxis": "x",
                  "y": [
                    "Machine 0",
                    "Machine 1",
                    "Machine 2",
                    "Machine 3"
                  ],
                  "yaxis": "y"
                },
                {
                  "alignmentgroup": "True",
                  "base": [
                    "1971-01-18",
                    "1971-01-31",
                    "1971-02-03",
                    "1971-02-05"
                  ],
                  "hovertemplate": "Resource=Job 7<br>Start=%{base}<br>Finish=%{x}<br>Task=%{y}<extra></extra>",
                  "legendgroup": "Job 7",
                  "marker": {
                    "color": "#B6E880"
                  },
                  "name": "Job 7",
                  "offsetgroup": "Job 7",
                  "orientation": "h",
                  "showlegend": true,
                  "textposition": "auto",
                  "type": "bar",
                  "x": [
                    172800000,
                    259200000,
                    172800000,
                    518400000
                  ],
                  "xaxis": "x",
                  "y": [
                    "Machine 0",
                    "Machine 1",
                    "Machine 2",
                    "Machine 3"
                  ],
                  "yaxis": "y"
                },
                {
                  "alignmentgroup": "True",
                  "base": [
                    "1971-01-20",
                    "1971-02-03",
                    "1971-02-05",
                    "1971-02-11"
                  ],
                  "hovertemplate": "Resource=Job 6<br>Start=%{base}<br>Finish=%{x}<br>Task=%{y}<extra></extra>",
                  "legendgroup": "Job 6",
                  "marker": {
                    "color": "#FF97FF"
                  },
                  "name": "Job 6",
                  "offsetgroup": "Job 6",
                  "orientation": "h",
                  "showlegend": true,
                  "textposition": "auto",
                  "type": "bar",
                  "x": [
                    432000000,
                    172800000,
                    86400000,
                    86400000
                  ],
                  "xaxis": "x",
                  "y": [
                    "Machine 0",
                    "Machine 1",
                    "Machine 2",
                    "Machine 3"
                  ],
                  "yaxis": "y"
                }
              ],
              "layout": {
                "barmode": "overlay",
                "legend": {
                  "title": {
                    "text": "Resource"
                  },
                  "tracegroupgap": 0
                },
                "margin": {
                  "t": 60
                },
                "template": {
                  "data": {
                    "bar": [
                      {
                        "error_x": {
                          "color": "#2a3f5f"
                        },
                        "error_y": {
                          "color": "#2a3f5f"
                        },
                        "marker": {
                          "line": {
                            "color": "#E5ECF6",
                            "width": 0.5
                          }
                        },
                        "type": "bar"
                      }
                    ],
                    "barpolar": [
                      {
                        "marker": {
                          "line": {
                            "color": "#E5ECF6",
                            "width": 0.5
                          }
                        },
                        "type": "barpolar"
                      }
                    ],
                    "carpet": [
                      {
                        "aaxis": {
                          "endlinecolor": "#2a3f5f",
                          "gridcolor": "white",
                          "linecolor": "white",
                          "minorgridcolor": "white",
                          "startlinecolor": "#2a3f5f"
                        },
                        "baxis": {
                          "endlinecolor": "#2a3f5f",
                          "gridcolor": "white",
                          "linecolor": "white",
                          "minorgridcolor": "white",
                          "startlinecolor": "#2a3f5f"
                        },
                        "type": "carpet"
                      }
                    ],
                    "choropleth": [
                      {
                        "colorbar": {
                          "outlinewidth": 0,
                          "ticks": ""
                        },
                        "type": "choropleth"
                      }
                    ],
                    "contour": [
                      {
                        "colorbar": {
                          "outlinewidth": 0,
                          "ticks": ""
                        },
                        "colorscale": [
                          [
                            0,
                            "#0d0887"
                          ],
                          [
                            0.1111111111111111,
                            "#46039f"
                          ],
                          [
                            0.2222222222222222,
                            "#7201a8"
                          ],
                          [
                            0.3333333333333333,
                            "#9c179e"
                          ],
                          [
                            0.4444444444444444,
                            "#bd3786"
                          ],
                          [
                            0.5555555555555556,
                            "#d8576b"
                          ],
                          [
                            0.6666666666666666,
                            "#ed7953"
                          ],
                          [
                            0.7777777777777778,
                            "#fb9f3a"
                          ],
                          [
                            0.8888888888888888,
                            "#fdca26"
                          ],
                          [
                            1,
                            "#f0f921"
                          ]
                        ],
                        "type": "contour"
                      }
                    ],
                    "contourcarpet": [
                      {
                        "colorbar": {
                          "outlinewidth": 0,
                          "ticks": ""
                        },
                        "type": "contourcarpet"
                      }
                    ],
                    "heatmap": [
                      {
                        "colorbar": {
                          "outlinewidth": 0,
                          "ticks": ""
                        },
                        "colorscale": [
                          [
                            0,
                            "#0d0887"
                          ],
                          [
                            0.1111111111111111,
                            "#46039f"
                          ],
                          [
                            0.2222222222222222,
                            "#7201a8"
                          ],
                          [
                            0.3333333333333333,
                            "#9c179e"
                          ],
                          [
                            0.4444444444444444,
                            "#bd3786"
                          ],
                          [
                            0.5555555555555556,
                            "#d8576b"
                          ],
                          [
                            0.6666666666666666,
                            "#ed7953"
                          ],
                          [
                            0.7777777777777778,
                            "#fb9f3a"
                          ],
                          [
                            0.8888888888888888,
                            "#fdca26"
                          ],
                          [
                            1,
                            "#f0f921"
                          ]
                        ],
                        "type": "heatmap"
                      }
                    ],
                    "heatmapgl": [
                      {
                        "colorbar": {
                          "outlinewidth": 0,
                          "ticks": ""
                        },
                        "colorscale": [
                          [
                            0,
                            "#0d0887"
                          ],
                          [
                            0.1111111111111111,
                            "#46039f"
                          ],
                          [
                            0.2222222222222222,
                            "#7201a8"
                          ],
                          [
                            0.3333333333333333,
                            "#9c179e"
                          ],
                          [
                            0.4444444444444444,
                            "#bd3786"
                          ],
                          [
                            0.5555555555555556,
                            "#d8576b"
                          ],
                          [
                            0.6666666666666666,
                            "#ed7953"
                          ],
                          [
                            0.7777777777777778,
                            "#fb9f3a"
                          ],
                          [
                            0.8888888888888888,
                            "#fdca26"
                          ],
                          [
                            1,
                            "#f0f921"
                          ]
                        ],
                        "type": "heatmapgl"
                      }
                    ],
                    "histogram": [
                      {
                        "marker": {
                          "colorbar": {
                            "outlinewidth": 0,
                            "ticks": ""
                          }
                        },
                        "type": "histogram"
                      }
                    ],
                    "histogram2d": [
                      {
                        "colorbar": {
                          "outlinewidth": 0,
                          "ticks": ""
                        },
                        "colorscale": [
                          [
                            0,
                            "#0d0887"
                          ],
                          [
                            0.1111111111111111,
                            "#46039f"
                          ],
                          [
                            0.2222222222222222,
                            "#7201a8"
                          ],
                          [
                            0.3333333333333333,
                            "#9c179e"
                          ],
                          [
                            0.4444444444444444,
                            "#bd3786"
                          ],
                          [
                            0.5555555555555556,
                            "#d8576b"
                          ],
                          [
                            0.6666666666666666,
                            "#ed7953"
                          ],
                          [
                            0.7777777777777778,
                            "#fb9f3a"
                          ],
                          [
                            0.8888888888888888,
                            "#fdca26"
                          ],
                          [
                            1,
                            "#f0f921"
                          ]
                        ],
                        "type": "histogram2d"
                      }
                    ],
                    "histogram2dcontour": [
                      {
                        "colorbar": {
                          "outlinewidth": 0,
                          "ticks": ""
                        },
                        "colorscale": [
                          [
                            0,
                            "#0d0887"
                          ],
                          [
                            0.1111111111111111,
                            "#46039f"
                          ],
                          [
                            0.2222222222222222,
                            "#7201a8"
                          ],
                          [
                            0.3333333333333333,
                            "#9c179e"
                          ],
                          [
                            0.4444444444444444,
                            "#bd3786"
                          ],
                          [
                            0.5555555555555556,
                            "#d8576b"
                          ],
                          [
                            0.6666666666666666,
                            "#ed7953"
                          ],
                          [
                            0.7777777777777778,
                            "#fb9f3a"
                          ],
                          [
                            0.8888888888888888,
                            "#fdca26"
                          ],
                          [
                            1,
                            "#f0f921"
                          ]
                        ],
                        "type": "histogram2dcontour"
                      }
                    ],
                    "mesh3d": [
                      {
                        "colorbar": {
                          "outlinewidth": 0,
                          "ticks": ""
                        },
                        "type": "mesh3d"
                      }
                    ],
                    "parcoords": [
                      {
                        "line": {
                          "colorbar": {
                            "outlinewidth": 0,
                            "ticks": ""
                          }
                        },
                        "type": "parcoords"
                      }
                    ],
                    "pie": [
                      {
                        "automargin": true,
                        "type": "pie"
                      }
                    ],
                    "scatter": [
                      {
                        "marker": {
                          "colorbar": {
                            "outlinewidth": 0,
                            "ticks": ""
                          }
                        },
                        "type": "scatter"
                      }
                    ],
                    "scatter3d": [
                      {
                        "line": {
                          "colorbar": {
                            "outlinewidth": 0,
                            "ticks": ""
                          }
                        },
                        "marker": {
                          "colorbar": {
                            "outlinewidth": 0,
                            "ticks": ""
                          }
                        },
                        "type": "scatter3d"
                      }
                    ],
                    "scattercarpet": [
                      {
                        "marker": {
                          "colorbar": {
                            "outlinewidth": 0,
                            "ticks": ""
                          }
                        },
                        "type": "scattercarpet"
                      }
                    ],
                    "scattergeo": [
                      {
                        "marker": {
                          "colorbar": {
                            "outlinewidth": 0,
                            "ticks": ""
                          }
                        },
                        "type": "scattergeo"
                      }
                    ],
                    "scattergl": [
                      {
                        "marker": {
                          "colorbar": {
                            "outlinewidth": 0,
                            "ticks": ""
                          }
                        },
                        "type": "scattergl"
                      }
                    ],
                    "scattermapbox": [
                      {
                        "marker": {
                          "colorbar": {
                            "outlinewidth": 0,
                            "ticks": ""
                          }
                        },
                        "type": "scattermapbox"
                      }
                    ],
                    "scatterpolar": [
                      {
                        "marker": {
                          "colorbar": {
                            "outlinewidth": 0,
                            "ticks": ""
                          }
                        },
                        "type": "scatterpolar"
                      }
                    ],
                    "scatterpolargl": [
                      {
                        "marker": {
                          "colorbar": {
                            "outlinewidth": 0,
                            "ticks": ""
                          }
                        },
                        "type": "scatterpolargl"
                      }
                    ],
                    "scatterternary": [
                      {
                        "marker": {
                          "colorbar": {
                            "outlinewidth": 0,
                            "ticks": ""
                          }
                        },
                        "type": "scatterternary"
                      }
                    ],
                    "surface": [
                      {
                        "colorbar": {
                          "outlinewidth": 0,
                          "ticks": ""
                        },
                        "colorscale": [
                          [
                            0,
                            "#0d0887"
                          ],
                          [
                            0.1111111111111111,
                            "#46039f"
                          ],
                          [
                            0.2222222222222222,
                            "#7201a8"
                          ],
                          [
                            0.3333333333333333,
                            "#9c179e"
                          ],
                          [
                            0.4444444444444444,
                            "#bd3786"
                          ],
                          [
                            0.5555555555555556,
                            "#d8576b"
                          ],
                          [
                            0.6666666666666666,
                            "#ed7953"
                          ],
                          [
                            0.7777777777777778,
                            "#fb9f3a"
                          ],
                          [
                            0.8888888888888888,
                            "#fdca26"
                          ],
                          [
                            1,
                            "#f0f921"
                          ]
                        ],
                        "type": "surface"
                      }
                    ],
                    "table": [
                      {
                        "cells": {
                          "fill": {
                            "color": "#EBF0F8"
                          },
                          "line": {
                            "color": "white"
                          }
                        },
                        "header": {
                          "fill": {
                            "color": "#C8D4E3"
                          },
                          "line": {
                            "color": "white"
                          }
                        },
                        "type": "table"
                      }
                    ]
                  },
                  "layout": {
                    "annotationdefaults": {
                      "arrowcolor": "#2a3f5f",
                      "arrowhead": 0,
                      "arrowwidth": 1
                    },
                    "autotypenumbers": "strict",
                    "coloraxis": {
                      "colorbar": {
                        "outlinewidth": 0,
                        "ticks": ""
                      }
                    },
                    "colorscale": {
                      "diverging": [
                        [
                          0,
                          "#8e0152"
                        ],
                        [
                          0.1,
                          "#c51b7d"
                        ],
                        [
                          0.2,
                          "#de77ae"
                        ],
                        [
                          0.3,
                          "#f1b6da"
                        ],
                        [
                          0.4,
                          "#fde0ef"
                        ],
                        [
                          0.5,
                          "#f7f7f7"
                        ],
                        [
                          0.6,
                          "#e6f5d0"
                        ],
                        [
                          0.7,
                          "#b8e186"
                        ],
                        [
                          0.8,
                          "#7fbc41"
                        ],
                        [
                          0.9,
                          "#4d9221"
                        ],
                        [
                          1,
                          "#276419"
                        ]
                      ],
                      "sequential": [
                        [
                          0,
                          "#0d0887"
                        ],
                        [
                          0.1111111111111111,
                          "#46039f"
                        ],
                        [
                          0.2222222222222222,
                          "#7201a8"
                        ],
                        [
                          0.3333333333333333,
                          "#9c179e"
                        ],
                        [
                          0.4444444444444444,
                          "#bd3786"
                        ],
                        [
                          0.5555555555555556,
                          "#d8576b"
                        ],
                        [
                          0.6666666666666666,
                          "#ed7953"
                        ],
                        [
                          0.7777777777777778,
                          "#fb9f3a"
                        ],
                        [
                          0.8888888888888888,
                          "#fdca26"
                        ],
                        [
                          1,
                          "#f0f921"
                        ]
                      ],
                      "sequentialminus": [
                        [
                          0,
                          "#0d0887"
                        ],
                        [
                          0.1111111111111111,
                          "#46039f"
                        ],
                        [
                          0.2222222222222222,
                          "#7201a8"
                        ],
                        [
                          0.3333333333333333,
                          "#9c179e"
                        ],
                        [
                          0.4444444444444444,
                          "#bd3786"
                        ],
                        [
                          0.5555555555555556,
                          "#d8576b"
                        ],
                        [
                          0.6666666666666666,
                          "#ed7953"
                        ],
                        [
                          0.7777777777777778,
                          "#fb9f3a"
                        ],
                        [
                          0.8888888888888888,
                          "#fdca26"
                        ],
                        [
                          1,
                          "#f0f921"
                        ]
                      ]
                    },
                    "colorway": [
                      "#636efa",
                      "#EF553B",
                      "#00cc96",
                      "#ab63fa",
                      "#FFA15A",
                      "#19d3f3",
                      "#FF6692",
                      "#B6E880",
                      "#FF97FF",
                      "#FECB52"
                    ],
                    "font": {
                      "color": "#2a3f5f"
                    },
                    "geo": {
                      "bgcolor": "white",
                      "lakecolor": "white",
                      "landcolor": "#E5ECF6",
                      "showlakes": true,
                      "showland": true,
                      "subunitcolor": "white"
                    },
                    "hoverlabel": {
                      "align": "left"
                    },
                    "hovermode": "closest",
                    "mapbox": {
                      "style": "light"
                    },
                    "paper_bgcolor": "white",
                    "plot_bgcolor": "#E5ECF6",
                    "polar": {
                      "angularaxis": {
                        "gridcolor": "white",
                        "linecolor": "white",
                        "ticks": ""
                      },
                      "bgcolor": "#E5ECF6",
                      "radialaxis": {
                        "gridcolor": "white",
                        "linecolor": "white",
                        "ticks": ""
                      }
                    },
                    "scene": {
                      "xaxis": {
                        "backgroundcolor": "#E5ECF6",
                        "gridcolor": "white",
                        "gridwidth": 2,
                        "linecolor": "white",
                        "showbackground": true,
                        "ticks": "",
                        "zerolinecolor": "white"
                      },
                      "yaxis": {
                        "backgroundcolor": "#E5ECF6",
                        "gridcolor": "white",
                        "gridwidth": 2,
                        "linecolor": "white",
                        "showbackground": true,
                        "ticks": "",
                        "zerolinecolor": "white"
                      },
                      "zaxis": {
                        "backgroundcolor": "#E5ECF6",
                        "gridcolor": "white",
                        "gridwidth": 2,
                        "linecolor": "white",
                        "showbackground": true,
                        "ticks": "",
                        "zerolinecolor": "white"
                      }
                    },
                    "shapedefaults": {
                      "line": {
                        "color": "#2a3f5f"
                      }
                    },
                    "ternary": {
                      "aaxis": {
                        "gridcolor": "white",
                        "linecolor": "white",
                        "ticks": ""
                      },
                      "baxis": {
                        "gridcolor": "white",
                        "linecolor": "white",
                        "ticks": ""
                      },
                      "bgcolor": "#E5ECF6",
                      "caxis": {
                        "gridcolor": "white",
                        "linecolor": "white",
                        "ticks": ""
                      }
                    },
                    "title": {
                      "x": 0.05
                    },
                    "xaxis": {
                      "automargin": true,
                      "gridcolor": "white",
                      "linecolor": "white",
                      "ticks": "",
                      "title": {
                        "standoff": 15
                      },
                      "zerolinecolor": "white",
                      "zerolinewidth": 2
                    },
                    "yaxis": {
                      "automargin": true,
                      "gridcolor": "white",
                      "linecolor": "white",
                      "ticks": "",
                      "title": {
                        "standoff": 15
                      },
                      "zerolinecolor": "white",
                      "zerolinewidth": 2
                    }
                  }
                },
                "xaxis": {
                  "anchor": "y",
                  "domain": [
                    0,
                    1
                  ],
                  "ticktext": [
                    0,
                    1,
                    2,
                    3,
                    4,
                    5,
                    6,
                    7,
                    8,
                    9,
                    10,
                    11,
                    12,
                    13,
                    14,
                    15,
                    16,
                    17,
                    18,
                    19,
                    20,
                    21,
                    22,
                    23,
                    24,
                    25,
                    26,
                    27,
                    28,
                    29,
                    30,
                    31,
                    32,
                    33,
                    34,
                    35,
                    36,
                    37,
                    38,
                    39,
                    40,
                    41,
                    42
                  ],
                  "tickvals": [
                    "1971-01-01",
                    "1971-01-02",
                    "1971-01-03",
                    "1971-01-04",
                    "1971-01-05",
                    "1971-01-06",
                    "1971-01-07",
                    "1971-01-08",
                    "1971-01-09",
                    "1971-01-10",
                    "1971-01-11",
                    "1971-01-12",
                    "1971-01-13",
                    "1971-01-14",
                    "1971-01-15",
                    "1971-01-16",
                    "1971-01-17",
                    "1971-01-18",
                    "1971-01-19",
                    "1971-01-20",
                    "1971-01-21",
                    "1971-01-22",
                    "1971-01-23",
                    "1971-01-24",
                    "1971-01-25",
                    "1971-01-26",
                    "1971-01-27",
                    "1971-01-28",
                    "1971-01-29",
                    "1971-01-30",
                    "1971-01-31",
                    "1971-02-01",
                    "1971-02-02",
                    "1971-02-03",
                    "1971-02-04",
                    "1971-02-05",
                    "1971-02-06",
                    "1971-02-07",
                    "1971-02-08",
                    "1971-02-09",
                    "1971-02-10",
                    "1971-02-11",
                    "1971-02-12"
                  ],
                  "type": "date"
                },
                "yaxis": {
                  "anchor": "x",
                  "domain": [
                    0,
                    1
                  ],
                  "title": {
                    "text": "Task"
                  }
                }
              }
            }
          },
          "metadata": {}
        }
      ],
      "source": [
        "# without heuristique init (uses starting sequence)\n",
        "results2 = branch_and_bound.get_results(instance4,search_strategy=branch_and_bound.DEPTH_FIRST_SEARCH,use_heuristique_init=False,log=False)\n",
        "print(results2)\n",
        "res2 = instance4.get_chart_data(results2)\n",
        "\n",
        "fig2 = px.timeline(res2['df'], x_start=\"Start\", x_end=\"Finish\", y=\"Task\", color=\"Resource\")\n",
        "fig2.layout.xaxis.update({\n",
        "        'tickvals' : res['date_ticks'],\n",
        "        'ticktext' : res['num_tick_labels']\n",
        "        })\n",
        "fig2.show()"
      ]
    },
    {
      "source": [
        "# Depth-First-Search vs Best-First-Search"
      ],
      "cell_type": "markdown",
      "metadata": {}
    },
    {
      "cell_type": "code",
      "execution_count": 7,
      "metadata": {},
      "outputs": [
        {
          "output_type": "execute_result",
          "data": {
            "text/plain": [
              "array([[59.32178504, 49.89094722, 12.66912934,  2.87980327],\n",
              "       [50.4168833 , 69.69190645, 62.27260146, 15.65760823],\n",
              "       [42.21630933, 61.10997132,  3.44555249, 98.77285774],\n",
              "       [82.92433093, 89.54121788, 80.76033336, 89.67184254],\n",
              "       [ 1.9164287 , 35.72980973,  9.86583552, 89.78697495],\n",
              "       [86.68715181, 31.06685406, 89.34428901, 42.20724588],\n",
              "       [ 8.74755206, 55.57178241, 74.80407291, 14.78184065],\n",
              "       [88.10323181, 45.49933266, 71.81924293, 22.81962431],\n",
              "       [39.91595238, 86.11028384, 90.26361293, 38.03924651]])"
            ]
          },
          "metadata": {},
          "execution_count": 7
        }
      ],
      "source": [
        "jobs = 9\n",
        "machines = 4\n",
        "random_mat = np.random.random((jobs,machines)) * 100\n",
        "randomInstance = Instance(random_mat)\n",
        "random_mat"
      ]
    },
    {
      "cell_type": "code",
      "execution_count": 8,
      "metadata": {},
      "outputs": [
        {
          "output_type": "stream",
          "name": "stdout",
          "text": [
            "start seq(0, 1, 2, 3, 4, 5, 6, 7, 8)\nupper bound 784.9783971505342\n"
          ]
        },
        {
          "output_type": "execute_result",
          "data": {
            "text/plain": [
              "{'C_max': 595.7713483513661,\n",
              " 'order': [4, 6, 8, 2, 5, 3, 7, 1, 0],\n",
              " 'details': {'explored': 177310,\n",
              "  'pruned': 194138,\n",
              "  'leafs': 37,\n",
              "  'time': 5.661664400000063}}"
            ]
          },
          "metadata": {},
          "execution_count": 8
        }
      ],
      "source": [
        "depth_res = branch_and_bound.get_results(randomInstance,search_strategy=branch_and_bound.DEPTH_FIRST_SEARCH,use_heuristique_init=False,log=False)\n",
        "depth_res"
      ]
    },
    {
      "cell_type": "code",
      "execution_count": 9,
      "metadata": {},
      "outputs": [
        {
          "output_type": "stream",
          "name": "stdout",
          "text": [
            "start seq(0, 1, 2, 3, 4, 5, 6, 7, 8)\nupper bound 784.9783971505342\n"
          ]
        },
        {
          "output_type": "execute_result",
          "data": {
            "text/plain": [
              "{'C_max': 595.7713483513661,\n",
              " 'order': [4, 6, 8, 2, 5, 3, 7, 1, 0],\n",
              " 'details': {'explored': 112432,\n",
              "  'pruned': 165954,\n",
              "  'leafs': 25,\n",
              "  'time': 5.364031299999965}}"
            ]
          },
          "metadata": {},
          "execution_count": 9
        }
      ],
      "source": [
        "best_res = branch_and_bound.get_results(randomInstance,search_strategy=branch_and_bound.BEST_FIRST_SEARCH,use_heuristique_init=False,log=False)\n",
        "best_res"
      ]
    },
    {
      "source": [
        "# Impact de la distribution initiale des couts sur les machines"
      ],
      "cell_type": "markdown",
      "metadata": {}
    },
    {
      "source": [
        "## Instance a couts suivant une loi normale "
      ],
      "cell_type": "markdown",
      "metadata": {}
    },
    {
      "cell_type": "code",
      "execution_count": 10,
      "metadata": {},
      "outputs": [
        {
          "output_type": "execute_result",
          "data": {
            "text/plain": [
              "array([[3.17895194e+01, 1.41193214e-02, 2.83976599e+00],\n",
              "       [7.23513193e+00, 2.10987188e+01, 1.67693662e+01],\n",
              "       [1.18754110e+01, 1.34906319e+00, 3.00011517e+00],\n",
              "       [5.56875803e+00, 9.17744929e+00, 1.97832377e+01],\n",
              "       [2.44439047e+00, 6.47108760e+01, 3.45870075e+00],\n",
              "       [2.58913784e+00, 1.74195210e+01, 2.48509364e+01],\n",
              "       [8.10115244e+00, 1.43672789e+01, 1.60574067e+01],\n",
              "       [2.93281635e+01, 3.15073228e+01, 4.68810063e-01],\n",
              "       [4.88943353e+01, 2.67043206e+01, 2.30721040e+00]])"
            ]
          },
          "metadata": {},
          "execution_count": 10
        }
      ],
      "source": [
        "jobs = 9\n",
        "machines = 3\n",
        "mean_time = 10\n",
        "std_time = 20\n",
        "random_mat = np.abs(np.random.normal(loc=mean_time,scale=std_time,size=(jobs,machines)))\n",
        "randomInstance = Instance(random_mat)\n",
        "random_mat"
      ]
    },
    {
      "cell_type": "code",
      "execution_count": 11,
      "metadata": {},
      "outputs": [
        {
          "output_type": "stream",
          "name": "stdout",
          "text": [
            "start seq(2, 3, 0, 6, 5, 1, 7, 4, 8)\nupper bound 235.45008932471066\n"
          ]
        },
        {
          "output_type": "execute_result",
          "data": {
            "text/plain": [
              "{'C_max': 189.26187041168768,\n",
              " 'order': [4, 0, 1, 2, 3, 5, 8, 6, 7],\n",
              " 'details': {'explored': 239989,\n",
              "  'pruned': 156899,\n",
              "  'leafs': 23,\n",
              "  'time': 5.340898500000094}}"
            ]
          },
          "metadata": {},
          "execution_count": 11
        }
      ],
      "source": [
        "heur_res = branch_and_bound.get_results(randomInstance,search_strategy=branch_and_bound.DEPTH_FIRST_SEARCH,use_heuristique_init=True,log=False)\n",
        "heur_res"
      ]
    },
    {
      "cell_type": "code",
      "execution_count": 12,
      "metadata": {},
      "outputs": [
        {
          "output_type": "stream",
          "name": "stdout",
          "text": [
            "start seq(0, 1, 2, 3, 4, 5, 6, 7, 8)\nupper bound 227.66641225715108\n"
          ]
        },
        {
          "output_type": "execute_result",
          "data": {
            "text/plain": [
              "{'C_max': 189.26187041168768,\n",
              " 'order': [4, 0, 1, 2, 3, 5, 8, 6, 7],\n",
              " 'details': {'explored': 239989,\n",
              "  'pruned': 156899,\n",
              "  'leafs': 23,\n",
              "  'time': 6.010924100000011}}"
            ]
          },
          "metadata": {},
          "execution_count": 12
        }
      ],
      "source": [
        "noheur_res = branch_and_bound.get_results(randomInstance,search_strategy=branch_and_bound.DEPTH_FIRST_SEARCH,use_heuristique_init=False,log=False)\n",
        "noheur_res"
      ]
    },
    {
      "source": [
        "## Instance a couts suivant une loi uniforme"
      ],
      "cell_type": "markdown",
      "metadata": {}
    },
    {
      "cell_type": "code",
      "execution_count": 29,
      "metadata": {},
      "outputs": [
        {
          "output_type": "execute_result",
          "data": {
            "text/plain": [
              "array([[28.75948187, 30.08885274, 88.61330802, 12.54000721],\n",
              "       [65.53163835, 26.94485821, 17.46386911, 42.17436021],\n",
              "       [55.3295282 , 47.18536725, 83.15180349, 63.55754009],\n",
              "       [60.88998033, 56.54074946, 51.14439568, 86.64426659],\n",
              "       [70.42342534, 42.57919888, 26.74380321, 88.04871627],\n",
              "       [58.73137839, 61.47333225, 65.98010658, 34.38243297],\n",
              "       [94.09172985, 36.26401766, 57.74166741, 30.95906234],\n",
              "       [78.51757727, 42.06067473, 98.02980989, 73.30842163],\n",
              "       [41.05458764, 75.66953873, 50.29092212, 88.16854389]])"
            ]
          },
          "metadata": {},
          "execution_count": 29
        }
      ],
      "source": [
        "jobs = 9\n",
        "machines = 4\n",
        "low = 10\n",
        "high = 100\n",
        "random_mat = np.abs(np.random.uniform(low=low,high=high,size=(jobs,machines)))\n",
        "randomInstance = Instance(random_mat)\n",
        "random_mat"
      ]
    },
    {
      "cell_type": "code",
      "execution_count": 30,
      "metadata": {},
      "outputs": [
        {
          "output_type": "stream",
          "name": "stdout",
          "text": [
            "start seq(1, 0, 6, 5, 4, 2, 8, 3, 7)\nupper bound 814.8831249390905\n"
          ]
        },
        {
          "output_type": "execute_result",
          "data": {
            "text/plain": [
              "{'C_max': 686.7983997001883,\n",
              " 'order': [8, 2, 3, 7, 5, 4, 6, 1, 0],\n",
              " 'details': {'explored': 260601,\n",
              "  'pruned': 255090,\n",
              "  'leafs': 23,\n",
              "  'time': 13.835180400000354}}"
            ]
          },
          "metadata": {},
          "execution_count": 30
        }
      ],
      "source": [
        "heur_res = branch_and_bound.get_results(randomInstance,search_strategy=branch_and_bound.DEPTH_FIRST_SEARCH,use_heuristique_init=True,log=False)\n",
        "heur_res"
      ]
    },
    {
      "cell_type": "code",
      "execution_count": 31,
      "metadata": {},
      "outputs": [
        {
          "output_type": "stream",
          "name": "stdout",
          "text": [
            "start seq(0, 1, 2, 3, 4, 5, 6, 7, 8)\nupper bound 813.842189746039\n"
          ]
        },
        {
          "output_type": "execute_result",
          "data": {
            "text/plain": [
              "{'C_max': 686.7983997001883,\n",
              " 'order': [8, 2, 3, 7, 5, 4, 6, 1, 0],\n",
              " 'details': {'explored': 260601,\n",
              "  'pruned': 255090,\n",
              "  'leafs': 23,\n",
              "  'time': 37.96600939999962}}"
            ]
          },
          "metadata": {},
          "execution_count": 31
        }
      ],
      "source": [
        "noheur_res = branch_and_bound.get_results(randomInstance,search_strategy=branch_and_bound.DEPTH_FIRST_SEARCH,use_heuristique_init=False,log=False)\n",
        "noheur_res"
      ]
    },
    {
      "source": [
        "## Instance a cout de loi exponentielle"
      ],
      "cell_type": "markdown",
      "metadata": {}
    },
    {
      "cell_type": "code",
      "execution_count": 44,
      "metadata": {},
      "outputs": [
        {
          "output_type": "execute_result",
          "data": {
            "text/plain": [
              "array([[ 8.67850222,  4.3264421 , 20.29488751, 40.21384655],\n",
              "       [30.59318083, 12.94590949, 19.17144682,  1.39382758],\n",
              "       [ 6.69261742,  0.91875524,  0.733197  , 11.09468333],\n",
              "       [ 7.76209271,  0.91041036,  0.64665727,  7.48669551],\n",
              "       [ 4.84153552,  4.64264686,  4.49365645, 11.58530051],\n",
              "       [12.63722871,  2.63389906, 17.63252946, 24.74045613],\n",
              "       [ 9.07937578,  7.84126981, 14.01722019,  0.2725492 ],\n",
              "       [17.74234497,  1.74945508, 11.02846333,  0.09056551],\n",
              "       [16.63812413, 11.74067692,  3.12347859,  8.24455906]])"
            ]
          },
          "metadata": {},
          "execution_count": 44
        }
      ],
      "source": [
        "jobs = 9\n",
        "machines = 4\n",
        "scale = 10\n",
        "random_mat = np.random.exponential(scale=scale,size=(jobs,machines))\n",
        "randomInstance = Instance(random_mat)\n",
        "random_mat"
      ]
    },
    {
      "cell_type": "code",
      "execution_count": 45,
      "metadata": {},
      "outputs": [
        {
          "output_type": "stream",
          "name": "stdout",
          "text": [
            "start seq(3, 2, 4, 7, 6, 8, 5, 1, 0)\nupper bound 198.61259043868293\n"
          ]
        },
        {
          "output_type": "execute_result",
          "data": {
            "text/plain": [
              "{'C_max': 127.53348621223064,\n",
              " 'order': [2, 3, 4, 5, 0, 6, 1, 8, 7],\n",
              " 'details': {'explored': 124236,\n",
              "  'pruned': 138278,\n",
              "  'leafs': 6,\n",
              "  'time': 7.162785700000313}}"
            ]
          },
          "metadata": {},
          "execution_count": 45
        }
      ],
      "source": [
        "heur_res = branch_and_bound.get_results(randomInstance,search_strategy=branch_and_bound.DEPTH_FIRST_SEARCH,use_heuristique_init=True,log=False)\n",
        "heur_res"
      ]
    },
    {
      "cell_type": "code",
      "execution_count": 47,
      "metadata": {},
      "outputs": [
        {
          "output_type": "stream",
          "name": "stdout",
          "text": [
            "start seq(0, 1, 2, 3, 4, 5, 6, 7, 8)\nupper bound 138.42231522023357\n"
          ]
        },
        {
          "output_type": "execute_result",
          "data": {
            "text/plain": [
              "{'C_max': 127.53348621223064,\n",
              " 'order': [2, 3, 4, 5, 0, 6, 1, 8, 7],\n",
              " 'details': {'explored': 124235,\n",
              "  'pruned': 138278,\n",
              "  'leafs': 5,\n",
              "  'time': 7.083648699999685}}"
            ]
          },
          "metadata": {},
          "execution_count": 47
        }
      ],
      "source": [
        "noheur_res = branch_and_bound.get_results(randomInstance,search_strategy=branch_and_bound.DEPTH_FIRST_SEARCH,use_heuristique_init=False,log=False)\n",
        "noheur_res"
      ]
    },
    {
      "cell_type": "code",
      "execution_count": null,
      "metadata": {},
      "outputs": [],
      "source": []
    }
  ]
}