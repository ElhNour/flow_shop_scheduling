{
  "nbformat": 4,
  "nbformat_minor": 0,
  "metadata": {
    "colab": {
      "name": "results.ipynb",
      "provenance": []
    },
    "kernelspec": {
      "name": "python371jvsc74a57bd04480e32245891b07b354378c7dbc380a1b3f17ee24171af64af582c25470e498",
      "display_name": "Python 3.7.1 64-bit (conda)"
    },
    "language_info": {
      "name": "python",
      "version": "3.7.1"
    }
  },
  "cells": [
    {
      "source": [
        "# Methode Exacte : Branch & Bound"
      ],
      "cell_type": "markdown",
      "metadata": {}
    },
    {
      "source": [
        "Nous proposons un algorithme exacte de resolution du probleme de flow shop de permutation. selon les criteres suivants"
      ],
      "cell_type": "markdown",
      "metadata": {
        "id": "uL4A-WS4t0mG"
      }
    },
    {
      "source": [
        "## Strategie de Recherche\n",
        "\n",
        "L'algorithme est parametrable par la strategie de recherche . On propose 2 strategie:\n",
        "\n",
        "    - Recherche en profondeur : Depth First Search\n",
        "    - Recherche Meilleur D'abord : Best First Search\n",
        "selon l'instance les 2 algoritmes peuvent donner des resultats different parfois meme tres performants. "
      ],
      "cell_type": "markdown",
      "metadata": {}
    },
    {
      "source": [
        "## Espace de recherche"
      ],
      "cell_type": "markdown",
      "metadata": {}
    },
    {
      "source": [
        "![branch and bound tree](./images/bnb.png)"
      ],
      "cell_type": "markdown",
      "metadata": {}
    },
    {
      "source": [
        "# Evaluation des noeuds "
      ],
      "cell_type": "markdown",
      "metadata": {}
    },
    {
      "source": [
        "** Evaluation noeud Interne ** : calculer le Makespan $C^*_{max}$ de la sous sequence scheduled de ce noeud\n",
        "\n",
        "** Evaluation feuille ** : calculer le Makespan total $C_{max}$"
      ],
      "cell_type": "markdown",
      "metadata": {}
    },
    {
      "source": [
        "# Elagage des noeud interne :\n",
        "\n",
        "Un noeud interne est élagué et donc non exploré si est seuelement si : \n",
        "$$\n",
        "C^*_{max} > UpperBound\n",
        "$$"
      ],
      "cell_type": "markdown",
      "metadata": {}
    },
    {
      "cell_type": "code",
      "execution_count": 2,
      "metadata": {},
      "outputs": [],
      "source": [
        "import sys\n",
        "sys.path.append(\"../\") # in order to import fsp\n",
        "from fsp import branch_and_bound\n",
        "import matplotlib.pyplot as plt\n",
        "from utils import Instance, Benchmark,JsonBenchmark\n",
        "import numpy as np"
      ]
    },
    {
      "cell_type": "code",
      "execution_count": 3,
      "metadata": {
        "tags": []
      },
      "outputs": [
        {
          "output_type": "stream",
          "name": "stdout",
          "text": [
            "start seq(0, 6, 8, 2, 5, 7, 4, 1, 3)\n",
            "upper bound 49.0\n",
            "{'C_max': 42.0, 'order': [0, 2, 1, 4, 5, 8, 3, 7, 6], 'details': {'explored': 229926, 'pruned': 180532, 'leafs': 4, 'time': 5.358626100000009}}\n"
          ]
        },
        {
          "output_type": "display_data",
          "data": {
            "application/vnd.plotly.v1+json": {
              "config": {
                "plotlyServerURL": "https://plot.ly"
              },
              "data": [
                {
                  "alignmentgroup": "True",
                  "base": [
                    "1971-01-01",
                    "1971-01-02",
                    "1971-01-04",
                    "1971-01-07"
                  ],
                  "hovertemplate": "Resource=Job 0<br>Start=%{base}<br>Finish=%{x}<br>Task=%{y}<extra></extra>",
                  "legendgroup": "Job 0",
                  "marker": {
                    "color": "#636efa"
                  },
                  "name": "Job 0",
                  "offsetgroup": "Job 0",
                  "orientation": "h",
                  "showlegend": true,
                  "textposition": "auto",
                  "type": "bar",
                  "x": [
                    86400000,
                    172800000,
                    259200000,
                    172800000
                  ],
                  "xaxis": "x",
                  "y": [
                    "Machine 0",
                    "Machine 1",
                    "Machine 2",
                    "Machine 3"
                  ],
                  "yaxis": "y"
                },
                {
                  "alignmentgroup": "True",
                  "base": [
                    "1971-01-02",
                    "1971-01-05",
                    "1971-01-07",
                    "1971-01-09"
                  ],
                  "hovertemplate": "Resource=Job 2<br>Start=%{base}<br>Finish=%{x}<br>Task=%{y}<extra></extra>",
                  "legendgroup": "Job 2",
                  "marker": {
                    "color": "#EF553B"
                  },
                  "name": "Job 2",
                  "offsetgroup": "Job 2",
                  "orientation": "h",
                  "showlegend": true,
                  "textposition": "auto",
                  "type": "bar",
                  "x": [
                    259200000,
                    172800000,
                    86400000,
                    432000000
                  ],
                  "xaxis": "x",
                  "y": [
                    "Machine 0",
                    "Machine 1",
                    "Machine 2",
                    "Machine 3"
                  ],
                  "yaxis": "y"
                },
                {
                  "alignmentgroup": "True",
                  "base": [
                    "1971-01-05",
                    "1971-01-07",
                    "1971-01-11",
                    "1971-01-14"
                  ],
                  "hovertemplate": "Resource=Job 1<br>Start=%{base}<br>Finish=%{x}<br>Task=%{y}<extra></extra>",
                  "legendgroup": "Job 1",
                  "marker": {
                    "color": "#00cc96"
                  },
                  "name": "Job 1",
                  "offsetgroup": "Job 1",
                  "orientation": "h",
                  "showlegend": true,
                  "textposition": "auto",
                  "type": "bar",
                  "x": [
                    86400000,
                    345600000,
                    172800000,
                    864000000
                  ],
                  "xaxis": "x",
                  "y": [
                    "Machine 0",
                    "Machine 1",
                    "Machine 2",
                    "Machine 3"
                  ],
                  "yaxis": "y"
                },
                {
                  "alignmentgroup": "True",
                  "base": [
                    "1971-01-06",
                    "1971-01-11",
                    "1971-01-16",
                    "1971-01-24"
                  ],
                  "hovertemplate": "Resource=Job 4<br>Start=%{base}<br>Finish=%{x}<br>Task=%{y}<extra></extra>",
                  "legendgroup": "Job 4",
                  "marker": {
                    "color": "#ab63fa"
                  },
                  "name": "Job 4",
                  "offsetgroup": "Job 4",
                  "orientation": "h",
                  "showlegend": true,
                  "textposition": "auto",
                  "type": "bar",
                  "x": [
                    86400000,
                    432000000,
                    345600000,
                    345600000
                  ],
                  "xaxis": "x",
                  "y": [
                    "Machine 0",
                    "Machine 1",
                    "Machine 2",
                    "Machine 3"
                  ],
                  "yaxis": "y"
                },
                {
                  "alignmentgroup": "True",
                  "base": [
                    "1971-01-07",
                    "1971-01-16",
                    "1971-01-20",
                    "1971-01-28"
                  ],
                  "hovertemplate": "Resource=Job 5<br>Start=%{base}<br>Finish=%{x}<br>Task=%{y}<extra></extra>",
                  "legendgroup": "Job 5",
                  "marker": {
                    "color": "#FFA15A"
                  },
                  "name": "Job 5",
                  "offsetgroup": "Job 5",
                  "orientation": "h",
                  "showlegend": true,
                  "textposition": "auto",
                  "type": "bar",
                  "x": [
                    172800000,
                    259200000,
                    172800000,
                    518400000
                  ],
                  "xaxis": "x",
                  "y": [
                    "Machine 0",
                    "Machine 1",
                    "Machine 2",
                    "Machine 3"
                  ],
                  "yaxis": "y"
                },
                {
                  "alignmentgroup": "True",
                  "base": [
                    "1971-01-09",
                    "1971-01-19",
                    "1971-01-22",
                    "1971-02-03"
                  ],
                  "hovertemplate": "Resource=Job 8<br>Start=%{base}<br>Finish=%{x}<br>Task=%{y}<extra></extra>",
                  "legendgroup": "Job 8",
                  "marker": {
                    "color": "#19d3f3"
                  },
                  "name": "Job 8",
                  "offsetgroup": "Job 8",
                  "orientation": "h",
                  "showlegend": true,
                  "textposition": "auto",
                  "type": "bar",
                  "x": [
                    432000000,
                    172800000,
                    86400000,
                    86400000
                  ],
                  "xaxis": "x",
                  "y": [
                    "Machine 0",
                    "Machine 1",
                    "Machine 2",
                    "Machine 3"
                  ],
                  "yaxis": "y"
                },
                {
                  "alignmentgroup": "True",
                  "base": [
                    "1971-01-14",
                    "1971-01-21",
                    "1971-01-31",
                    "1971-02-04"
                  ],
                  "hovertemplate": "Resource=Job 3<br>Start=%{base}<br>Finish=%{x}<br>Task=%{y}<extra></extra>",
                  "legendgroup": "Job 3",
                  "marker": {
                    "color": "#FF6692"
                  },
                  "name": "Job 3",
                  "offsetgroup": "Job 3",
                  "orientation": "h",
                  "showlegend": true,
                  "textposition": "auto",
                  "type": "bar",
                  "x": [
                    345600000,
                    864000000,
                    259200000,
                    86400000
                  ],
                  "xaxis": "x",
                  "y": [
                    "Machine 0",
                    "Machine 1",
                    "Machine 2",
                    "Machine 3"
                  ],
                  "yaxis": "y"
                },
                {
                  "alignmentgroup": "True",
                  "base": [
                    "1971-01-18",
                    "1971-01-31",
                    "1971-02-03",
                    "1971-02-05"
                  ],
                  "hovertemplate": "Resource=Job 7<br>Start=%{base}<br>Finish=%{x}<br>Task=%{y}<extra></extra>",
                  "legendgroup": "Job 7",
                  "marker": {
                    "color": "#B6E880"
                  },
                  "name": "Job 7",
                  "offsetgroup": "Job 7",
                  "orientation": "h",
                  "showlegend": true,
                  "textposition": "auto",
                  "type": "bar",
                  "x": [
                    172800000,
                    259200000,
                    172800000,
                    518400000
                  ],
                  "xaxis": "x",
                  "y": [
                    "Machine 0",
                    "Machine 1",
                    "Machine 2",
                    "Machine 3"
                  ],
                  "yaxis": "y"
                },
                {
                  "alignmentgroup": "True",
                  "base": [
                    "1971-01-20",
                    "1971-02-03",
                    "1971-02-05",
                    "1971-02-11"
                  ],
                  "hovertemplate": "Resource=Job 6<br>Start=%{base}<br>Finish=%{x}<br>Task=%{y}<extra></extra>",
                  "legendgroup": "Job 6",
                  "marker": {
                    "color": "#FF97FF"
                  },
                  "name": "Job 6",
                  "offsetgroup": "Job 6",
                  "orientation": "h",
                  "showlegend": true,
                  "textposition": "auto",
                  "type": "bar",
                  "x": [
                    432000000,
                    172800000,
                    86400000,
                    86400000
                  ],
                  "xaxis": "x",
                  "y": [
                    "Machine 0",
                    "Machine 1",
                    "Machine 2",
                    "Machine 3"
                  ],
                  "yaxis": "y"
                }
              ],
              "layout": {
                "barmode": "overlay",
                "legend": {
                  "title": {
                    "text": "Resource"
                  },
                  "tracegroupgap": 0
                },
                "margin": {
                  "t": 60
                },
                "template": {
                  "data": {
                    "bar": [
                      {
                        "error_x": {
                          "color": "#2a3f5f"
                        },
                        "error_y": {
                          "color": "#2a3f5f"
                        },
                        "marker": {
                          "line": {
                            "color": "#E5ECF6",
                            "width": 0.5
                          }
                        },
                        "type": "bar"
                      }
                    ],
                    "barpolar": [
                      {
                        "marker": {
                          "line": {
                            "color": "#E5ECF6",
                            "width": 0.5
                          }
                        },
                        "type": "barpolar"
                      }
                    ],
                    "carpet": [
                      {
                        "aaxis": {
                          "endlinecolor": "#2a3f5f",
                          "gridcolor": "white",
                          "linecolor": "white",
                          "minorgridcolor": "white",
                          "startlinecolor": "#2a3f5f"
                        },
                        "baxis": {
                          "endlinecolor": "#2a3f5f",
                          "gridcolor": "white",
                          "linecolor": "white",
                          "minorgridcolor": "white",
                          "startlinecolor": "#2a3f5f"
                        },
                        "type": "carpet"
                      }
                    ],
                    "choropleth": [
                      {
                        "colorbar": {
                          "outlinewidth": 0,
                          "ticks": ""
                        },
                        "type": "choropleth"
                      }
                    ],
                    "contour": [
                      {
                        "colorbar": {
                          "outlinewidth": 0,
                          "ticks": ""
                        },
                        "colorscale": [
                          [
                            0,
                            "#0d0887"
                          ],
                          [
                            0.1111111111111111,
                            "#46039f"
                          ],
                          [
                            0.2222222222222222,
                            "#7201a8"
                          ],
                          [
                            0.3333333333333333,
                            "#9c179e"
                          ],
                          [
                            0.4444444444444444,
                            "#bd3786"
                          ],
                          [
                            0.5555555555555556,
                            "#d8576b"
                          ],
                          [
                            0.6666666666666666,
                            "#ed7953"
                          ],
                          [
                            0.7777777777777778,
                            "#fb9f3a"
                          ],
                          [
                            0.8888888888888888,
                            "#fdca26"
                          ],
                          [
                            1,
                            "#f0f921"
                          ]
                        ],
                        "type": "contour"
                      }
                    ],
                    "contourcarpet": [
                      {
                        "colorbar": {
                          "outlinewidth": 0,
                          "ticks": ""
                        },
                        "type": "contourcarpet"
                      }
                    ],
                    "heatmap": [
                      {
                        "colorbar": {
                          "outlinewidth": 0,
                          "ticks": ""
                        },
                        "colorscale": [
                          [
                            0,
                            "#0d0887"
                          ],
                          [
                            0.1111111111111111,
                            "#46039f"
                          ],
                          [
                            0.2222222222222222,
                            "#7201a8"
                          ],
                          [
                            0.3333333333333333,
                            "#9c179e"
                          ],
                          [
                            0.4444444444444444,
                            "#bd3786"
                          ],
                          [
                            0.5555555555555556,
                            "#d8576b"
                          ],
                          [
                            0.6666666666666666,
                            "#ed7953"
                          ],
                          [
                            0.7777777777777778,
                            "#fb9f3a"
                          ],
                          [
                            0.8888888888888888,
                            "#fdca26"
                          ],
                          [
                            1,
                            "#f0f921"
                          ]
                        ],
                        "type": "heatmap"
                      }
                    ],
                    "heatmapgl": [
                      {
                        "colorbar": {
                          "outlinewidth": 0,
                          "ticks": ""
                        },
                        "colorscale": [
                          [
                            0,
                            "#0d0887"
                          ],
                          [
                            0.1111111111111111,
                            "#46039f"
                          ],
                          [
                            0.2222222222222222,
                            "#7201a8"
                          ],
                          [
                            0.3333333333333333,
                            "#9c179e"
                          ],
                          [
                            0.4444444444444444,
                            "#bd3786"
                          ],
                          [
                            0.5555555555555556,
                            "#d8576b"
                          ],
                          [
                            0.6666666666666666,
                            "#ed7953"
                          ],
                          [
                            0.7777777777777778,
                            "#fb9f3a"
                          ],
                          [
                            0.8888888888888888,
                            "#fdca26"
                          ],
                          [
                            1,
                            "#f0f921"
                          ]
                        ],
                        "type": "heatmapgl"
                      }
                    ],
                    "histogram": [
                      {
                        "marker": {
                          "colorbar": {
                            "outlinewidth": 0,
                            "ticks": ""
                          }
                        },
                        "type": "histogram"
                      }
                    ],
                    "histogram2d": [
                      {
                        "colorbar": {
                          "outlinewidth": 0,
                          "ticks": ""
                        },
                        "colorscale": [
                          [
                            0,
                            "#0d0887"
                          ],
                          [
                            0.1111111111111111,
                            "#46039f"
                          ],
                          [
                            0.2222222222222222,
                            "#7201a8"
                          ],
                          [
                            0.3333333333333333,
                            "#9c179e"
                          ],
                          [
                            0.4444444444444444,
                            "#bd3786"
                          ],
                          [
                            0.5555555555555556,
                            "#d8576b"
                          ],
                          [
                            0.6666666666666666,
                            "#ed7953"
                          ],
                          [
                            0.7777777777777778,
                            "#fb9f3a"
                          ],
                          [
                            0.8888888888888888,
                            "#fdca26"
                          ],
                          [
                            1,
                            "#f0f921"
                          ]
                        ],
                        "type": "histogram2d"
                      }
                    ],
                    "histogram2dcontour": [
                      {
                        "colorbar": {
                          "outlinewidth": 0,
                          "ticks": ""
                        },
                        "colorscale": [
                          [
                            0,
                            "#0d0887"
                          ],
                          [
                            0.1111111111111111,
                            "#46039f"
                          ],
                          [
                            0.2222222222222222,
                            "#7201a8"
                          ],
                          [
                            0.3333333333333333,
                            "#9c179e"
                          ],
                          [
                            0.4444444444444444,
                            "#bd3786"
                          ],
                          [
                            0.5555555555555556,
                            "#d8576b"
                          ],
                          [
                            0.6666666666666666,
                            "#ed7953"
                          ],
                          [
                            0.7777777777777778,
                            "#fb9f3a"
                          ],
                          [
                            0.8888888888888888,
                            "#fdca26"
                          ],
                          [
                            1,
                            "#f0f921"
                          ]
                        ],
                        "type": "histogram2dcontour"
                      }
                    ],
                    "mesh3d": [
                      {
                        "colorbar": {
                          "outlinewidth": 0,
                          "ticks": ""
                        },
                        "type": "mesh3d"
                      }
                    ],
                    "parcoords": [
                      {
                        "line": {
                          "colorbar": {
                            "outlinewidth": 0,
                            "ticks": ""
                          }
                        },
                        "type": "parcoords"
                      }
                    ],
                    "pie": [
                      {
                        "automargin": true,
                        "type": "pie"
                      }
                    ],
                    "scatter": [
                      {
                        "marker": {
                          "colorbar": {
                            "outlinewidth": 0,
                            "ticks": ""
                          }
                        },
                        "type": "scatter"
                      }
                    ],
                    "scatter3d": [
                      {
                        "line": {
                          "colorbar": {
                            "outlinewidth": 0,
                            "ticks": ""
                          }
                        },
                        "marker": {
                          "colorbar": {
                            "outlinewidth": 0,
                            "ticks": ""
                          }
                        },
                        "type": "scatter3d"
                      }
                    ],
                    "scattercarpet": [
                      {
                        "marker": {
                          "colorbar": {
                            "outlinewidth": 0,
                            "ticks": ""
                          }
                        },
                        "type": "scattercarpet"
                      }
                    ],
                    "scattergeo": [
                      {
                        "marker": {
                          "colorbar": {
                            "outlinewidth": 0,
                            "ticks": ""
                          }
                        },
                        "type": "scattergeo"
                      }
                    ],
                    "scattergl": [
                      {
                        "marker": {
                          "colorbar": {
                            "outlinewidth": 0,
                            "ticks": ""
                          }
                        },
                        "type": "scattergl"
                      }
                    ],
                    "scattermapbox": [
                      {
                        "marker": {
                          "colorbar": {
                            "outlinewidth": 0,
                            "ticks": ""
                          }
                        },
                        "type": "scattermapbox"
                      }
                    ],
                    "scatterpolar": [
                      {
                        "marker": {
                          "colorbar": {
                            "outlinewidth": 0,
                            "ticks": ""
                          }
                        },
                        "type": "scatterpolar"
                      }
                    ],
                    "scatterpolargl": [
                      {
                        "marker": {
                          "colorbar": {
                            "outlinewidth": 0,
                            "ticks": ""
                          }
                        },
                        "type": "scatterpolargl"
                      }
                    ],
                    "scatterternary": [
                      {
                        "marker": {
                          "colorbar": {
                            "outlinewidth": 0,
                            "ticks": ""
                          }
                        },
                        "type": "scatterternary"
                      }
                    ],
                    "surface": [
                      {
                        "colorbar": {
                          "outlinewidth": 0,
                          "ticks": ""
                        },
                        "colorscale": [
                          [
                            0,
                            "#0d0887"
                          ],
                          [
                            0.1111111111111111,
                            "#46039f"
                          ],
                          [
                            0.2222222222222222,
                            "#7201a8"
                          ],
                          [
                            0.3333333333333333,
                            "#9c179e"
                          ],
                          [
                            0.4444444444444444,
                            "#bd3786"
                          ],
                          [
                            0.5555555555555556,
                            "#d8576b"
                          ],
                          [
                            0.6666666666666666,
                            "#ed7953"
                          ],
                          [
                            0.7777777777777778,
                            "#fb9f3a"
                          ],
                          [
                            0.8888888888888888,
                            "#fdca26"
                          ],
                          [
                            1,
                            "#f0f921"
                          ]
                        ],
                        "type": "surface"
                      }
                    ],
                    "table": [
                      {
                        "cells": {
                          "fill": {
                            "color": "#EBF0F8"
                          },
                          "line": {
                            "color": "white"
                          }
                        },
                        "header": {
                          "fill": {
                            "color": "#C8D4E3"
                          },
                          "line": {
                            "color": "white"
                          }
                        },
                        "type": "table"
                      }
                    ]
                  },
                  "layout": {
                    "annotationdefaults": {
                      "arrowcolor": "#2a3f5f",
                      "arrowhead": 0,
                      "arrowwidth": 1
                    },
                    "autotypenumbers": "strict",
                    "coloraxis": {
                      "colorbar": {
                        "outlinewidth": 0,
                        "ticks": ""
                      }
                    },
                    "colorscale": {
                      "diverging": [
                        [
                          0,
                          "#8e0152"
                        ],
                        [
                          0.1,
                          "#c51b7d"
                        ],
                        [
                          0.2,
                          "#de77ae"
                        ],
                        [
                          0.3,
                          "#f1b6da"
                        ],
                        [
                          0.4,
                          "#fde0ef"
                        ],
                        [
                          0.5,
                          "#f7f7f7"
                        ],
                        [
                          0.6,
                          "#e6f5d0"
                        ],
                        [
                          0.7,
                          "#b8e186"
                        ],
                        [
                          0.8,
                          "#7fbc41"
                        ],
                        [
                          0.9,
                          "#4d9221"
                        ],
                        [
                          1,
                          "#276419"
                        ]
                      ],
                      "sequential": [
                        [
                          0,
                          "#0d0887"
                        ],
                        [
                          0.1111111111111111,
                          "#46039f"
                        ],
                        [
                          0.2222222222222222,
                          "#7201a8"
                        ],
                        [
                          0.3333333333333333,
                          "#9c179e"
                        ],
                        [
                          0.4444444444444444,
                          "#bd3786"
                        ],
                        [
                          0.5555555555555556,
                          "#d8576b"
                        ],
                        [
                          0.6666666666666666,
                          "#ed7953"
                        ],
                        [
                          0.7777777777777778,
                          "#fb9f3a"
                        ],
                        [
                          0.8888888888888888,
                          "#fdca26"
                        ],
                        [
                          1,
                          "#f0f921"
                        ]
                      ],
                      "sequentialminus": [
                        [
                          0,
                          "#0d0887"
                        ],
                        [
                          0.1111111111111111,
                          "#46039f"
                        ],
                        [
                          0.2222222222222222,
                          "#7201a8"
                        ],
                        [
                          0.3333333333333333,
                          "#9c179e"
                        ],
                        [
                          0.4444444444444444,
                          "#bd3786"
                        ],
                        [
                          0.5555555555555556,
                          "#d8576b"
                        ],
                        [
                          0.6666666666666666,
                          "#ed7953"
                        ],
                        [
                          0.7777777777777778,
                          "#fb9f3a"
                        ],
                        [
                          0.8888888888888888,
                          "#fdca26"
                        ],
                        [
                          1,
                          "#f0f921"
                        ]
                      ]
                    },
                    "colorway": [
                      "#636efa",
                      "#EF553B",
                      "#00cc96",
                      "#ab63fa",
                      "#FFA15A",
                      "#19d3f3",
                      "#FF6692",
                      "#B6E880",
                      "#FF97FF",
                      "#FECB52"
                    ],
                    "font": {
                      "color": "#2a3f5f"
                    },
                    "geo": {
                      "bgcolor": "white",
                      "lakecolor": "white",
                      "landcolor": "#E5ECF6",
                      "showlakes": true,
                      "showland": true,
                      "subunitcolor": "white"
                    },
                    "hoverlabel": {
                      "align": "left"
                    },
                    "hovermode": "closest",
                    "mapbox": {
                      "style": "light"
                    },
                    "paper_bgcolor": "white",
                    "plot_bgcolor": "#E5ECF6",
                    "polar": {
                      "angularaxis": {
                        "gridcolor": "white",
                        "linecolor": "white",
                        "ticks": ""
                      },
                      "bgcolor": "#E5ECF6",
                      "radialaxis": {
                        "gridcolor": "white",
                        "linecolor": "white",
                        "ticks": ""
                      }
                    },
                    "scene": {
                      "xaxis": {
                        "backgroundcolor": "#E5ECF6",
                        "gridcolor": "white",
                        "gridwidth": 2,
                        "linecolor": "white",
                        "showbackground": true,
                        "ticks": "",
                        "zerolinecolor": "white"
                      },
                      "yaxis": {
                        "backgroundcolor": "#E5ECF6",
                        "gridcolor": "white",
                        "gridwidth": 2,
                        "linecolor": "white",
                        "showbackground": true,
                        "ticks": "",
                        "zerolinecolor": "white"
                      },
                      "zaxis": {
                        "backgroundcolor": "#E5ECF6",
                        "gridcolor": "white",
                        "gridwidth": 2,
                        "linecolor": "white",
                        "showbackground": true,
                        "ticks": "",
                        "zerolinecolor": "white"
                      }
                    },
                    "shapedefaults": {
                      "line": {
                        "color": "#2a3f5f"
                      }
                    },
                    "ternary": {
                      "aaxis": {
                        "gridcolor": "white",
                        "linecolor": "white",
                        "ticks": ""
                      },
                      "baxis": {
                        "gridcolor": "white",
                        "linecolor": "white",
                        "ticks": ""
                      },
                      "bgcolor": "#E5ECF6",
                      "caxis": {
                        "gridcolor": "white",
                        "linecolor": "white",
                        "ticks": ""
                      }
                    },
                    "title": {
                      "x": 0.05
                    },
                    "xaxis": {
                      "automargin": true,
                      "gridcolor": "white",
                      "linecolor": "white",
                      "ticks": "",
                      "title": {
                        "standoff": 15
                      },
                      "zerolinecolor": "white",
                      "zerolinewidth": 2
                    },
                    "yaxis": {
                      "automargin": true,
                      "gridcolor": "white",
                      "linecolor": "white",
                      "ticks": "",
                      "title": {
                        "standoff": 15
                      },
                      "zerolinecolor": "white",
                      "zerolinewidth": 2
                    }
                  }
                },
                "xaxis": {
                  "anchor": "y",
                  "domain": [
                    0,
                    1
                  ],
                  "ticktext": [
                    0,
                    1,
                    2,
                    3,
                    4,
                    5,
                    6,
                    7,
                    8,
                    9,
                    10,
                    11,
                    12,
                    13,
                    14,
                    15,
                    16,
                    17,
                    18,
                    19,
                    20,
                    21,
                    22,
                    23,
                    24,
                    25,
                    26,
                    27,
                    28,
                    29,
                    30,
                    31,
                    32,
                    33,
                    34,
                    35,
                    36,
                    37,
                    38,
                    39,
                    40,
                    41,
                    42
                  ],
                  "tickvals": [
                    "1971-01-01",
                    "1971-01-02",
                    "1971-01-03",
                    "1971-01-04",
                    "1971-01-05",
                    "1971-01-06",
                    "1971-01-07",
                    "1971-01-08",
                    "1971-01-09",
                    "1971-01-10",
                    "1971-01-11",
                    "1971-01-12",
                    "1971-01-13",
                    "1971-01-14",
                    "1971-01-15",
                    "1971-01-16",
                    "1971-01-17",
                    "1971-01-18",
                    "1971-01-19",
                    "1971-01-20",
                    "1971-01-21",
                    "1971-01-22",
                    "1971-01-23",
                    "1971-01-24",
                    "1971-01-25",
                    "1971-01-26",
                    "1971-01-27",
                    "1971-01-28",
                    "1971-01-29",
                    "1971-01-30",
                    "1971-01-31",
                    "1971-02-01",
                    "1971-02-02",
                    "1971-02-03",
                    "1971-02-04",
                    "1971-02-05",
                    "1971-02-06",
                    "1971-02-07",
                    "1971-02-08",
                    "1971-02-09",
                    "1971-02-10",
                    "1971-02-11",
                    "1971-02-12"
                  ],
                  "type": "date"
                },
                "yaxis": {
                  "anchor": "x",
                  "domain": [
                    0,
                    1
                  ],
                  "title": {
                    "text": "Task"
                  }
                }
              }
            }
          },
          "metadata": {}
        }
      ],
      "source": [
        "import plotly.figure_factory as ff\n",
        "from datetime import datetime\n",
        "import numpy as np\n",
        "import plotly.express as px\n",
        "instance4 = Instance(\n",
        "    np.array([\n",
        "        [1,2,3,2],\n",
        "        [1,4,2,10],\n",
        "        [3,2,1,5],\n",
        "        [4,10,3,1],\n",
        "        [1,5,4,4],\n",
        "        [2,3,2,6],\n",
        "        [5,2,1,1],\n",
        "        [2,3,2,6],\n",
        "        [5,2,1,1],\n",
        "    ], dtype=np.int64)\n",
        ")\n",
        "results = branch_and_bound.get_results(instance4,search_strategy=branch_and_bound.DEPTH_FIRST_SEARCH,use_heuristique_init=True,log=False)\n",
        "print(results)\n",
        "res = instance4.get_chart_data(results)\n",
        "\n",
        "fig = px.timeline(res['df'], x_start=\"Start\", x_end=\"Finish\", y=\"Task\", color=\"Resource\")\n",
        "fig.layout.xaxis.update({\n",
        "        'tickvals' : res['date_ticks'],\n",
        "        'ticktext' : res['num_tick_labels']\n",
        "        })\n",
        "fig.show()"
      ]
    },
    {
      "cell_type": "code",
      "execution_count": 5,
      "metadata": {},
      "outputs": [
        {
          "output_type": "stream",
          "name": "stdout",
          "text": [
            "start seq(0, 1, 2, 3, 4, 5, 6, 7, 8)\n",
            "upper bound 46.0\n",
            "{'C_max': 42.0, 'order': [0, 2, 1, 4, 5, 8, 3, 7, 6], 'details': {'explored': 229925, 'pruned': 180532, 'leafs': 3, 'time': 5.519897700000001}}\n"
          ]
        },
        {
          "output_type": "display_data",
          "data": {
            "application/vnd.plotly.v1+json": {
              "config": {
                "plotlyServerURL": "https://plot.ly"
              },
              "data": [
                {
                  "alignmentgroup": "True",
                  "base": [
                    "1971-01-01",
                    "1971-01-02",
                    "1971-01-04",
                    "1971-01-07"
                  ],
                  "hovertemplate": "Resource=Job 0<br>Start=%{base}<br>Finish=%{x}<br>Task=%{y}<extra></extra>",
                  "legendgroup": "Job 0",
                  "marker": {
                    "color": "#636efa"
                  },
                  "name": "Job 0",
                  "offsetgroup": "Job 0",
                  "orientation": "h",
                  "showlegend": true,
                  "textposition": "auto",
                  "type": "bar",
                  "x": [
                    86400000,
                    172800000,
                    259200000,
                    172800000
                  ],
                  "xaxis": "x",
                  "y": [
                    "Machine 0",
                    "Machine 1",
                    "Machine 2",
                    "Machine 3"
                  ],
                  "yaxis": "y"
                },
                {
                  "alignmentgroup": "True",
                  "base": [
                    "1971-01-02",
                    "1971-01-05",
                    "1971-01-07",
                    "1971-01-09"
                  ],
                  "hovertemplate": "Resource=Job 2<br>Start=%{base}<br>Finish=%{x}<br>Task=%{y}<extra></extra>",
                  "legendgroup": "Job 2",
                  "marker": {
                    "color": "#EF553B"
                  },
                  "name": "Job 2",
                  "offsetgroup": "Job 2",
                  "orientation": "h",
                  "showlegend": true,
                  "textposition": "auto",
                  "type": "bar",
                  "x": [
                    259200000,
                    172800000,
                    86400000,
                    432000000
                  ],
                  "xaxis": "x",
                  "y": [
                    "Machine 0",
                    "Machine 1",
                    "Machine 2",
                    "Machine 3"
                  ],
                  "yaxis": "y"
                },
                {
                  "alignmentgroup": "True",
                  "base": [
                    "1971-01-05",
                    "1971-01-07",
                    "1971-01-11",
                    "1971-01-14"
                  ],
                  "hovertemplate": "Resource=Job 1<br>Start=%{base}<br>Finish=%{x}<br>Task=%{y}<extra></extra>",
                  "legendgroup": "Job 1",
                  "marker": {
                    "color": "#00cc96"
                  },
                  "name": "Job 1",
                  "offsetgroup": "Job 1",
                  "orientation": "h",
                  "showlegend": true,
                  "textposition": "auto",
                  "type": "bar",
                  "x": [
                    86400000,
                    345600000,
                    172800000,
                    864000000
                  ],
                  "xaxis": "x",
                  "y": [
                    "Machine 0",
                    "Machine 1",
                    "Machine 2",
                    "Machine 3"
                  ],
                  "yaxis": "y"
                },
                {
                  "alignmentgroup": "True",
                  "base": [
                    "1971-01-06",
                    "1971-01-11",
                    "1971-01-16",
                    "1971-01-24"
                  ],
                  "hovertemplate": "Resource=Job 4<br>Start=%{base}<br>Finish=%{x}<br>Task=%{y}<extra></extra>",
                  "legendgroup": "Job 4",
                  "marker": {
                    "color": "#ab63fa"
                  },
                  "name": "Job 4",
                  "offsetgroup": "Job 4",
                  "orientation": "h",
                  "showlegend": true,
                  "textposition": "auto",
                  "type": "bar",
                  "x": [
                    86400000,
                    432000000,
                    345600000,
                    345600000
                  ],
                  "xaxis": "x",
                  "y": [
                    "Machine 0",
                    "Machine 1",
                    "Machine 2",
                    "Machine 3"
                  ],
                  "yaxis": "y"
                },
                {
                  "alignmentgroup": "True",
                  "base": [
                    "1971-01-07",
                    "1971-01-16",
                    "1971-01-20",
                    "1971-01-28"
                  ],
                  "hovertemplate": "Resource=Job 5<br>Start=%{base}<br>Finish=%{x}<br>Task=%{y}<extra></extra>",
                  "legendgroup": "Job 5",
                  "marker": {
                    "color": "#FFA15A"
                  },
                  "name": "Job 5",
                  "offsetgroup": "Job 5",
                  "orientation": "h",
                  "showlegend": true,
                  "textposition": "auto",
                  "type": "bar",
                  "x": [
                    172800000,
                    259200000,
                    172800000,
                    518400000
                  ],
                  "xaxis": "x",
                  "y": [
                    "Machine 0",
                    "Machine 1",
                    "Machine 2",
                    "Machine 3"
                  ],
                  "yaxis": "y"
                },
                {
                  "alignmentgroup": "True",
                  "base": [
                    "1971-01-09",
                    "1971-01-19",
                    "1971-01-22",
                    "1971-02-03"
                  ],
                  "hovertemplate": "Resource=Job 8<br>Start=%{base}<br>Finish=%{x}<br>Task=%{y}<extra></extra>",
                  "legendgroup": "Job 8",
                  "marker": {
                    "color": "#19d3f3"
                  },
                  "name": "Job 8",
                  "offsetgroup": "Job 8",
                  "orientation": "h",
                  "showlegend": true,
                  "textposition": "auto",
                  "type": "bar",
                  "x": [
                    432000000,
                    172800000,
                    86400000,
                    86400000
                  ],
                  "xaxis": "x",
                  "y": [
                    "Machine 0",
                    "Machine 1",
                    "Machine 2",
                    "Machine 3"
                  ],
                  "yaxis": "y"
                },
                {
                  "alignmentgroup": "True",
                  "base": [
                    "1971-01-14",
                    "1971-01-21",
                    "1971-01-31",
                    "1971-02-04"
                  ],
                  "hovertemplate": "Resource=Job 3<br>Start=%{base}<br>Finish=%{x}<br>Task=%{y}<extra></extra>",
                  "legendgroup": "Job 3",
                  "marker": {
                    "color": "#FF6692"
                  },
                  "name": "Job 3",
                  "offsetgroup": "Job 3",
                  "orientation": "h",
                  "showlegend": true,
                  "textposition": "auto",
                  "type": "bar",
                  "x": [
                    345600000,
                    864000000,
                    259200000,
                    86400000
                  ],
                  "xaxis": "x",
                  "y": [
                    "Machine 0",
                    "Machine 1",
                    "Machine 2",
                    "Machine 3"
                  ],
                  "yaxis": "y"
                },
                {
                  "alignmentgroup": "True",
                  "base": [
                    "1971-01-18",
                    "1971-01-31",
                    "1971-02-03",
                    "1971-02-05"
                  ],
                  "hovertemplate": "Resource=Job 7<br>Start=%{base}<br>Finish=%{x}<br>Task=%{y}<extra></extra>",
                  "legendgroup": "Job 7",
                  "marker": {
                    "color": "#B6E880"
                  },
                  "name": "Job 7",
                  "offsetgroup": "Job 7",
                  "orientation": "h",
                  "showlegend": true,
                  "textposition": "auto",
                  "type": "bar",
                  "x": [
                    172800000,
                    259200000,
                    172800000,
                    518400000
                  ],
                  "xaxis": "x",
                  "y": [
                    "Machine 0",
                    "Machine 1",
                    "Machine 2",
                    "Machine 3"
                  ],
                  "yaxis": "y"
                },
                {
                  "alignmentgroup": "True",
                  "base": [
                    "1971-01-20",
                    "1971-02-03",
                    "1971-02-05",
                    "1971-02-11"
                  ],
                  "hovertemplate": "Resource=Job 6<br>Start=%{base}<br>Finish=%{x}<br>Task=%{y}<extra></extra>",
                  "legendgroup": "Job 6",
                  "marker": {
                    "color": "#FF97FF"
                  },
                  "name": "Job 6",
                  "offsetgroup": "Job 6",
                  "orientation": "h",
                  "showlegend": true,
                  "textposition": "auto",
                  "type": "bar",
                  "x": [
                    432000000,
                    172800000,
                    86400000,
                    86400000
                  ],
                  "xaxis": "x",
                  "y": [
                    "Machine 0",
                    "Machine 1",
                    "Machine 2",
                    "Machine 3"
                  ],
                  "yaxis": "y"
                }
              ],
              "layout": {
                "barmode": "overlay",
                "legend": {
                  "title": {
                    "text": "Resource"
                  },
                  "tracegroupgap": 0
                },
                "margin": {
                  "t": 60
                },
                "template": {
                  "data": {
                    "bar": [
                      {
                        "error_x": {
                          "color": "#2a3f5f"
                        },
                        "error_y": {
                          "color": "#2a3f5f"
                        },
                        "marker": {
                          "line": {
                            "color": "#E5ECF6",
                            "width": 0.5
                          }
                        },
                        "type": "bar"
                      }
                    ],
                    "barpolar": [
                      {
                        "marker": {
                          "line": {
                            "color": "#E5ECF6",
                            "width": 0.5
                          }
                        },
                        "type": "barpolar"
                      }
                    ],
                    "carpet": [
                      {
                        "aaxis": {
                          "endlinecolor": "#2a3f5f",
                          "gridcolor": "white",
                          "linecolor": "white",
                          "minorgridcolor": "white",
                          "startlinecolor": "#2a3f5f"
                        },
                        "baxis": {
                          "endlinecolor": "#2a3f5f",
                          "gridcolor": "white",
                          "linecolor": "white",
                          "minorgridcolor": "white",
                          "startlinecolor": "#2a3f5f"
                        },
                        "type": "carpet"
                      }
                    ],
                    "choropleth": [
                      {
                        "colorbar": {
                          "outlinewidth": 0,
                          "ticks": ""
                        },
                        "type": "choropleth"
                      }
                    ],
                    "contour": [
                      {
                        "colorbar": {
                          "outlinewidth": 0,
                          "ticks": ""
                        },
                        "colorscale": [
                          [
                            0,
                            "#0d0887"
                          ],
                          [
                            0.1111111111111111,
                            "#46039f"
                          ],
                          [
                            0.2222222222222222,
                            "#7201a8"
                          ],
                          [
                            0.3333333333333333,
                            "#9c179e"
                          ],
                          [
                            0.4444444444444444,
                            "#bd3786"
                          ],
                          [
                            0.5555555555555556,
                            "#d8576b"
                          ],
                          [
                            0.6666666666666666,
                            "#ed7953"
                          ],
                          [
                            0.7777777777777778,
                            "#fb9f3a"
                          ],
                          [
                            0.8888888888888888,
                            "#fdca26"
                          ],
                          [
                            1,
                            "#f0f921"
                          ]
                        ],
                        "type": "contour"
                      }
                    ],
                    "contourcarpet": [
                      {
                        "colorbar": {
                          "outlinewidth": 0,
                          "ticks": ""
                        },
                        "type": "contourcarpet"
                      }
                    ],
                    "heatmap": [
                      {
                        "colorbar": {
                          "outlinewidth": 0,
                          "ticks": ""
                        },
                        "colorscale": [
                          [
                            0,
                            "#0d0887"
                          ],
                          [
                            0.1111111111111111,
                            "#46039f"
                          ],
                          [
                            0.2222222222222222,
                            "#7201a8"
                          ],
                          [
                            0.3333333333333333,
                            "#9c179e"
                          ],
                          [
                            0.4444444444444444,
                            "#bd3786"
                          ],
                          [
                            0.5555555555555556,
                            "#d8576b"
                          ],
                          [
                            0.6666666666666666,
                            "#ed7953"
                          ],
                          [
                            0.7777777777777778,
                            "#fb9f3a"
                          ],
                          [
                            0.8888888888888888,
                            "#fdca26"
                          ],
                          [
                            1,
                            "#f0f921"
                          ]
                        ],
                        "type": "heatmap"
                      }
                    ],
                    "heatmapgl": [
                      {
                        "colorbar": {
                          "outlinewidth": 0,
                          "ticks": ""
                        },
                        "colorscale": [
                          [
                            0,
                            "#0d0887"
                          ],
                          [
                            0.1111111111111111,
                            "#46039f"
                          ],
                          [
                            0.2222222222222222,
                            "#7201a8"
                          ],
                          [
                            0.3333333333333333,
                            "#9c179e"
                          ],
                          [
                            0.4444444444444444,
                            "#bd3786"
                          ],
                          [
                            0.5555555555555556,
                            "#d8576b"
                          ],
                          [
                            0.6666666666666666,
                            "#ed7953"
                          ],
                          [
                            0.7777777777777778,
                            "#fb9f3a"
                          ],
                          [
                            0.8888888888888888,
                            "#fdca26"
                          ],
                          [
                            1,
                            "#f0f921"
                          ]
                        ],
                        "type": "heatmapgl"
                      }
                    ],
                    "histogram": [
                      {
                        "marker": {
                          "colorbar": {
                            "outlinewidth": 0,
                            "ticks": ""
                          }
                        },
                        "type": "histogram"
                      }
                    ],
                    "histogram2d": [
                      {
                        "colorbar": {
                          "outlinewidth": 0,
                          "ticks": ""
                        },
                        "colorscale": [
                          [
                            0,
                            "#0d0887"
                          ],
                          [
                            0.1111111111111111,
                            "#46039f"
                          ],
                          [
                            0.2222222222222222,
                            "#7201a8"
                          ],
                          [
                            0.3333333333333333,
                            "#9c179e"
                          ],
                          [
                            0.4444444444444444,
                            "#bd3786"
                          ],
                          [
                            0.5555555555555556,
                            "#d8576b"
                          ],
                          [
                            0.6666666666666666,
                            "#ed7953"
                          ],
                          [
                            0.7777777777777778,
                            "#fb9f3a"
                          ],
                          [
                            0.8888888888888888,
                            "#fdca26"
                          ],
                          [
                            1,
                            "#f0f921"
                          ]
                        ],
                        "type": "histogram2d"
                      }
                    ],
                    "histogram2dcontour": [
                      {
                        "colorbar": {
                          "outlinewidth": 0,
                          "ticks": ""
                        },
                        "colorscale": [
                          [
                            0,
                            "#0d0887"
                          ],
                          [
                            0.1111111111111111,
                            "#46039f"
                          ],
                          [
                            0.2222222222222222,
                            "#7201a8"
                          ],
                          [
                            0.3333333333333333,
                            "#9c179e"
                          ],
                          [
                            0.4444444444444444,
                            "#bd3786"
                          ],
                          [
                            0.5555555555555556,
                            "#d8576b"
                          ],
                          [
                            0.6666666666666666,
                            "#ed7953"
                          ],
                          [
                            0.7777777777777778,
                            "#fb9f3a"
                          ],
                          [
                            0.8888888888888888,
                            "#fdca26"
                          ],
                          [
                            1,
                            "#f0f921"
                          ]
                        ],
                        "type": "histogram2dcontour"
                      }
                    ],
                    "mesh3d": [
                      {
                        "colorbar": {
                          "outlinewidth": 0,
                          "ticks": ""
                        },
                        "type": "mesh3d"
                      }
                    ],
                    "parcoords": [
                      {
                        "line": {
                          "colorbar": {
                            "outlinewidth": 0,
                            "ticks": ""
                          }
                        },
                        "type": "parcoords"
                      }
                    ],
                    "pie": [
                      {
                        "automargin": true,
                        "type": "pie"
                      }
                    ],
                    "scatter": [
                      {
                        "marker": {
                          "colorbar": {
                            "outlinewidth": 0,
                            "ticks": ""
                          }
                        },
                        "type": "scatter"
                      }
                    ],
                    "scatter3d": [
                      {
                        "line": {
                          "colorbar": {
                            "outlinewidth": 0,
                            "ticks": ""
                          }
                        },
                        "marker": {
                          "colorbar": {
                            "outlinewidth": 0,
                            "ticks": ""
                          }
                        },
                        "type": "scatter3d"
                      }
                    ],
                    "scattercarpet": [
                      {
                        "marker": {
                          "colorbar": {
                            "outlinewidth": 0,
                            "ticks": ""
                          }
                        },
                        "type": "scattercarpet"
                      }
                    ],
                    "scattergeo": [
                      {
                        "marker": {
                          "colorbar": {
                            "outlinewidth": 0,
                            "ticks": ""
                          }
                        },
                        "type": "scattergeo"
                      }
                    ],
                    "scattergl": [
                      {
                        "marker": {
                          "colorbar": {
                            "outlinewidth": 0,
                            "ticks": ""
                          }
                        },
                        "type": "scattergl"
                      }
                    ],
                    "scattermapbox": [
                      {
                        "marker": {
                          "colorbar": {
                            "outlinewidth": 0,
                            "ticks": ""
                          }
                        },
                        "type": "scattermapbox"
                      }
                    ],
                    "scatterpolar": [
                      {
                        "marker": {
                          "colorbar": {
                            "outlinewidth": 0,
                            "ticks": ""
                          }
                        },
                        "type": "scatterpolar"
                      }
                    ],
                    "scatterpolargl": [
                      {
                        "marker": {
                          "colorbar": {
                            "outlinewidth": 0,
                            "ticks": ""
                          }
                        },
                        "type": "scatterpolargl"
                      }
                    ],
                    "scatterternary": [
                      {
                        "marker": {
                          "colorbar": {
                            "outlinewidth": 0,
                            "ticks": ""
                          }
                        },
                        "type": "scatterternary"
                      }
                    ],
                    "surface": [
                      {
                        "colorbar": {
                          "outlinewidth": 0,
                          "ticks": ""
                        },
                        "colorscale": [
                          [
                            0,
                            "#0d0887"
                          ],
                          [
                            0.1111111111111111,
                            "#46039f"
                          ],
                          [
                            0.2222222222222222,
                            "#7201a8"
                          ],
                          [
                            0.3333333333333333,
                            "#9c179e"
                          ],
                          [
                            0.4444444444444444,
                            "#bd3786"
                          ],
                          [
                            0.5555555555555556,
                            "#d8576b"
                          ],
                          [
                            0.6666666666666666,
                            "#ed7953"
                          ],
                          [
                            0.7777777777777778,
                            "#fb9f3a"
                          ],
                          [
                            0.8888888888888888,
                            "#fdca26"
                          ],
                          [
                            1,
                            "#f0f921"
                          ]
                        ],
                        "type": "surface"
                      }
                    ],
                    "table": [
                      {
                        "cells": {
                          "fill": {
                            "color": "#EBF0F8"
                          },
                          "line": {
                            "color": "white"
                          }
                        },
                        "header": {
                          "fill": {
                            "color": "#C8D4E3"
                          },
                          "line": {
                            "color": "white"
                          }
                        },
                        "type": "table"
                      }
                    ]
                  },
                  "layout": {
                    "annotationdefaults": {
                      "arrowcolor": "#2a3f5f",
                      "arrowhead": 0,
                      "arrowwidth": 1
                    },
                    "autotypenumbers": "strict",
                    "coloraxis": {
                      "colorbar": {
                        "outlinewidth": 0,
                        "ticks": ""
                      }
                    },
                    "colorscale": {
                      "diverging": [
                        [
                          0,
                          "#8e0152"
                        ],
                        [
                          0.1,
                          "#c51b7d"
                        ],
                        [
                          0.2,
                          "#de77ae"
                        ],
                        [
                          0.3,
                          "#f1b6da"
                        ],
                        [
                          0.4,
                          "#fde0ef"
                        ],
                        [
                          0.5,
                          "#f7f7f7"
                        ],
                        [
                          0.6,
                          "#e6f5d0"
                        ],
                        [
                          0.7,
                          "#b8e186"
                        ],
                        [
                          0.8,
                          "#7fbc41"
                        ],
                        [
                          0.9,
                          "#4d9221"
                        ],
                        [
                          1,
                          "#276419"
                        ]
                      ],
                      "sequential": [
                        [
                          0,
                          "#0d0887"
                        ],
                        [
                          0.1111111111111111,
                          "#46039f"
                        ],
                        [
                          0.2222222222222222,
                          "#7201a8"
                        ],
                        [
                          0.3333333333333333,
                          "#9c179e"
                        ],
                        [
                          0.4444444444444444,
                          "#bd3786"
                        ],
                        [
                          0.5555555555555556,
                          "#d8576b"
                        ],
                        [
                          0.6666666666666666,
                          "#ed7953"
                        ],
                        [
                          0.7777777777777778,
                          "#fb9f3a"
                        ],
                        [
                          0.8888888888888888,
                          "#fdca26"
                        ],
                        [
                          1,
                          "#f0f921"
                        ]
                      ],
                      "sequentialminus": [
                        [
                          0,
                          "#0d0887"
                        ],
                        [
                          0.1111111111111111,
                          "#46039f"
                        ],
                        [
                          0.2222222222222222,
                          "#7201a8"
                        ],
                        [
                          0.3333333333333333,
                          "#9c179e"
                        ],
                        [
                          0.4444444444444444,
                          "#bd3786"
                        ],
                        [
                          0.5555555555555556,
                          "#d8576b"
                        ],
                        [
                          0.6666666666666666,
                          "#ed7953"
                        ],
                        [
                          0.7777777777777778,
                          "#fb9f3a"
                        ],
                        [
                          0.8888888888888888,
                          "#fdca26"
                        ],
                        [
                          1,
                          "#f0f921"
                        ]
                      ]
                    },
                    "colorway": [
                      "#636efa",
                      "#EF553B",
                      "#00cc96",
                      "#ab63fa",
                      "#FFA15A",
                      "#19d3f3",
                      "#FF6692",
                      "#B6E880",
                      "#FF97FF",
                      "#FECB52"
                    ],
                    "font": {
                      "color": "#2a3f5f"
                    },
                    "geo": {
                      "bgcolor": "white",
                      "lakecolor": "white",
                      "landcolor": "#E5ECF6",
                      "showlakes": true,
                      "showland": true,
                      "subunitcolor": "white"
                    },
                    "hoverlabel": {
                      "align": "left"
                    },
                    "hovermode": "closest",
                    "mapbox": {
                      "style": "light"
                    },
                    "paper_bgcolor": "white",
                    "plot_bgcolor": "#E5ECF6",
                    "polar": {
                      "angularaxis": {
                        "gridcolor": "white",
                        "linecolor": "white",
                        "ticks": ""
                      },
                      "bgcolor": "#E5ECF6",
                      "radialaxis": {
                        "gridcolor": "white",
                        "linecolor": "white",
                        "ticks": ""
                      }
                    },
                    "scene": {
                      "xaxis": {
                        "backgroundcolor": "#E5ECF6",
                        "gridcolor": "white",
                        "gridwidth": 2,
                        "linecolor": "white",
                        "showbackground": true,
                        "ticks": "",
                        "zerolinecolor": "white"
                      },
                      "yaxis": {
                        "backgroundcolor": "#E5ECF6",
                        "gridcolor": "white",
                        "gridwidth": 2,
                        "linecolor": "white",
                        "showbackground": true,
                        "ticks": "",
                        "zerolinecolor": "white"
                      },
                      "zaxis": {
                        "backgroundcolor": "#E5ECF6",
                        "gridcolor": "white",
                        "gridwidth": 2,
                        "linecolor": "white",
                        "showbackground": true,
                        "ticks": "",
                        "zerolinecolor": "white"
                      }
                    },
                    "shapedefaults": {
                      "line": {
                        "color": "#2a3f5f"
                      }
                    },
                    "ternary": {
                      "aaxis": {
                        "gridcolor": "white",
                        "linecolor": "white",
                        "ticks": ""
                      },
                      "baxis": {
                        "gridcolor": "white",
                        "linecolor": "white",
                        "ticks": ""
                      },
                      "bgcolor": "#E5ECF6",
                      "caxis": {
                        "gridcolor": "white",
                        "linecolor": "white",
                        "ticks": ""
                      }
                    },
                    "title": {
                      "x": 0.05
                    },
                    "xaxis": {
                      "automargin": true,
                      "gridcolor": "white",
                      "linecolor": "white",
                      "ticks": "",
                      "title": {
                        "standoff": 15
                      },
                      "zerolinecolor": "white",
                      "zerolinewidth": 2
                    },
                    "yaxis": {
                      "automargin": true,
                      "gridcolor": "white",
                      "linecolor": "white",
                      "ticks": "",
                      "title": {
                        "standoff": 15
                      },
                      "zerolinecolor": "white",
                      "zerolinewidth": 2
                    }
                  }
                },
                "xaxis": {
                  "anchor": "y",
                  "domain": [
                    0,
                    1
                  ],
                  "ticktext": [
                    0,
                    1,
                    2,
                    3,
                    4,
                    5,
                    6,
                    7,
                    8,
                    9,
                    10,
                    11,
                    12,
                    13,
                    14,
                    15,
                    16,
                    17,
                    18,
                    19,
                    20,
                    21,
                    22,
                    23,
                    24,
                    25,
                    26,
                    27,
                    28,
                    29,
                    30,
                    31,
                    32,
                    33,
                    34,
                    35,
                    36,
                    37,
                    38,
                    39,
                    40,
                    41,
                    42
                  ],
                  "tickvals": [
                    "1971-01-01",
                    "1971-01-02",
                    "1971-01-03",
                    "1971-01-04",
                    "1971-01-05",
                    "1971-01-06",
                    "1971-01-07",
                    "1971-01-08",
                    "1971-01-09",
                    "1971-01-10",
                    "1971-01-11",
                    "1971-01-12",
                    "1971-01-13",
                    "1971-01-14",
                    "1971-01-15",
                    "1971-01-16",
                    "1971-01-17",
                    "1971-01-18",
                    "1971-01-19",
                    "1971-01-20",
                    "1971-01-21",
                    "1971-01-22",
                    "1971-01-23",
                    "1971-01-24",
                    "1971-01-25",
                    "1971-01-26",
                    "1971-01-27",
                    "1971-01-28",
                    "1971-01-29",
                    "1971-01-30",
                    "1971-01-31",
                    "1971-02-01",
                    "1971-02-02",
                    "1971-02-03",
                    "1971-02-04",
                    "1971-02-05",
                    "1971-02-06",
                    "1971-02-07",
                    "1971-02-08",
                    "1971-02-09",
                    "1971-02-10",
                    "1971-02-11",
                    "1971-02-12"
                  ],
                  "type": "date"
                },
                "yaxis": {
                  "anchor": "x",
                  "domain": [
                    0,
                    1
                  ],
                  "title": {
                    "text": "Task"
                  }
                }
              }
            }
          },
          "metadata": {}
        }
      ],
      "source": [
        "# without heuristique init (uses starting sequence)\n",
        "results2 = branch_and_bound.get_results(instance4,search_strategy=branch_and_bound.DEPTH_FIRST_SEARCH,use_heuristique_init=False,log=False)\n",
        "print(results2)\n",
        "res2 = instance4.get_chart_data(results2)\n",
        "\n",
        "fig2 = px.timeline(res2['df'], x_start=\"Start\", x_end=\"Finish\", y=\"Task\", color=\"Resource\")\n",
        "fig2.layout.xaxis.update({\n",
        "        'tickvals' : res['date_ticks'],\n",
        "        'ticktext' : res['num_tick_labels']\n",
        "        })\n",
        "fig2.show()"
      ]
    },
    {
      "cell_type": "code",
      "execution_count": 6,
      "metadata": {},
      "outputs": [],
      "source": [
        "jsonbenchmark_9_4 = JsonBenchmark(9,4,benchmark_folder=\"../benchmarks\")\n",
        "instance0 = jsonbenchmark_9_4.get_instance_by_index(0)[\"instance\"]\n"
      ]
    },
    {
      "source": [
        "# Depth-First-Search vs Best-First-Search"
      ],
      "cell_type": "markdown",
      "metadata": {}
    },
    {
      "cell_type": "code",
      "execution_count": 9,
      "metadata": {},
      "outputs": [
        {
          "output_type": "execute_result",
          "data": {
            "text/plain": [
              "array([[ 7.29664078, 32.79235022, 12.65248845, 70.17581821],\n",
              "       [85.61358352, 78.71713412, 25.41374203,  6.21330961],\n",
              "       [41.96685528, 84.97429538, 67.15504805, 45.79859315],\n",
              "       [24.87315714, 95.30161787, 50.12517465, 11.87287397],\n",
              "       [83.79829395, 83.52800971, 80.35527954, 34.96488017],\n",
              "       [44.06140338, 74.15141104, 78.8861939 , 90.45449309],\n",
              "       [ 0.16333123, 38.99019389, 79.07744204, 59.16274235],\n",
              "       [16.27237175, 82.45826004, 10.11636772, 99.40155609],\n",
              "       [45.07670546, 50.80566562, 33.76890767, 10.02614958]])"
            ]
          },
          "metadata": {},
          "execution_count": 9
        }
      ],
      "source": [
        "jobs = 9\n",
        "machines = 4\n",
        "random_mat = np.random.random((jobs,machines)) * 100\n",
        "randomInstance = Instance(random_mat)\n",
        "random_mat"
      ]
    },
    {
      "cell_type": "code",
      "execution_count": 11,
      "metadata": {},
      "outputs": [
        {
          "output_type": "stream",
          "name": "stdout",
          "text": [
            "start seq(0, 1, 2, 3, 4, 5, 6, 7, 8)\nupper bound 853.7176959384797\n"
          ]
        },
        {
          "output_type": "execute_result",
          "data": {
            "text/plain": [
              "{'C_max': 653.509320755687,\n",
              " 'order': [6, 0, 2, 3, 5, 4, 7, 8, 1],\n",
              " 'details': {'explored': 222228,\n",
              "  'pruned': 213092,\n",
              "  'leafs': 29,\n",
              "  'time': 5.104607500000014}}"
            ]
          },
          "metadata": {},
          "execution_count": 11
        }
      ],
      "source": [
        "depth_res = branch_and_bound.get_results(randomInstance,search_strategy=branch_and_bound.DEPTH_FIRST_SEARCH,use_heuristique_init=False,log=False)\n",
        "depth_res"
      ]
    },
    {
      "cell_type": "code",
      "execution_count": 13,
      "metadata": {},
      "outputs": [
        {
          "output_type": "stream",
          "name": "stdout",
          "text": [
            "start seq(0, 1, 2, 3, 4, 5, 6, 7, 8)\nupper bound 217.585091597295\n"
          ]
        },
        {
          "output_type": "execute_result",
          "data": {
            "text/plain": [
              "{'C_max': 166.8449145931314,\n",
              " 'order': [1, 5, 4, 3, 7, 2, 0, 8, 6],\n",
              " 'details': {'explored': 130820,\n",
              "  'pruned': 167835,\n",
              "  'leafs': 14,\n",
              "  'time': 3.572050900000022}}"
            ]
          },
          "metadata": {},
          "execution_count": 13
        }
      ],
      "source": [
        "best_res = branch_and_bound.get_results(randomInstance,search_strategy=branch_and_bound.BEST_FIRST_SEARCH,use_heuristique_init=False,log=False)\n",
        "best_res"
      ]
    },
    {
      "source": [
        "# Impact de la distribution initiale des couts sur les machines"
      ],
      "cell_type": "markdown",
      "metadata": {}
    },
    {
      "source": [
        "## Instance a couts suivant une loi normale "
      ],
      "cell_type": "markdown",
      "metadata": {}
    },
    {
      "cell_type": "code",
      "execution_count": 15,
      "metadata": {},
      "outputs": [
        {
          "output_type": "execute_result",
          "data": {
            "text/plain": [
              "array([[2.07647373e+01, 4.40797413e+01, 3.51989113e+01],\n",
              "       [2.29571313e+01, 1.87079955e+01, 1.42286374e+01],\n",
              "       [9.24237116e+00, 5.52424480e+00, 2.03434826e+01],\n",
              "       [7.88994235e+00, 1.29964754e+01, 7.70927630e+00],\n",
              "       [2.02476758e-02, 1.86682329e+01, 1.93785638e+01],\n",
              "       [1.07756875e+01, 6.13715381e+00, 2.23989700e+01],\n",
              "       [4.88220069e+01, 7.43746254e-01, 6.48838971e+00],\n",
              "       [6.74721000e+00, 5.26542607e+00, 5.93438712e+00],\n",
              "       [3.35448591e+01, 3.44490756e+01, 3.22614494e+01]])"
            ]
          },
          "metadata": {},
          "execution_count": 15
        }
      ],
      "source": [
        "jobs = 9\n",
        "machines = 3\n",
        "mean_time = 10\n",
        "std_time = 20\n",
        "random_mat = np.abs(np.random.normal(loc=mean_time,scale=std_time,size=(jobs,machines)))\n",
        "randomInstance = Instance(random_mat)\n",
        "random_mat"
      ]
    },
    {
      "cell_type": "code",
      "execution_count": 17,
      "metadata": {},
      "outputs": [
        {
          "output_type": "stream",
          "name": "stdout",
          "text": [
            "start seq(7, 3, 2, 4, 5, 1, 6, 0, 8)\nupper bound 238.75943625419586\n"
          ]
        },
        {
          "output_type": "execute_result",
          "data": {
            "text/plain": [
              "{'C_max': 186.70383618853378,\n",
              " 'order': [2, 4, 5, 0, 7, 8, 1, 3, 6],\n",
              " 'details': {'explored': 187742,\n",
              "  'pruned': 136821,\n",
              "  'leafs': 15,\n",
              "  'time': 3.1009382000000016}}"
            ]
          },
          "metadata": {},
          "execution_count": 17
        }
      ],
      "source": [
        "heur_res = branch_and_bound.get_results(randomInstance,search_strategy=branch_and_bound.DEPTH_FIRST_SEARCH,use_heuristique_init=True,log=False)\n",
        "heur_res"
      ]
    },
    {
      "cell_type": "code",
      "execution_count": 19,
      "metadata": {},
      "outputs": [
        {
          "output_type": "stream",
          "name": "stdout",
          "text": [
            "start seq(0, 1, 2, 3, 4, 5, 6, 7, 8)\nupper bound 897.5336277667755\n"
          ]
        },
        {
          "output_type": "execute_result",
          "data": {
            "text/plain": [
              "{'C_max': 680.5297917460082,\n",
              " 'order': [2, 3, 5, 7, 8, 1, 4, 6, 0],\n",
              " 'details': {'explored': 153725,\n",
              "  'pruned': 216449,\n",
              "  'leafs': 31,\n",
              "  'time': 3.601382199999989}}"
            ]
          },
          "metadata": {},
          "execution_count": 19
        }
      ],
      "source": [
        "noheur_res = branch_and_bound.get_results(randomInstance,search_strategy=branch_and_bound.DEPTH_FIRST_SEARCH,use_heuristique_init=False,log=False)\n",
        "noheur_res"
      ]
    },
    {
      "source": [
        "## Instance a couts suivant une loi uniforme"
      ],
      "cell_type": "markdown",
      "metadata": {}
    },
    {
      "cell_type": "code",
      "execution_count": 21,
      "metadata": {},
      "outputs": [
        {
          "output_type": "execute_result",
          "data": {
            "text/plain": [
              "array([[32.47570855, 86.27783664, 21.00178795, 23.90687574],\n",
              "       [36.70168868, 87.06616481, 25.77035566, 60.30412918],\n",
              "       [59.98136318, 78.98230927, 39.21030938, 12.69193125],\n",
              "       [46.66738197, 73.45435191, 29.42812288, 49.2310704 ],\n",
              "       [56.18083101, 24.48163612, 34.95014082, 11.01029671],\n",
              "       [86.96912203, 65.53020877, 81.97162692, 90.97316585],\n",
              "       [20.95129667, 43.106322  , 24.25951603, 66.98832381],\n",
              "       [61.68388203, 74.27892626, 77.29162074, 14.83115469],\n",
              "       [80.2619937 , 11.62061975, 22.4876214 , 70.09787929]])"
            ]
          },
          "metadata": {},
          "execution_count": 21
        }
      ],
      "source": [
        "jobs = 9\n",
        "machines = 4\n",
        "low = 10\n",
        "high = 100\n",
        "random_mat = np.abs(np.random.uniform(low=low,high=high,size=(jobs,machines)))\n",
        "randomInstance = Instance(random_mat)\n",
        "random_mat"
      ]
    },
    {
      "cell_type": "code",
      "execution_count": 23,
      "metadata": {},
      "outputs": [
        {
          "output_type": "stream",
          "name": "stdout",
          "text": [
            "start seq(4, 6, 0, 8, 2, 3, 1, 7, 5)\nupper bound 813.8693588756914\n"
          ]
        },
        {
          "output_type": "execute_result",
          "data": {
            "text/plain": [
              "{'C_max': 611.710109739686,\n",
              " 'order': [6, 1, 5, 3, 7, 2, 8, 0, 4],\n",
              " 'details': {'explored': 203131,\n",
              "  'pruned': 227135,\n",
              "  'leafs': 20,\n",
              "  'time': 4.378471399999995}}"
            ]
          },
          "metadata": {},
          "execution_count": 23
        }
      ],
      "source": [
        "heur_res = branch_and_bound.get_results(randomInstance,search_strategy=branch_and_bound.DEPTH_FIRST_SEARCH,use_heuristique_init=True,log=False)\n",
        "heur_res"
      ]
    },
    {
      "cell_type": "code",
      "execution_count": 25,
      "metadata": {},
      "outputs": [
        {
          "output_type": "stream",
          "name": "stdout",
          "text": [
            "start seq(0, 1, 2, 3, 4, 5, 6, 7, 8)\nupper bound 226.3619267258435\n"
          ]
        },
        {
          "output_type": "execute_result",
          "data": {
            "text/plain": [
              "{'C_max': 174.35212423973746,\n",
              " 'order': [6, 3, 8, 4, 2, 7, 0, 1, 5],\n",
              " 'details': {'explored': 159613,\n",
              "  'pruned': 148847,\n",
              "  'leafs': 26,\n",
              "  'time': 3.437460200000004}}"
            ]
          },
          "metadata": {},
          "execution_count": 25
        }
      ],
      "source": [
        "noheur_res = branch_and_bound.get_results(randomInstance,search_strategy=branch_and_bound.DEPTH_FIRST_SEARCH,use_heuristique_init=False,log=False)\n",
        "noheur_res"
      ]
    },
    {
      "source": [
        "## Instance a cout de loi exponentielle"
      ],
      "cell_type": "markdown",
      "metadata": {}
    },
    {
      "cell_type": "code",
      "execution_count": 27,
      "metadata": {},
      "outputs": [
        {
          "output_type": "execute_result",
          "data": {
            "text/plain": [
              "array([[ 6.99053912, 14.45032559, 20.24925349, 10.89070226],\n",
              "       [ 0.06102596,  5.93200728,  0.43653829,  6.81352417],\n",
              "       [ 8.387636  , 23.27849514, 13.21860342, 12.72384072],\n",
              "       [19.94169546,  1.52236559, 13.28755226,  5.81094275],\n",
              "       [ 5.30026155, 37.89829988,  6.64273226,  3.42433932],\n",
              "       [ 1.27657261,  0.89839313,  0.2940803 ,  3.13231312],\n",
              "       [ 5.17817005, 27.54513524,  0.12961476,  7.46833826],\n",
              "       [ 0.72454487, 11.0737484 , 17.40085571,  6.26392235],\n",
              "       [28.06587982, 21.24261877,  8.72730737, 20.453908  ]])"
            ]
          },
          "metadata": {},
          "execution_count": 27
        }
      ],
      "source": [
        "jobs = 9\n",
        "machines = 4\n",
        "scale = 10\n",
        "random_mat = np.random.exponential(scale=scale,size=(jobs,machines))\n",
        "randomInstance = Instance(random_mat)\n",
        "random_mat"
      ]
    },
    {
      "cell_type": "code",
      "execution_count": 29,
      "metadata": {},
      "outputs": [
        {
          "output_type": "stream",
          "name": "stdout",
          "text": [
            "start seq(5, 1, 7, 6, 3, 0, 4, 2, 8)\nupper bound 174.2991769958119\n"
          ]
        },
        {
          "output_type": "execute_result",
          "data": {
            "text/plain": [
              "{'C_max': 151.50036798394288,\n",
              " 'order': [1, 4, 0, 5, 8, 3, 2, 7, 6],\n",
              " 'details': {'explored': 245088,\n",
              "  'pruned': 184862,\n",
              "  'leafs': 6,\n",
              "  'time': 4.906749200000007}}"
            ]
          },
          "metadata": {},
          "execution_count": 29
        }
      ],
      "source": [
        "heur_res = branch_and_bound.get_results(randomInstance,search_strategy=branch_and_bound.DEPTH_FIRST_SEARCH,use_heuristique_init=True,log=False)\n",
        "heur_res"
      ]
    },
    {
      "cell_type": "code",
      "execution_count": 30,
      "metadata": {},
      "outputs": [
        {
          "output_type": "stream",
          "name": "stdout",
          "text": [
            "start seq(0, 1, 2, 3, 4, 5, 6, 7, 8)\nupper bound 180.01314350713866\n"
          ]
        },
        {
          "output_type": "execute_result",
          "data": {
            "text/plain": [
              "{'C_max': 151.50036798394288,\n",
              " 'order': [1, 4, 0, 5, 8, 3, 2, 7, 6],\n",
              " 'details': {'explored': 245089,\n",
              "  'pruned': 184862,\n",
              "  'leafs': 7,\n",
              "  'time': 4.691052899999988}}"
            ]
          },
          "metadata": {},
          "execution_count": 30
        }
      ],
      "source": [
        "noheur_res = branch_and_bound.get_results(randomInstance,search_strategy=branch_and_bound.DEPTH_FIRST_SEARCH,use_heuristique_init=False,log=False)\n",
        "noheur_res"
      ]
    },
    {
      "cell_type": "code",
      "execution_count": null,
      "metadata": {},
      "outputs": [],
      "source": []
    }
  ]
}