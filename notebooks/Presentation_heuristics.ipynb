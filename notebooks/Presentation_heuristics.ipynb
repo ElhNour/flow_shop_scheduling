{
 "cells": [
  {
   "cell_type": "markdown",
   "metadata": {
    "slideshow": {
     "slide_type": "slide"
    }
   },
   "source": [
    "# Présentation heuristique"
   ]
  },
  {
   "cell_type": "markdown",
   "metadata": {
    "slideshow": {
     "slide_type": "slide"
    }
   },
   "source": [
    "# Heuristiques\n",
    "## NEH\n",
    "## CDS"
   ]
  },
  {
   "cell_type": "markdown",
   "metadata": {
    "slideshow": {
     "slide_type": "slide"
    }
   },
   "source": [
    "# Colonie de fourmis\n",
    "### Parametres\n",
    "1. initValue = $10^{-6}$: valeur initial du pheromone\n",
    "1. nbAnts = 5: nombre de fourmis\n",
    "1. rho = 0.01: taux d’évaporation de phéromone\n",
    "1. alpha = 1: importance pheromone\n",
    "1. beta = 0.0001, : importance info heuristique \n",
    "1. q0 = 0.97:  \n",
    "    * j = argmax[$phero^{\\alpha} * heuristique^{\\beta}$]\n",
    "    * $p_{i,j}= \\frac{phero^{\\alpha} * heuristique^{\\beta}}{\\sum{phero^{\\alpha} * heuristique^{\\beta}}}$  pour j $\\in$ $N_i^k$\n",
    "1. nb_rounds : nombre d'episode\n",
    "1. parallel : execution parallele\n",
    "1. threads : Nombre de threads\n",
    "1. local_search = True, : recherche local\n",
    "1. local_search_proba = 0.02, : proba de la recherche local pour chaque job\n",
    "1. local_search_nb_permutation = 3 : nombre de permutation pour chaque job\n",
    "1. heuristic_info_strategy"
   ]
  },
  {
   "cell_type": "markdown",
   "metadata": {
    "slideshow": {
     "slide_type": "subslide"
    }
   },
   "source": [
    "# Colonie de fourmis\n",
    "### Info heuritstique\n",
    "- Rule 1: (Extension of Johnson's Rule):\n",
    "Si un job a des temps de traitement plus courts sur les premieres\n",
    "machines que celles des machines finales, il doit être\n",
    "traité en premier.\n",
    "- Rule 2: (Extension of SPT):\n",
    "si un job a un temp reduit sur toute les machines, il doit etre en premier\n",
    "\n",
    "### MAJ du pheromone\n",
    "$\\tau_{i,j} = (1-\\rho) \\tau_{i,j}+\\rho* \\frac{z}{C_{max}^{best}}$ pour (i,j) $\\in$ Best"
   ]
  },
  {
   "cell_type": "markdown",
   "metadata": {
    "slideshow": {
     "slide_type": "slide"
    }
   },
   "source": [
    "# Algorithme génétique\n",
    "### Parametres\n",
    "1. popul_size : taille de la population\n",
    "1. nb_generations : nombre de générations\n",
    "1. Pc = 0.9 : probabilité de crossover\n",
    "1. Pm = 0.06 : probabilité de mutation"
   ]
  },
  {
   "cell_type": "markdown",
   "metadata": {
    "slideshow": {
     "slide_type": "subslide"
    }
   },
   "source": [
    "# Algorithme génétique\n",
    "### Mutation\n",
    "### Crossover\n",
    "### Sélection"
   ]
  },
  {
   "cell_type": "markdown",
   "metadata": {
    "slideshow": {
     "slide_type": "slide"
    }
   },
   "source": [
    "# Recuit simulé\n",
    "### Parametres\n",
    "1. initial_value = 'CDS': l'heuristique d'initialisation\n",
    "1. Ti=200 : Température initiale\n",
    "1. Tf = 0.1 : Température finale\n",
    "1. nb_repetitions=10 :Nombres d'iteration avant changement de temperature \n",
    "1. alpha = 0.93 : Taux de mise a jour"
   ]
  },
  {
   "cell_type": "markdown",
   "metadata": {
    "slideshow": {
     "slide_type": "slide"
    }
   },
   "source": [
    "# Tests "
   ]
  },
  {
   "cell_type": "code",
   "execution_count": 57,
   "metadata": {},
   "outputs": [],
   "source": [
    "machines = 20\n",
    "jobs = 20\n",
    "indtance_id = 0"
   ]
  },
  {
   "cell_type": "code",
   "execution_count": 58,
   "metadata": {},
   "outputs": [],
   "source": [
    "import json\n",
    "\n",
    "RESULT_PATH = \"../results/\"\n",
    "res = {}\n",
    "file_name = 'b_'+str(jobs)+'_'+str(machines)+'/res_'+str(indtance_id)+'.json'\n",
    "\n",
    "methodes_list = ['cds', 'neh', 'aco','sa', 'ga']\n",
    "\n",
    "for meth in methodes_list:\n",
    "    with open(RESULT_PATH+meth+'/'+file_name) as f:\n",
    "            res[meth] = json.load(f)"
   ]
  },
  {
   "cell_type": "code",
   "execution_count": 59,
   "metadata": {},
   "outputs": [],
   "source": [
    "infos = {}\n",
    "def fill_info(method_name):\n",
    "    infos[method_name] = {\n",
    "        'max' : max(res[method_name], key =lambda x: x['results'][0]['results']['C_max']),\n",
    "        'min' : min(res[method_name], key =lambda x: x['results'][0]['results']['C_max'])\n",
    "    } \n",
    "    \n",
    "for meth in methodes_list:\n",
    "    fill_info(meth)"
   ]
  },
  {
   "cell_type": "code",
   "execution_count": 60,
   "metadata": {
    "slideshow": {
     "slide_type": "slide"
    }
   },
   "outputs": [
    {
     "data": {
      "text/html": [
       "<div>\n",
       "<style scoped>\n",
       "    .dataframe tbody tr th:only-of-type {\n",
       "        vertical-align: middle;\n",
       "    }\n",
       "\n",
       "    .dataframe tbody tr th {\n",
       "        vertical-align: top;\n",
       "    }\n",
       "\n",
       "    .dataframe thead th {\n",
       "        text-align: right;\n",
       "    }\n",
       "</style>\n",
       "<table border=\"1\" class=\"dataframe\">\n",
       "  <thead>\n",
       "    <tr style=\"text-align: right;\">\n",
       "      <th></th>\n",
       "      <th>max</th>\n",
       "      <th>min</th>\n",
       "    </tr>\n",
       "  </thead>\n",
       "  <tbody>\n",
       "    <tr>\n",
       "      <th>cds</th>\n",
       "      <td>2579.0</td>\n",
       "      <td>2579.0</td>\n",
       "    </tr>\n",
       "    <tr>\n",
       "      <th>neh</th>\n",
       "      <td>2741.0</td>\n",
       "      <td>2741.0</td>\n",
       "    </tr>\n",
       "    <tr>\n",
       "      <th>aco</th>\n",
       "      <td>2616.0</td>\n",
       "      <td>2413.0</td>\n",
       "    </tr>\n",
       "    <tr>\n",
       "      <th>sa</th>\n",
       "      <td>2579.0</td>\n",
       "      <td>2358.0</td>\n",
       "    </tr>\n",
       "    <tr>\n",
       "      <th>ga</th>\n",
       "      <td>2509.0</td>\n",
       "      <td>2326.0</td>\n",
       "    </tr>\n",
       "  </tbody>\n",
       "</table>\n",
       "</div>"
      ],
      "text/plain": [
       "        max     min\n",
       "cds  2579.0  2579.0\n",
       "neh  2741.0  2741.0\n",
       "aco  2616.0  2413.0\n",
       "sa   2579.0  2358.0\n",
       "ga   2509.0  2326.0"
      ]
     },
     "execution_count": 60,
     "metadata": {},
     "output_type": "execute_result"
    }
   ],
   "source": [
    "import pandas as pd\n",
    "data = []\n",
    "for k, v in infos.items():\n",
    "    data.append( [v['max']['results'][0]['results']['C_max'],\n",
    "              v['min']['results'][0]['results']['C_max']\n",
    "              ])\n",
    "    \n",
    "pd.DataFrame(data, methodes_list, columns=[\"max\", \"min\"])"
   ]
  },
  {
   "cell_type": "code",
   "execution_count": 82,
   "metadata": {
    "slideshow": {
     "slide_type": "slide"
    }
   },
   "outputs": [
    {
     "name": "stdout",
     "output_type": "stream",
     "text": [
      "        0.01    0.02    0.06    0.10    0.20\n",
      "0.80  2383.0  2393.0  2342.0  2374.0  2414.0\n",
      "0.85  2432.0  2412.0  2418.0  2363.0  2378.0\n",
      "0.87  2403.0  2372.0  2412.0  2367.0  2389.0\n",
      "0.90  2391.0  2392.0  2346.0  2356.0  2363.0\n",
      "0.92  2373.0  2401.0  2387.0  2375.0  2395.0\n",
      "0.94  2387.0  2404.0  2367.0  2389.0  2376.0\n",
      "0.96  2375.0  2410.0  2407.0  2340.0  2392.0\n",
      "0.98  2386.0  2394.0  2397.0  2365.0  2398.0\n"
     ]
    }
   ],
   "source": [
    "import numpy as np\n",
    "import matplotlib.pyplot as plt\n",
    "probas = res['ga'][:40]\n",
    "result = []\n",
    "re = []\n",
    "for i in range(len(probas)):\n",
    "    val = probas[i]\n",
    "    if i % 5 == 0 and i !=0:\n",
    "        result.append(re)\n",
    "        re = []\n",
    "    re.append(val['results'][0]['results']['C_max'])\n",
    "result.append(re)\n",
    "\n",
    "df = pd.DataFrame(result, [0.8, 0.85, 0.87, 0.9, 0.92, 0.94, 0.96, 0.98], [0.01, 0.02, 0.06, 0.1, 0.2])\n",
    "print(df)"
   ]
  },
  {
   "cell_type": "code",
   "execution_count": null,
   "metadata": {},
   "outputs": [],
   "source": []
  }
 ],
 "metadata": {
  "celltoolbar": "Slideshow",
  "kernelspec": {
   "display_name": "Python 3",
   "language": "python",
   "name": "python3"
  },
  "language_info": {
   "codemirror_mode": {
    "name": "ipython",
    "version": 3
   },
   "file_extension": ".py",
   "mimetype": "text/x-python",
   "name": "python",
   "nbconvert_exporter": "python",
   "pygments_lexer": "ipython3",
   "version": "3.8.5"
  }
 },
 "nbformat": 4,
 "nbformat_minor": 4
}
