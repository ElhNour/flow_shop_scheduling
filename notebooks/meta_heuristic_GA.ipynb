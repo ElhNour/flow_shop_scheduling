{
  "nbformat": 4,
  "nbformat_minor": 0,
  "metadata": {
    "colab": {
      "name": "meta_heuristic_GA.ipynb",
      "provenance": [],
      "collapsed_sections": []
    },
    "kernelspec": {
      "name": "python395jvsc74a57bd07355c46ae2c8733592239b10f6a6de5a8590444908842c18c1b0f405292f8ae4",
      "display_name": "Python 3.9.5 64-bit"
    },
    "language_info": {
      "name": "python",
      "version": "3.9.5"
    },
    "metadata": {
      "interpreter": {
        "hash": "7355c46ae2c8733592239b10f6a6de5a8590444908842c18c1b0f405292f8ae4"
      }
    }
  },
  "cells": [
    {
      "cell_type": "code",
      "metadata": {
        "id": "ts_VHqZQIqAM"
      },
      "source": [
        "from utils import Instance,Benchmark\n",
        "import numpy as np\n",
        "import itertools as iter"
      ],
      "execution_count": 277,
      "outputs": []
    },
    {
      "cell_type": "code",
      "metadata": {
        "colab": {
          "base_uri": "https://localhost:8080/"
        },
        "id": "whlSGeV1MamQ",
        "outputId": "4ad39191-0d8e-429e-bc47-df45e596d031"
      },
      "source": [
        "benchmark=Benchmark(20,5,benchmark_folder='../benchmarks')\n",
        "ben=benchmark.get_instance(0)\n",
        "ben.np_array"
      ],
      "execution_count": 1,
      "outputs": [
        {
          "output_type": "error",
          "ename": "NameError",
          "evalue": "name 'Benchmark' is not defined",
          "traceback": [
            "\u001b[1;31m---------------------------------------------------------------------------\u001b[0m",
            "\u001b[1;31mNameError\u001b[0m                                 Traceback (most recent call last)",
            "\u001b[1;32m<ipython-input-1-814ed3c3d6fe>\u001b[0m in \u001b[0;36m<module>\u001b[1;34m\u001b[0m\n\u001b[1;32m----> 1\u001b[1;33m \u001b[0mbenchmark\u001b[0m\u001b[1;33m=\u001b[0m\u001b[0mBenchmark\u001b[0m\u001b[1;33m(\u001b[0m\u001b[1;36m20\u001b[0m\u001b[1;33m,\u001b[0m\u001b[1;36m5\u001b[0m\u001b[1;33m,\u001b[0m\u001b[0mbenchmark_folder\u001b[0m\u001b[1;33m=\u001b[0m\u001b[1;34m'./benchmarks'\u001b[0m\u001b[1;33m)\u001b[0m\u001b[1;33m\u001b[0m\u001b[1;33m\u001b[0m\u001b[0m\n\u001b[0m\u001b[0;32m      2\u001b[0m \u001b[0mben\u001b[0m\u001b[1;33m=\u001b[0m\u001b[0mbenchmark\u001b[0m\u001b[1;33m.\u001b[0m\u001b[0mget_instance\u001b[0m\u001b[1;33m(\u001b[0m\u001b[1;36m0\u001b[0m\u001b[1;33m)\u001b[0m\u001b[1;33m\u001b[0m\u001b[1;33m\u001b[0m\u001b[0m\n\u001b[0;32m      3\u001b[0m \u001b[0mben\u001b[0m\u001b[1;33m.\u001b[0m\u001b[0mnp_array\u001b[0m\u001b[1;33m\u001b[0m\u001b[1;33m\u001b[0m\u001b[0m\n",
            "\u001b[1;31mNameError\u001b[0m: name 'Benchmark' is not defined"
          ]
        }
      ]
    },
    {
      "cell_type": "code",
      "metadata": {
        "id": "jEJiEcyxNZ2R"
      },
      "source": [
        "def get_sequences(instance : Instance):#for what?\n",
        "    jobs_count = instance.get_jobs_number()\n",
        "    return list(iter.permutations(range(jobs_count)))\n",
        "get_sequences(ben)"
      ],
      "execution_count": null,
      "outputs": []
    },
    {
      "cell_type": "code",
      "metadata": {
        "colab": {
          "base_uri": "https://localhost:8080/"
        },
        "id": "_0NYhCieiCmg",
        "outputId": "3a60fb7b-4b6b-4b7f-e19b-2f0e1a440102"
      },
      "source": [
        "def generate_initsol(instance: Instance,popul_size=3):#returns an np array containing jobs permutations\n",
        "  #initial array\n",
        "  nb_jobs=instance.get_jobs_number()\n",
        "  arr=np.array([])\n",
        "  res=[]\n",
        "  arr=[int(i) for i in range(nb_jobs)]\n",
        "  for i in range(popul_size):\n",
        "    res.append(np.random.permutation(arr))\n",
        "  res=np.array(res)\n",
        "  res=np.unique(res,axis=0)\n",
        "  return res,len(res)\n",
        "init_sol,pop= generate_initsol(ben,10)\n",
        "#init_sol=np.unique(init_sol,axis=0)\n",
        "init_sol"
      ],
      "execution_count": 280,
      "outputs": [
        {
          "output_type": "execute_result",
          "data": {
            "text/plain": [
              "array([[0, 1, 4, 2, 3],\n",
              "       [0, 2, 1, 3, 4],\n",
              "       [0, 2, 3, 4, 1],\n",
              "       [1, 3, 2, 4, 0],\n",
              "       [2, 0, 1, 4, 3],\n",
              "       [2, 4, 0, 1, 3],\n",
              "       [3, 2, 1, 4, 0],\n",
              "       [4, 1, 3, 2, 0],\n",
              "       [4, 3, 0, 1, 2]])"
            ]
          },
          "metadata": {
            "tags": []
          },
          "execution_count": 280
        }
      ]
    },
    {
      "cell_type": "code",
      "metadata": {
        "colab": {
          "base_uri": "https://localhost:8080/"
        },
        "id": "Wo0g8qBKDL29",
        "outputId": "d36c7fa6-56ec-470d-8ad1-638bbf450c5b"
      },
      "source": [
        "def Cmax(instance: Instance, chromosome):\n",
        "  n=instance.get_jobs_number()\n",
        "  m=instance.get_machines_number()\n",
        "  span=np.zeros(m)\n",
        "  for i in range(n):\n",
        "    for j in range(m):\n",
        "      if (j==1):\n",
        "        span[j]+=ben.np_array[chromosome[i]][j]\n",
        "      else:\n",
        "        span[j]=max(span[j-1],span[j])+ ben.np_array[chromosome[i]][j]\n",
        "  return span[m-1]\n",
        "\n",
        "Cmax(ben,init_sol[0])\n"
      ],
      "execution_count": 281,
      "outputs": [
        {
          "output_type": "execute_result",
          "data": {
            "text/plain": [
              "535.0"
            ]
          },
          "metadata": {
            "tags": []
          },
          "execution_count": 281
        }
      ]
    },
    {
      "cell_type": "code",
      "metadata": {
        "colab": {
          "base_uri": "https://localhost:8080/"
        },
        "id": "3itRe6cP4GkY",
        "outputId": "45d5f63e-78a9-4357-869a-02d0b08cee89"
      },
      "source": [
        "#Fitness function: un individu a une forte probabilité de se reproduire si il a une bonne qualité (c-à-d une grande valeur de fitness)\n",
        "def fitness(instance: Instance, chromosome):\n",
        "  return 1/Cmax(instance,chromosome)\n",
        "fits=np.array([])\n",
        "for i in range(len(init_sol)):\n",
        "  fits=np.append(fits,fitness(ben,init_sol[i]))\n",
        "fits"
      ],
      "execution_count": 282,
      "outputs": [
        {
          "output_type": "execute_result",
          "data": {
            "text/plain": [
              "array([0.00186916, 0.00222717, 0.0018622 , 0.00217391, 0.00194175,\n",
              "       0.00195695, 0.00184162, 0.00191205, 0.00196078])"
            ]
          },
          "metadata": {
            "tags": []
          },
          "execution_count": 282
        }
      ]
    },
    {
      "cell_type": "code",
      "metadata": {
        "colab": {
          "base_uri": "https://localhost:8080/"
        },
        "id": "BWS01sUSmA__",
        "outputId": "3d7ee089-a2dd-4578-b3b5-cf04837e7dd8"
      },
      "source": [
        "#Selection: sélectionne certaines solutions pour former la population\n",
        "# intermédiaire afin de lui appliquer les opérateurs de croisement et de mutation. \n",
        "# Chaque élément de la population est sélectionné avec une probabilité selon sa valeur d’adaptation.\n",
        "def selection(popul,size,Pc,fits):\n",
        "  pool_size=round(Pc*size) #définir le nombre d'individus à selectionner pour la reproduction\n",
        "  fits_copy=fits.copy()\n",
        "  fits_copy[::-1].sort()\n",
        "  selected_fits=fits_copy[:pool_size]\n",
        "  print(selected_fits)\n",
        "  matting_pool=[]\n",
        "  i=0\n",
        "  while i<pool_size:\n",
        "    index=np.where(fits==selected_fits[i])\n",
        "    for j in range(len(index[0])):\n",
        "      matting_pool.append(popul[index[0][j]])\n",
        "    i+=len(popul[index])\n",
        "  matting_pool=np.array(matting_pool)\n",
        "  matting_pool=np.unique(matting_pool,axis=0)\n",
        "  return matting_pool\n",
        "matting_pool=selection(init_sol,8,0.9,fits)\n",
        "matting_pool"
      ],
      "execution_count": 283,
      "outputs": [
        {
          "output_type": "stream",
          "text": [
            "[0.00222717 0.00217391 0.00196078 0.00195695 0.00194175 0.00191205\n",
            " 0.00186916]\n"
          ],
          "name": "stdout"
        },
        {
          "output_type": "execute_result",
          "data": {
            "text/plain": [
              "array([[0, 1, 4, 2, 3],\n",
              "       [0, 2, 1, 3, 4],\n",
              "       [1, 3, 2, 4, 0],\n",
              "       [2, 0, 1, 4, 3],\n",
              "       [2, 4, 0, 1, 3],\n",
              "       [4, 1, 3, 2, 0],\n",
              "       [4, 3, 0, 1, 2]])"
            ]
          },
          "metadata": {
            "tags": []
          },
          "execution_count": 283
        }
      ]
    },
    {
      "cell_type": "code",
      "metadata": {
        "colab": {
          "base_uri": "https://localhost:8080/"
        },
        "id": "QAGy0ojUlPPR",
        "outputId": "db6169e0-1963-4850-b4f1-107d0ceeef3e"
      },
      "source": [
        "import random\n",
        "matting_pool=selection(init_sol,8,0.9,fits)\n",
        "#Crossover: interchanger les gènes situés entres les points considérés et est appliqué avec une probabilité Pc.\n",
        "#On utilisera ici le croisement à 2 points car des études faites ont constaté que ce type de croisement est très efficace pour le FSP\n",
        "def crossover(n,matting_pool,Pc):\n",
        "  offsprings=[]\n",
        "  nb_cross=round(Pc*len(matting_pool))\n",
        "  for i in range (nb_cross):\n",
        "    #generate randomly 2 crossover points\n",
        "    points=np.random.randint(n-1,size=2)\n",
        "    first_pt=points[0]\n",
        "    second_pt=points[1]\n",
        "    \n",
        "    while True:\n",
        "      if (first_pt != second_pt): \n",
        "        break\n",
        "      second_pt=random.randint(0,n-1)\n",
        "\n",
        "    if (first_pt>second_pt):\n",
        "        t=first_pt\n",
        "        first_pt=second_pt\n",
        "        second_pt=t\n",
        "    \n",
        "    #choose randomly 2 parents\n",
        "    rand_ind=np.random.choice(len(matting_pool), size=2)\n",
        "    parents=matting_pool[rand_ind]\n",
        "    # parents = np.random.choice(matting_pool, size=2, replace=False)\n",
        "    parent1=parents[0]#[0]\n",
        "    parent2=parents[1]#[0]    \n",
        "\n",
        "    offspring=parent1\n",
        "    parts_parent1=[]\n",
        "    parts_parent1[0:first_pt]=parent1[0:first_pt]\n",
        "    if (first_pt!=0):\n",
        "      parts_parent1[first_pt+1:first_pt+(n-second_pt)+1]=parent1[second_pt:n]\n",
        "    else:\n",
        "      parts_parent1[first_pt:first_pt+(n-second_pt)+1]=parent1[second_pt:n]\n",
        "    #print(parts_parent1)\n",
        "    idx=first_pt\n",
        "    for i in parent2:\n",
        "      if (i not in parts_parent1):\n",
        "        offspring[idx]=i\n",
        "        idx+=1\n",
        "    offsprings.append(offspring)\n",
        "  return offsprings\n",
        "\n",
        "crossover(5,matting_pool,0.5)"
      ],
      "execution_count": 284,
      "outputs": [
        {
          "output_type": "stream",
          "text": [
            "[0.00222717 0.00217391 0.00196078 0.00195695 0.00194175 0.00191205\n",
            " 0.00186916]\n"
          ],
          "name": "stdout"
        },
        {
          "output_type": "execute_result",
          "data": {
            "text/plain": [
              "[array([2, 0, 1, 4, 3]),\n",
              " array([4, 3, 0, 1, 2]),\n",
              " array([4, 3, 0, 1, 2]),\n",
              " array([4, 1, 3, 2, 0])]"
            ]
          },
          "metadata": {
            "tags": []
          },
          "execution_count": 284
        }
      ]
    },
    {
      "cell_type": "code",
      "metadata": {
        "colab": {
          "base_uri": "https://localhost:8080/"
        },
        "id": "qZvIquPT1dEL",
        "outputId": "d0392364-5835-429f-8f46-2c1652fcfbf5"
      },
      "source": [
        "#Mutation: consiste à choisir un ou deux bits aléatoirement, puis les inverser. L'opérateur de mutation s'applique avec une certaine probabilité Pm, appelée\n",
        "#taux de mutation\n",
        "# Dans le cas d'une mutation par changement de poste, une tâche située à un poste est supprimée et placée à un autre poste. Ensuite, tous les autres postes \n",
        "#sont déplacés en conséquence. Les deux positions sont choisies au hasard.\n",
        "offsprings=crossover(5,matting_pool,0.5)\n",
        "def mutation(n,offsprings,Pm):\n",
        "  for offspring in offsprings:\n",
        "    pos = np.random.choice(n, size=2, replace=False)\n",
        "      \n",
        "    if pos[0] > pos[1]:\n",
        "        t = pos[0]\n",
        "        pos[0] = pos[1]\n",
        "        pos[1] = t\n",
        "    \n",
        "    remJob = offspring[pos[1]]\n",
        "    \n",
        "    for i in range(pos[1], pos[0], -1):\n",
        "        offspring[i] = offspring[i-1]\n",
        "        \n",
        "    offspring[pos[0]] = remJob\n",
        "  offsprings=np.array(offsprings)\n",
        "  return offsprings\n",
        "mutation(5,offsprings,1)"
      ],
      "execution_count": 285,
      "outputs": [
        {
          "output_type": "execute_result",
          "data": {
            "text/plain": [
              "array([[0, 2, 1, 4, 3],\n",
              "       [0, 1, 3, 2, 4],\n",
              "       [1, 2, 3, 4, 0],\n",
              "       [1, 0, 2, 3, 4]])"
            ]
          },
          "metadata": {
            "tags": []
          },
          "execution_count": 285
        }
      ]
    },
    {
      "cell_type": "code",
      "metadata": {
        "id": "ZxfNCbhUigO1",
        "colab": {
          "base_uri": "https://localhost:8080/"
        },
        "outputId": "eff61e06-687d-4760-af07-d7a2e3444cdd"
      },
      "source": [
        "#new_generation: la nouvelle génération est constituée des meilleurs individus de la population\n",
        "offsprings=mutation(5,offsprings,1)\n",
        "init_sol=np.concatenate((init_sol,offsprings),axis=0)\n",
        "#print(\"\\n\",init_sol,len(init_sol))\n",
        "fits=np.array([])\n",
        "for i in range(len(init_sol)):\n",
        "  fits=np.append(fits,fitness(ben,init_sol[i]))#fits déja calculés\n",
        "\n",
        "def new_generation(n,init_sol,popul_size,fits):\n",
        "  new_gen=np.array([])\n",
        "  new_gen=selection(init_sol,popul_size,1,fits)\n",
        "  if (len(new_gen)<popul_size):\n",
        "    adds=popul_size-len(new_gen)\n",
        "    i=0\n",
        "    k=0\n",
        "    print(new_gen)\n",
        "    while i<adds:\n",
        "        for j in init_sol:\n",
        "          j=np.array(j)\n",
        "          varr=any((j == x).all() for x in new_gen)\n",
        "          if (not varr):\n",
        "            new_gen=np.append(new_gen,j[None,:],axis=0)           \n",
        "            i+=1\n",
        "            if (i==adds):\n",
        "              break\n",
        "          \n",
        "  return new_gen\n",
        "new_generation(5,init_sol,10,fits)"
      ],
      "execution_count": 286,
      "outputs": [
        {
          "output_type": "stream",
          "text": [
            "[0.00232019 0.00222717 0.00217391 0.00209644 0.00198807 0.00196078\n",
            " 0.00195695 0.00194175 0.00191205 0.00188324]\n"
          ],
          "name": "stdout"
        },
        {
          "output_type": "execute_result",
          "data": {
            "text/plain": [
              "array([[0, 2, 1, 3, 4],\n",
              "       [0, 3, 1, 2, 4],\n",
              "       [1, 3, 2, 4, 0],\n",
              "       [2, 0, 1, 4, 3],\n",
              "       [2, 1, 0, 3, 4],\n",
              "       [2, 1, 3, 4, 0],\n",
              "       [2, 4, 0, 1, 3],\n",
              "       [4, 0, 2, 1, 3],\n",
              "       [4, 1, 3, 2, 0],\n",
              "       [4, 3, 0, 1, 2]])"
            ]
          },
          "metadata": {
            "tags": []
          },
          "execution_count": 286
        }
      ]
    },
    {
      "cell_type": "code",
      "metadata": {
        "id": "qCtekdcAPznJ",
        "colab": {
          "base_uri": "https://localhost:8080/"
        },
        "outputId": "e77f38d7-b194-43c6-9649-6c3f73013bae"
      },
      "source": [
        "import random,time,json\n",
        "def get_results(instance=ben,popul_size=12,nb_generations=50,Pc=0.9,Pm=0.06):\n",
        "  j=0\n",
        "  n=instance.get_jobs_number()\n",
        "  start=time.time()\n",
        "  while j<nb_generations:\n",
        "\n",
        "    #Generate an inital population\n",
        "    init_pop,size=generate_initsol(instance,popul_size)\n",
        "    print(\"old population\",init_pop)\n",
        "\n",
        "    #Reproduction: pick the best chromosomes (tournament selection)\n",
        "    #evaluation\n",
        "    fits=np.array([])\n",
        "    for i in range(len(init_pop)):\n",
        "      fits=np.append(fits,fitness(ben,init_pop[i]))#fits déja calculés\n",
        "    #print(\"fits\",fits)\n",
        "    #reproduction\n",
        "    print(size)\n",
        "    matting_pool=selection(init_pop,size,Pc,fits)\n",
        "    print(\"matting_pool\",matting_pool)\n",
        "\n",
        "    #Crossover: \n",
        "    offsprings=crossover(n,matting_pool,Pc)\n",
        "\n",
        "    #Mutation\n",
        "    offsprings=mutation(n,offsprings,Pm)\n",
        "    print(\"offsprings\",offsprings)\n",
        "    #Selection: \n",
        "    init_pop=np.concatenate((init_pop,offsprings),axis=0)\n",
        "    print(\"total\",init_pop)\n",
        "    #evaluation\n",
        "    fits=np.array([])\n",
        "    for i in range(len(init_pop)):\n",
        "      fits=np.append(fits,fitness(ben,init_pop[i]))#fits déja calculés\n",
        "    #print(\"fits\",fits)\n",
        "    new_gen=new_generation(n,init_pop,popul_size,fits)\n",
        "    print(\"new population\",new_gen)\n",
        "    j+=1\n",
        "  \n",
        "  #End While, select the best solution from the last generation.\n",
        "  #choose the best sequence according to the chromosomes' fitnesses => last evaluation\n",
        "  fits=np.array([])\n",
        "  for i in range(len(new_gen)):\n",
        "    fits=np.append(fits,fitness(ben,new_gen[i]))#fits déja calculés\n",
        "  print(\"fits\",fits)\n",
        "\n",
        "  fits_sorted=fits.copy()\n",
        "  fits_sorted[::-1].sort()\n",
        "  ind=np.where(fits==fits_sorted[0])#find the index of the best solution in the population\n",
        "  best_sol=new_gen[ind[0][0]]\n",
        "  end = time.time()\n",
        "  print(end - start)\n",
        "  result={\n",
        "      \"best solution\":best_sol.tolist(),\n",
        "      \"C_max\":Cmax(ben,best_sol),\n",
        "      \"time\":end-start\n",
        "  }\n",
        "\n",
        "  return json.dumps(result)\n",
        "get_results()\n"
      ],
      "execution_count": 287,
      "outputs": [
        {
          "output_type": "stream",
          "text": [
            "old population [[0 2 3 1 4]\n",
            " [1 0 2 3 4]\n",
            " [2 1 0 3 4]\n",
            " [2 3 1 4 0]\n",
            " [3 1 4 0 2]\n",
            " [3 4 0 1 2]\n",
            " [4 0 1 3 2]\n",
            " [4 1 0 2 3]\n",
            " [4 3 0 2 1]]\n",
            "9\n",
            "[0.00238095 0.00232019 0.00215054 0.0019802  0.00196078 0.00194553\n",
            " 0.00192308 0.00191571]\n",
            "matting_pool [[0 2 3 1 4]\n",
            " [1 0 2 3 4]\n",
            " [2 1 0 3 4]\n",
            " [2 3 1 4 0]\n",
            " [3 1 4 0 2]\n",
            " [3 4 0 1 2]\n",
            " [4 0 1 3 2]\n",
            " [4 3 0 2 1]]\n",
            "offsprings [[4 2 0 1 3]\n",
            " [1 0 2 3 4]\n",
            " [0 1 2 3 4]\n",
            " [4 2 0 3 1]\n",
            " [2 4 0 3 1]\n",
            " [2 4 3 0 1]\n",
            " [1 0 3 2 4]]\n",
            "total [[0 2 3 1 4]\n",
            " [1 0 2 3 4]\n",
            " [2 1 0 3 4]\n",
            " [2 3 1 4 0]\n",
            " [3 1 4 0 2]\n",
            " [3 4 0 1 2]\n",
            " [4 0 1 3 2]\n",
            " [4 1 0 2 3]\n",
            " [4 3 0 2 1]\n",
            " [4 2 0 1 3]\n",
            " [1 0 2 3 4]\n",
            " [0 1 2 3 4]\n",
            " [4 2 0 3 1]\n",
            " [2 4 0 3 1]\n",
            " [2 4 3 0 1]\n",
            " [1 0 3 2 4]]\n",
            "[0.00238095 0.00238095 0.00238095 0.00232019 0.00232019 0.00215054\n",
            " 0.00199601 0.0019802  0.00196464 0.00196078]\n",
            "[[0 1 2 3 4]\n",
            " [0 2 3 1 4]\n",
            " [1 0 2 3 4]\n",
            " [1 0 3 2 4]\n",
            " [2 1 0 3 4]\n",
            " [2 3 1 4 0]\n",
            " [2 4 0 3 1]\n",
            " [2 4 3 0 1]\n",
            " [4 3 0 2 1]]\n",
            "new population [[0 1 2 3 4]\n",
            " [0 2 3 1 4]\n",
            " [1 0 2 3 4]\n",
            " [1 0 3 2 4]\n",
            " [2 1 0 3 4]\n",
            " [2 3 1 4 0]\n",
            " [2 4 0 3 1]\n",
            " [2 4 3 0 1]\n",
            " [4 3 0 2 1]\n",
            " [3 1 4 0 2]]\n",
            "old population [[1 0 2 3 4]\n",
            " [1 2 0 4 3]\n",
            " [1 4 3 2 0]\n",
            " [2 1 0 3 4]\n",
            " [2 4 3 0 1]\n",
            " [3 0 1 4 2]\n",
            " [3 0 2 4 1]\n",
            " [3 2 0 1 4]\n",
            " [4 0 1 3 2]]\n",
            "9\n",
            "[0.00238095 0.00232019 0.00214592 0.00209205 0.00204082 0.00199601\n",
            " 0.00199601 0.00192308]\n",
            "matting_pool [[1 0 2 3 4]\n",
            " [1 2 0 4 3]\n",
            " [1 4 3 2 0]\n",
            " [2 1 0 3 4]\n",
            " [2 4 3 0 1]\n",
            " [3 0 1 4 2]\n",
            " [3 2 0 1 4]\n",
            " [4 0 1 3 2]]\n",
            "offsprings [[1 3 0 2 4]\n",
            " [4 3 0 1 2]\n",
            " [3 1 2 0 4]\n",
            " [1 4 0 3 2]\n",
            " [4 0 3 1 2]\n",
            " [0 1 2 4 3]\n",
            " [1 0 2 4 3]]\n",
            "total [[1 0 2 3 4]\n",
            " [1 2 0 4 3]\n",
            " [1 4 3 2 0]\n",
            " [2 1 0 3 4]\n",
            " [2 4 3 0 1]\n",
            " [3 0 1 4 2]\n",
            " [3 0 2 4 1]\n",
            " [3 2 0 1 4]\n",
            " [4 0 1 3 2]\n",
            " [1 3 0 2 4]\n",
            " [4 3 0 1 2]\n",
            " [3 1 2 0 4]\n",
            " [1 4 0 3 2]\n",
            " [4 0 3 1 2]\n",
            " [0 1 2 4 3]\n",
            " [1 0 2 4 3]]\n",
            "[0.00238095 0.00238095 0.00232019 0.00226757 0.00214592 0.00209205\n",
            " 0.00209205 0.00204082 0.00200803 0.00199601]\n",
            "new population [[1 0 2 3 4]\n",
            " [1 0 2 4 3]\n",
            " [1 2 0 4 3]\n",
            " [1 3 0 2 4]\n",
            " [1 4 0 3 2]\n",
            " [1 4 3 2 0]\n",
            " [2 1 0 3 4]\n",
            " [2 4 3 0 1]\n",
            " [3 0 1 4 2]\n",
            " [3 1 2 0 4]\n",
            " [3 2 0 1 4]]\n",
            "old population [[0 2 3 4 1]\n",
            " [0 3 2 4 1]\n",
            " [1 2 3 4 0]\n",
            " [1 4 3 0 2]\n",
            " [2 0 4 3 1]\n",
            " [2 3 4 1 0]\n",
            " [2 4 1 0 3]\n",
            " [3 1 0 2 4]\n",
            " [3 4 2 0 1]\n",
            " [4 1 0 3 2]]\n",
            "10\n",
            "[0.00226757 0.00217391 0.00204082 0.00191571 0.00191571 0.00190114\n",
            " 0.00188324 0.00187617 0.0018622 ]\n",
            "matting_pool [[0 2 3 4 1]\n",
            " [0 3 2 4 1]\n",
            " [1 2 3 4 0]\n",
            " [1 4 3 0 2]\n",
            " [2 0 4 3 1]\n",
            " [2 3 4 1 0]\n",
            " [2 4 1 0 3]\n",
            " [3 1 0 2 4]\n",
            " [3 4 2 0 1]\n",
            " [4 1 0 3 2]]\n",
            "offsprings [[1 2 3 4 0]\n",
            " [3 2 4 1 0]\n",
            " [1 3 4 0 2]\n",
            " [0 3 4 2 1]\n",
            " [2 3 1 0 4]\n",
            " [0 3 1 2 4]\n",
            " [1 2 0 3 4]\n",
            " [3 1 4 0 2]\n",
            " [4 2 0 1 3]]\n",
            "total [[0 2 3 4 1]\n",
            " [0 3 2 4 1]\n",
            " [1 2 3 4 0]\n",
            " [1 4 3 0 2]\n",
            " [2 0 4 3 1]\n",
            " [2 3 4 1 0]\n",
            " [2 4 1 0 3]\n",
            " [3 1 0 2 4]\n",
            " [3 4 2 0 1]\n",
            " [4 1 0 3 2]\n",
            " [1 2 3 4 0]\n",
            " [3 2 4 1 0]\n",
            " [1 3 4 0 2]\n",
            " [0 3 4 2 1]\n",
            " [2 3 1 0 4]\n",
            " [0 3 1 2 4]\n",
            " [1 2 0 3 4]\n",
            " [3 1 4 0 2]\n",
            " [4 2 0 1 3]]\n",
            "[0.00238095 0.0023753  0.00226757 0.00217391 0.00217391 0.0021322\n",
            " 0.00204082 0.00198807 0.00194553 0.00191571]\n",
            "new population [[0 3 1 2 4]\n",
            " [1 2 0 3 4]\n",
            " [1 2 3 4 0]\n",
            " [1 3 4 0 2]\n",
            " [1 4 3 0 2]\n",
            " [2 0 4 3 1]\n",
            " [2 3 1 0 4]\n",
            " [2 4 1 0 3]\n",
            " [3 1 0 2 4]\n",
            " [3 1 4 0 2]]\n",
            "old population [[0 2 4 1 3]\n",
            " [0 4 1 2 3]\n",
            " [1 3 4 0 2]\n",
            " [2 0 1 4 3]\n",
            " [2 1 0 4 3]\n",
            " [3 1 0 4 2]\n",
            " [3 4 1 0 2]\n",
            " [3 4 1 2 0]\n",
            " [4 1 2 3 0]\n",
            " [4 3 2 1 0]]\n",
            "10\n",
            "[0.00219298 0.0021322  0.00198413 0.00196078 0.00194175 0.00187266\n",
            " 0.00186916 0.00186916 0.0018315 ]\n",
            "matting_pool [[0 2 4 1 3]\n",
            " [1 3 4 0 2]\n",
            " [2 0 1 4 3]\n",
            " [2 1 0 4 3]\n",
            " [3 1 0 4 2]\n",
            " [3 4 1 0 2]\n",
            " [3 4 1 2 0]\n",
            " [4 1 2 3 0]\n",
            " [4 3 2 1 0]]\n",
            "offsprings [[1 3 0 4 2]\n",
            " [2 4 1 3 0]\n",
            " [3 2 0 1 4]\n",
            " [2 3 1 0 4]\n",
            " [2 0 4 1 3]\n",
            " [3 0 4 2 1]\n",
            " [3 1 2 4 0]\n",
            " [2 4 1 3 0]]\n",
            "total [[0 2 4 1 3]\n",
            " [0 4 1 2 3]\n",
            " [1 3 4 0 2]\n",
            " [2 0 1 4 3]\n",
            " [2 1 0 4 3]\n",
            " [3 1 0 4 2]\n",
            " [3 4 1 0 2]\n",
            " [3 4 1 2 0]\n",
            " [4 1 2 3 0]\n",
            " [4 3 2 1 0]\n",
            " [1 3 0 4 2]\n",
            " [2 4 1 3 0]\n",
            " [3 2 0 1 4]\n",
            " [2 3 1 0 4]\n",
            " [2 0 4 1 3]\n",
            " [3 0 4 2 1]\n",
            " [3 1 2 4 0]\n",
            " [2 4 1 3 0]]\n",
            "[0.0023753  0.0021978  0.00219298 0.00214592 0.0021322  0.00198413\n",
            " 0.00196078 0.00194553 0.00194553 0.00194175]\n",
            "[[1 3 0 4 2]\n",
            " [1 3 4 0 2]\n",
            " [2 0 1 4 3]\n",
            " [2 1 0 4 3]\n",
            " [2 3 1 0 4]\n",
            " [2 4 1 3 0]\n",
            " [3 1 0 4 2]\n",
            " [3 2 0 1 4]\n",
            " [4 3 2 1 0]]\n",
            "new population [[1 3 0 4 2]\n",
            " [1 3 4 0 2]\n",
            " [2 0 1 4 3]\n",
            " [2 1 0 4 3]\n",
            " [2 3 1 0 4]\n",
            " [2 4 1 3 0]\n",
            " [3 1 0 4 2]\n",
            " [3 2 0 1 4]\n",
            " [4 3 2 1 0]\n",
            " [0 2 4 1 3]]\n",
            "old population [[0 1 2 4 3]\n",
            " [1 0 2 3 4]\n",
            " [1 2 3 4 0]\n",
            " [2 1 4 0 3]\n",
            " [2 1 4 3 0]\n",
            " [3 1 2 0 4]\n",
            " [3 4 0 2 1]\n",
            " [3 4 2 1 0]\n",
            " [4 0 1 2 3]\n",
            " [4 1 3 2 0]]\n",
            "10\n",
            "[0.00238095 0.00226757 0.00217391 0.00191205 0.00189753 0.00188324\n",
            " 0.00187617 0.00186916 0.00180832]\n",
            "matting_pool [[0 1 2 4 3]\n",
            " [1 0 2 3 4]\n",
            " [1 2 3 4 0]\n",
            " [2 1 4 0 3]\n",
            " [2 1 4 3 0]\n",
            " [3 1 2 0 4]\n",
            " [3 4 0 2 1]\n",
            " [4 0 1 2 3]\n",
            " [4 1 3 2 0]]\n",
            "offsprings [[1 0 2 4 3]\n",
            " [3 1 2 4 0]\n",
            " [1 4 2 0 3]\n",
            " [0 1 2 3 4]\n",
            " [4 1 0 2 3]\n",
            " [1 3 2 0 4]\n",
            " [3 4 1 2 0]\n",
            " [0 1 2 3 4]]\n",
            "total [[0 1 2 4 3]\n",
            " [1 0 2 3 4]\n",
            " [1 2 3 4 0]\n",
            " [2 1 4 0 3]\n",
            " [2 1 4 3 0]\n",
            " [3 1 2 0 4]\n",
            " [3 4 0 2 1]\n",
            " [3 4 2 1 0]\n",
            " [4 0 1 2 3]\n",
            " [4 1 3 2 0]\n",
            " [1 0 2 4 3]\n",
            " [3 1 2 4 0]\n",
            " [1 4 2 0 3]\n",
            " [0 1 2 3 4]\n",
            " [4 1 0 2 3]\n",
            " [1 3 2 0 4]\n",
            " [3 4 1 2 0]\n",
            " [0 1 2 3 4]]\n",
            "[0.00238095 0.00238095 0.00232019 0.00232019 0.00226757 0.00217391\n",
            " 0.00209205 0.00196464 0.00191205 0.00189753]\n",
            "[[0 1 2 3 4]\n",
            " [1 0 2 3 4]\n",
            " [1 0 2 4 3]\n",
            " [1 2 3 4 0]\n",
            " [1 3 2 0 4]\n",
            " [1 4 2 0 3]\n",
            " [2 1 4 3 0]\n",
            " [3 1 2 0 4]\n",
            " [4 1 3 2 0]]\n",
            "new population [[0 1 2 3 4]\n",
            " [1 0 2 3 4]\n",
            " [1 0 2 4 3]\n",
            " [1 2 3 4 0]\n",
            " [1 3 2 0 4]\n",
            " [1 4 2 0 3]\n",
            " [2 1 4 3 0]\n",
            " [3 1 2 0 4]\n",
            " [4 1 3 2 0]\n",
            " [0 1 2 4 3]]\n",
            "fits [0.00232019 0.00238095 0.00209205 0.00217391 0.00238095 0.00196464\n",
            " 0.00189753 0.00226757 0.00191205 0.00180832]\n",
            "0.0709679126739502\n",
            "{\"best solution\": [1, 0, 2, 3, 4], \"C_max\": 420.0, \"time\": 0.0709679126739502}\n"
          ],
          "name": "stdout"
        }
      ]
    },
    {
      "cell_type": "code",
      "metadata": {
        "id": "I6CO83JY1LD5"
      },
      "source": [],
      "execution_count": 287,
      "outputs": []
    }
  ]
}