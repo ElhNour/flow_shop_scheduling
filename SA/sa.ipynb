{
 "metadata": {
  "language_info": {
   "codemirror_mode": {
    "name": "ipython",
    "version": 3
   },
   "file_extension": ".py",
   "mimetype": "text/x-python",
   "name": "python",
   "nbconvert_exporter": "python",
   "pygments_lexer": "ipython3",
   "version": "3.8.3"
  },
  "orig_nbformat": 2,
  "kernelspec": {
   "name": "python383jvsc74a57bd003107d75bdfa57e7572c9a40a0855ad6ef332d9235008589679bed454da4888c",
   "display_name": "Python 3.8.3 64-bit"
  },
  "metadata": {
   "interpreter": {
    "hash": "03107d75bdfa57e7572c9a40a0855ad6ef332d9235008589679bed454da4888c"
   }
  }
 },
 "nbformat": 4,
 "nbformat_minor": 2,
 "cells": [
  {
   "cell_type": "code",
   "execution_count": 1,
   "metadata": {},
   "outputs": [],
   "source": [
    "import sys\n",
    "sys.path.append(\"../\") # in order to import fsp\n",
    "import numpy as np\n",
    "from utils import Instance"
   ]
  },
  {
   "cell_type": "code",
   "execution_count": 2,
   "metadata": {},
   "outputs": [
    {
     "output_type": "execute_result",
     "data": {
      "text/plain": [
       "array([[26.42610228,  1.55166615, 12.32223072],\n",
       "       [ 4.46775835,  0.83180441, 44.75944095],\n",
       "       [23.1901141 , 10.58694759, 18.23839051],\n",
       "       [ 1.29832295, 28.29588782, 10.65068084],\n",
       "       [13.3480665 ,  2.37257531, 26.3589965 ],\n",
       "       [ 4.11891258, 37.9879812 , 16.95887984],\n",
       "       [ 5.01222504, 14.41421419, 33.4644072 ],\n",
       "       [23.88215771,  6.0798037 , 27.32185976],\n",
       "       [ 7.41005492, 16.69796978, 25.08734156]])"
      ]
     },
     "metadata": {},
     "execution_count": 2
    }
   ],
   "source": [
    "jobs = 9\n",
    "machines = 3\n",
    "mean_time = 10\n",
    "std_time = 20\n",
    "random_mat = np.abs(np.random.normal(loc=mean_time,scale=std_time,size=(jobs,machines)))\n",
    "randomInstance = Instance(random_mat)\n",
    "random_mat\n"
   ]
  },
  {
   "cell_type": "code",
   "execution_count": 3,
   "metadata": {
    "tags": []
   },
   "outputs": [
    {
     "output_type": "stream",
     "name": "stdout",
     "text": [
      "[1, 3, 4, 7, 5, 2, 8, 6, 0]\n[{'init_solution_name': 'NEH', 'order': [0, 7, 5, 6, 4, 2, 8, 1, 3], 'C_max': 42}, {'init_solution_name': 'CDS', 'order': [0, 2, 7, 1, 3, 5, 4, 8, 6], 'C_max': 42}]\n"
     ]
    },
    {
     "output_type": "error",
     "ename": "TypeError",
     "evalue": "list indices must be integers or slices, not str",
     "traceback": [
      "\u001b[1;31m---------------------------------------------------------------------------\u001b[0m",
      "\u001b[1;31mTypeError\u001b[0m                                 Traceback (most recent call last)",
      "\u001b[1;32m<ipython-input-3-6f90b8a06a0e>\u001b[0m in \u001b[0;36m<module>\u001b[1;34m\u001b[0m\n\u001b[0;32m     15\u001b[0m \u001b[0mresults\u001b[0m \u001b[1;33m=\u001b[0m \u001b[0mSA\u001b[0m\u001b[1;33m.\u001b[0m\u001b[0mget_results\u001b[0m\u001b[1;33m(\u001b[0m\u001b[0mrandomInstance\u001b[0m\u001b[1;33m)\u001b[0m\u001b[1;33m\u001b[0m\u001b[1;33m\u001b[0m\u001b[0m\n\u001b[0;32m     16\u001b[0m \u001b[0mprint\u001b[0m\u001b[1;33m(\u001b[0m\u001b[0mresults\u001b[0m\u001b[1;33m)\u001b[0m\u001b[1;33m\u001b[0m\u001b[1;33m\u001b[0m\u001b[0m\n\u001b[1;32m---> 17\u001b[1;33m \u001b[0mres\u001b[0m \u001b[1;33m=\u001b[0m \u001b[0mrandomInstance\u001b[0m\u001b[1;33m.\u001b[0m\u001b[0mget_chart_data\u001b[0m\u001b[1;33m(\u001b[0m\u001b[0mresults\u001b[0m\u001b[1;33m)\u001b[0m\u001b[1;33m\u001b[0m\u001b[1;33m\u001b[0m\u001b[0m\n\u001b[0m\u001b[0;32m     18\u001b[0m \u001b[1;33m\u001b[0m\u001b[0m\n\u001b[0;32m     19\u001b[0m \u001b[0mfig\u001b[0m \u001b[1;33m=\u001b[0m \u001b[0mpx\u001b[0m\u001b[1;33m.\u001b[0m\u001b[0mtimeline\u001b[0m\u001b[1;33m(\u001b[0m\u001b[0mres\u001b[0m\u001b[1;33m[\u001b[0m\u001b[1;34m'df'\u001b[0m\u001b[1;33m]\u001b[0m\u001b[1;33m,\u001b[0m \u001b[0mx_start\u001b[0m\u001b[1;33m=\u001b[0m\u001b[1;34m\"Start\"\u001b[0m\u001b[1;33m,\u001b[0m \u001b[0mx_end\u001b[0m\u001b[1;33m=\u001b[0m\u001b[1;34m\"Finish\"\u001b[0m\u001b[1;33m,\u001b[0m \u001b[0my\u001b[0m\u001b[1;33m=\u001b[0m\u001b[1;34m\"Task\"\u001b[0m\u001b[1;33m,\u001b[0m \u001b[0mcolor\u001b[0m\u001b[1;33m=\u001b[0m\u001b[1;34m\"Resource\"\u001b[0m\u001b[1;33m)\u001b[0m\u001b[1;33m\u001b[0m\u001b[1;33m\u001b[0m\u001b[0m\n",
      "\u001b[1;32mc:\\Users\\Utilisateur\\Desktop\\Projects\\OPT\\utils.py\u001b[0m in \u001b[0;36mget_chart_data\u001b[1;34m(self, results)\u001b[0m\n\u001b[0;32m     50\u001b[0m         \u001b[0mcurrent_time\u001b[0m \u001b[1;33m=\u001b[0m \u001b[1;36m0\u001b[0m\u001b[1;33m\u001b[0m\u001b[1;33m\u001b[0m\u001b[0m\n\u001b[0;32m     51\u001b[0m \u001b[1;33m\u001b[0m\u001b[0m\n\u001b[1;32m---> 52\u001b[1;33m         \u001b[1;32mfor\u001b[0m \u001b[0mjob\u001b[0m \u001b[1;32min\u001b[0m \u001b[0mresults\u001b[0m\u001b[1;33m[\u001b[0m\u001b[1;34m'order'\u001b[0m\u001b[1;33m]\u001b[0m\u001b[1;33m:\u001b[0m\u001b[1;33m\u001b[0m\u001b[1;33m\u001b[0m\u001b[0m\n\u001b[0m\u001b[0;32m     53\u001b[0m             \u001b[0mcurrent_time\u001b[0m \u001b[1;33m=\u001b[0m \u001b[1;36m0\u001b[0m\u001b[1;33m\u001b[0m\u001b[1;33m\u001b[0m\u001b[0m\n\u001b[0;32m     54\u001b[0m             \u001b[1;32mfor\u001b[0m \u001b[0mmachine\u001b[0m \u001b[1;32min\u001b[0m \u001b[0mrange\u001b[0m\u001b[1;33m(\u001b[0m\u001b[0mself\u001b[0m\u001b[1;33m.\u001b[0m\u001b[0mget_machines_number\u001b[0m\u001b[1;33m(\u001b[0m\u001b[1;33m)\u001b[0m\u001b[1;33m)\u001b[0m\u001b[1;33m:\u001b[0m\u001b[1;33m\u001b[0m\u001b[1;33m\u001b[0m\u001b[0m\n",
      "\u001b[1;31mTypeError\u001b[0m: list indices must be integers or slices, not str"
     ]
    }
   ],
   "source": [
    "from fsp import simulated_annealing as SA\n",
    "import plotly.express as px\n",
    "randomInstance = Instance(\n",
    "    np.array([\n",
    "        [1,2,3,2],\n",
    "        [1,4,2,10],\n",
    "        [3,2,1,5],\n",
    "        [4,10,3,1],\n",
    "        [1,5,4,4],\n",
    "        [2,3,2,6],\n",
    "        [5,2,1,1],\n",
    "        [2,3,2,6],\n",
    "        [5,2,1,1],\n",
    "    ], dtype=np.int64))\n",
    "results = SA.get_results(randomInstance)\n",
    "print(results)\n",
    "for result in results :\n",
    "    res = randomInstance.get_chart_data(result)\n",
    "\n",
    "    fig = px.timeline(res['df'], x_start=\"Start\", x_end=\"Finish\", y=\"Task\", color=\"Resource\")\n",
    "    fig.layout.xaxis.update({\n",
    "            'tickvals' : res['date_ticks'],\n",
    "            'ticktext' : res['num_tick_labels']\n",
    "            })\n",
    "    fig.show()\n",
    "\n",
    "#results2 = branch_and_bound.get_results(randomInstance,search_strategy=branch_and_bound.DEPTH_FIRST_SEARCH,use_heuristique_init=True,log=False)\n",
    "#print(results2)"
   ]
  },
  {
   "cell_type": "code",
   "execution_count": null,
   "metadata": {},
   "outputs": [],
   "source": []
  }
 ]
}