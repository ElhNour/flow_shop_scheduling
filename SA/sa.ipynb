{
 "metadata": {
  "language_info": {
   "codemirror_mode": {
    "name": "ipython",
    "version": 3
   },
   "file_extension": ".py",
   "mimetype": "text/x-python",
   "name": "python",
   "nbconvert_exporter": "python",
   "pygments_lexer": "ipython3",
   "version": "3.8.3"
  },
  "orig_nbformat": 2,
  "kernelspec": {
   "name": "python383jvsc74a57bd003107d75bdfa57e7572c9a40a0855ad6ef332d9235008589679bed454da4888c",
   "display_name": "Python 3.8.3 64-bit"
  },
  "metadata": {
   "interpreter": {
    "hash": "03107d75bdfa57e7572c9a40a0855ad6ef332d9235008589679bed454da4888c"
   }
  }
 },
 "nbformat": 4,
 "nbformat_minor": 2,
 "cells": [
  {
   "cell_type": "code",
   "execution_count": 1,
   "metadata": {},
   "outputs": [],
   "source": [
    "import sys\n",
    "sys.path.append(\"../\") # in order to import fsp\n",
    "import numpy as np\n",
    "from utils import Instance"
   ]
  },
  {
   "cell_type": "code",
   "execution_count": 2,
   "metadata": {},
   "outputs": [
    {
     "output_type": "execute_result",
     "data": {
      "text/plain": [
       "array([[3.47570538e+01, 4.86591952e-01, 1.30504933e+01],\n",
       "       [3.34101611e+00, 9.86708096e+00, 6.11697091e-01],\n",
       "       [6.08595976e+00, 1.98786821e+01, 3.36535485e+01],\n",
       "       [4.02604174e+00, 1.02790610e+01, 2.17560790e+01],\n",
       "       [2.82479755e+01, 3.91392607e+01, 1.08831395e-02],\n",
       "       [2.19990916e+01, 5.31401013e+01, 6.26630693e+00],\n",
       "       [1.92702448e+01, 1.17009066e+01, 2.47761745e+01],\n",
       "       [8.37688361e-02, 1.73123347e+01, 7.43210002e+00],\n",
       "       [1.25591348e+01, 1.03056648e+00, 1.46432939e+01]])"
      ]
     },
     "metadata": {},
     "execution_count": 2
    }
   ],
   "source": [
    "jobs = 9\n",
    "machines = 3\n",
    "mean_time = 10\n",
    "std_time = 20\n",
    "random_mat = np.abs(np.random.normal(loc=mean_time,scale=std_time,size=(jobs,machines)))\n",
    "randomInstance = Instance(random_mat)\n",
    "random_mat\n"
   ]
  },
  {
   "cell_type": "code",
   "execution_count": 4,
   "metadata": {
    "tags": []
   },
   "outputs": [
    {
     "output_type": "error",
     "ename": "SyntaxError",
     "evalue": "invalid syntax (<ipython-input-4-2c4a2b884e0f>, line 15)",
     "traceback": [
      "\u001b[1;36m  File \u001b[1;32m\"<ipython-input-4-2c4a2b884e0f>\"\u001b[1;36m, line \u001b[1;32m15\u001b[0m\n\u001b[1;33m    results = SA.get_results(randomInstance)\u001b[0m\n\u001b[1;37m    ^\u001b[0m\n\u001b[1;31mSyntaxError\u001b[0m\u001b[1;31m:\u001b[0m invalid syntax\n"
     ]
    }
   ],
   "source": [
    "from fsp import simulated_annealing as SA\n",
    "import plotly.express as px\n",
    "randomInstance = Instance(\n",
    "    np.array([\n",
    "        [1,2,3,2],\n",
    "        [1,4,2,10],\n",
    "        [3,2,1,5],\n",
    "        [4,10,3,1],\n",
    "        [1,5,4,4],\n",
    "        [2,3,2,6],\n",
    "        [5,2,1,1],\n",
    "        [2,3,2,6],\n",
    "        [5,2,1,1],\n",
    "    ], dtype=np.int64))\n",
    "results = SA.get_results(randomInstance)\n",
    "print(results)\n",
    "res = randomInstance.get_chart_data(results)\n",
    "\n",
    "fig = px.timeline(res['df'], x_start=\"Start\", x_end=\"Finish\", y=\"Task\", color=\"Resource\")\n",
    "fig.layout.xaxis.update({\n",
    "        'tickvals' : res['date_ticks'],\n",
    "        'ticktext' : res['num_tick_labels']\n",
    "        })\n",
    "fig.show()\n",
    "\n",
    "#results2 = branch_and_bound.get_results(randomInstance,search_strategy=branch_and_bound.DEPTH_FIRST_SEARCH,use_heuristique_init=True,log=False)\n",
    "#print(results2)"
   ]
  },
  {
   "cell_type": "code",
   "execution_count": null,
   "metadata": {},
   "outputs": [],
   "source": []
  }
 ]
}