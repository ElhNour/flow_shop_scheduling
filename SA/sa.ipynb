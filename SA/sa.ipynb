{
 "metadata": {
  "language_info": {
   "codemirror_mode": {
    "name": "ipython",
    "version": 3
   },
   "file_extension": ".py",
   "mimetype": "text/x-python",
   "name": "python",
   "nbconvert_exporter": "python",
   "pygments_lexer": "ipython3",
   "version": "3.8.3"
  },
  "orig_nbformat": 2,
  "kernelspec": {
   "name": "python383jvsc74a57bd003107d75bdfa57e7572c9a40a0855ad6ef332d9235008589679bed454da4888c",
   "display_name": "Python 3.8.3 64-bit"
  },
  "metadata": {
   "interpreter": {
    "hash": "03107d75bdfa57e7572c9a40a0855ad6ef332d9235008589679bed454da4888c"
   }
  }
 },
 "nbformat": 4,
 "nbformat_minor": 2,
 "cells": [
  {
   "cell_type": "code",
   "execution_count": 1,
   "metadata": {},
   "outputs": [],
   "source": [
    "import sys\n",
    "sys.path.append(\"../\") # in order to import fsp\n",
    "import numpy as np\n",
    "from utils import Instance"
   ]
  },
  {
   "cell_type": "code",
   "execution_count": 2,
   "metadata": {},
   "outputs": [
    {
     "output_type": "execute_result",
     "data": {
      "text/plain": [
       "array([[ 5.57811348, 22.03625379, 10.43681007],\n",
       "       [ 4.74844619,  2.76220089, 20.96820222],\n",
       "       [37.44918334,  1.11475781,  3.21953815],\n",
       "       [10.04577009, 20.09502621, 11.10458327],\n",
       "       [15.39762873,  5.16175451, 16.55737505],\n",
       "       [29.63302936, 16.94699029, 17.94767043],\n",
       "       [ 1.19901391, 14.83911769, 15.71659137],\n",
       "       [ 2.23337923,  8.14589873, 28.85815006],\n",
       "       [26.28606255,  0.65936524, 22.94783465]])"
      ]
     },
     "metadata": {},
     "execution_count": 2
    }
   ],
   "source": [
    "jobs = 9\n",
    "machines = 3\n",
    "mean_time = 10\n",
    "std_time = 20\n",
    "random_mat = np.abs(np.random.normal(loc=mean_time,scale=std_time,size=(jobs,machines)))\n",
    "randomInstance = Instance(random_mat)\n",
    "random_mat\n"
   ]
  },
  {
   "cell_type": "code",
   "execution_count": 3,
   "metadata": {
    "tags": []
   },
   "outputs": [
    {
     "output_type": "stream",
     "name": "stdout",
     "text": [
      "NEH\n",
      "[2, 5, 0, 3, 4, 7, 6, 1, 8]\n",
      "{'order': [3, 1, 2, 4, 6, 7, 8, 5, 0], 'C_max': 736, 'time': 1.4247624999999857}\n"
     ]
    },
    {
     "output_type": "display_data",
     "data": {
      "application/vnd.plotly.v1+json": {
       "config": {
        "plotlyServerURL": "https://plot.ly"
       },
       "data": [
        {
         "alignmentgroup": "True",
         "base": [
          "1971-01-01",
          "1971-03-02",
          "1971-04-20",
          "1971-05-26"
         ],
         "hovertemplate": "Resource=Job 3<br>Start=%{base}<br>Finish=%{x}<br>Task=%{y}<extra></extra>",
         "legendgroup": "Job 3",
         "marker": {
          "color": "#636efa"
         },
         "name": "Job 3",
         "offsetgroup": "Job 3",
         "orientation": "h",
         "showlegend": true,
         "textposition": "auto",
         "type": "bar",
         "x": [
          5184000000,
          4233600000,
          3110400000,
          6652800000
         ],
         "xaxis": "x",
         "y": [
          "Machine 0",
          "Machine 1",
          "Machine 2",
          "Machine 3"
         ],
         "yaxis": "y"
        },
        {
         "alignmentgroup": "True",
         "base": [
          "1971-03-02",
          "1971-04-28",
          "1971-05-31",
          "1971-08-11"
         ],
         "hovertemplate": "Resource=Job 1<br>Start=%{base}<br>Finish=%{x}<br>Task=%{y}<extra></extra>",
         "legendgroup": "Job 1",
         "marker": {
          "color": "#EF553B"
         },
         "name": "Job 1",
         "offsetgroup": "Job 1",
         "orientation": "h",
         "showlegend": true,
         "textposition": "auto",
         "type": "bar",
         "x": [
          4924800000,
          2851200000,
          2419200000,
          4838400000
         ],
         "xaxis": "x",
         "y": [
          "Machine 0",
          "Machine 1",
          "Machine 2",
          "Machine 3"
         ],
         "yaxis": "y"
        },
        {
         "alignmentgroup": "True",
         "base": [
          "1971-04-28",
          "1971-05-31",
          "1971-07-27",
          "1971-10-06"
         ],
         "hovertemplate": "Resource=Job 2<br>Start=%{base}<br>Finish=%{x}<br>Task=%{y}<extra></extra>",
         "legendgroup": "Job 2",
         "marker": {
          "color": "#00cc96"
         },
         "name": "Job 2",
         "offsetgroup": "Job 2",
         "orientation": "h",
         "showlegend": true,
         "textposition": "auto",
         "type": "bar",
         "x": [
          2851200000,
          4924800000,
          6048000000,
          8208000000
         ],
         "xaxis": "x",
         "y": [
          "Machine 0",
          "Machine 1",
          "Machine 2",
          "Machine 3"
         ],
         "yaxis": "y"
        },
        {
         "alignmentgroup": "True",
         "base": [
          "1971-05-31",
          "1971-07-29",
          "1971-10-05",
          "1972-01-09"
         ],
         "hovertemplate": "Resource=Job 4<br>Start=%{base}<br>Finish=%{x}<br>Task=%{y}<extra></extra>",
         "legendgroup": "Job 4",
         "marker": {
          "color": "#ab63fa"
         },
         "name": "Job 4",
         "offsetgroup": "Job 4",
         "orientation": "h",
         "showlegend": true,
         "textposition": "auto",
         "type": "bar",
         "x": [
          5097600000,
          5875200000,
          2332800000,
          5443200000
         ],
         "xaxis": "x",
         "y": [
          "Machine 0",
          "Machine 1",
          "Machine 2",
          "Machine 3"
         ],
         "yaxis": "y"
        },
        {
         "alignmentgroup": "True",
         "base": [
          "1971-07-29",
          "1971-10-05",
          "1971-11-10",
          "1972-03-12"
         ],
         "hovertemplate": "Resource=Job 6<br>Start=%{base}<br>Finish=%{x}<br>Task=%{y}<extra></extra>",
         "legendgroup": "Job 6",
         "marker": {
          "color": "#FFA15A"
         },
         "name": "Job 6",
         "offsetgroup": "Job 6",
         "orientation": "h",
         "showlegend": true,
         "textposition": "auto",
         "type": "bar",
         "x": [
          2505600000,
          3110400000,
          7862400000,
          4492800000
         ],
         "xaxis": "x",
         "y": [
          "Machine 0",
          "Machine 1",
          "Machine 2",
          "Machine 3"
         ],
         "yaxis": "y"
        },
        {
         "alignmentgroup": "True",
         "base": [
          "1971-08-27",
          "1971-11-10",
          "1972-02-09",
          "1972-05-03"
         ],
         "hovertemplate": "Resource=Job 7<br>Start=%{base}<br>Finish=%{x}<br>Task=%{y}<extra></extra>",
         "legendgroup": "Job 7",
         "marker": {
          "color": "#19d3f3"
         },
         "name": "Job 7",
         "offsetgroup": "Job 7",
         "orientation": "h",
         "showlegend": true,
         "textposition": "auto",
         "type": "bar",
         "x": [
          6480000000,
          2937600000,
          4665600000,
          4060800000
         ],
         "xaxis": "x",
         "y": [
          "Machine 0",
          "Machine 1",
          "Machine 2",
          "Machine 3"
         ],
         "yaxis": "y"
        },
        {
         "alignmentgroup": "True",
         "base": [
          "1971-11-10",
          "1972-02-04",
          "1972-05-05",
          "1972-06-19"
         ],
         "hovertemplate": "Resource=Job 8<br>Start=%{base}<br>Finish=%{x}<br>Task=%{y}<extra></extra>",
         "legendgroup": "Job 8",
         "marker": {
          "color": "#FF6692"
         },
         "name": "Job 8",
         "offsetgroup": "Job 8",
         "orientation": "h",
         "showlegend": true,
         "textposition": "auto",
         "type": "bar",
         "x": [
          7430400000,
          7862400000,
          1555200000,
          6480000000
         ],
         "xaxis": "x",
         "y": [
          "Machine 0",
          "Machine 1",
          "Machine 2",
          "Machine 3"
         ],
         "yaxis": "y"
        },
        {
         "alignmentgroup": "True",
         "base": [
          "1972-02-04",
          "1972-05-05",
          "1972-05-31",
          "1972-09-02"
         ],
         "hovertemplate": "Resource=Job 5<br>Start=%{base}<br>Finish=%{x}<br>Task=%{y}<extra></extra>",
         "legendgroup": "Job 5",
         "marker": {
          "color": "#B6E880"
         },
         "name": "Job 5",
         "offsetgroup": "Job 5",
         "orientation": "h",
         "showlegend": true,
         "textposition": "auto",
         "type": "bar",
         "x": [
          4924800000,
          2246400000,
          8035200000,
          7344000000
         ],
         "xaxis": "x",
         "y": [
          "Machine 0",
          "Machine 1",
          "Machine 2",
          "Machine 3"
         ],
         "yaxis": "y"
        },
        {
         "alignmentgroup": "True",
         "base": [
          "1972-04-01",
          "1972-07-02",
          "1972-09-01",
          "1972-11-26"
         ],
         "hovertemplate": "Resource=Job 0<br>Start=%{base}<br>Finish=%{x}<br>Task=%{y}<extra></extra>",
         "legendgroup": "Job 0",
         "marker": {
          "color": "#FF97FF"
         },
         "name": "Job 0",
         "offsetgroup": "Job 0",
         "orientation": "h",
         "showlegend": true,
         "textposition": "auto",
         "type": "bar",
         "x": [
          7948800000,
          3628800000,
          6566400000,
          3628800000
         ],
         "xaxis": "x",
         "y": [
          "Machine 0",
          "Machine 1",
          "Machine 2",
          "Machine 3"
         ],
         "yaxis": "y"
        }
       ],
       "layout": {
        "barmode": "overlay",
        "legend": {
         "title": {
          "text": "Resource"
         },
         "tracegroupgap": 0
        },
        "margin": {
         "t": 60
        },
        "template": {
         "data": {
          "bar": [
           {
            "error_x": {
             "color": "#2a3f5f"
            },
            "error_y": {
             "color": "#2a3f5f"
            },
            "marker": {
             "line": {
              "color": "#E5ECF6",
              "width": 0.5
             }
            },
            "type": "bar"
           }
          ],
          "barpolar": [
           {
            "marker": {
             "line": {
              "color": "#E5ECF6",
              "width": 0.5
             }
            },
            "type": "barpolar"
           }
          ],
          "carpet": [
           {
            "aaxis": {
             "endlinecolor": "#2a3f5f",
             "gridcolor": "white",
             "linecolor": "white",
             "minorgridcolor": "white",
             "startlinecolor": "#2a3f5f"
            },
            "baxis": {
             "endlinecolor": "#2a3f5f",
             "gridcolor": "white",
             "linecolor": "white",
             "minorgridcolor": "white",
             "startlinecolor": "#2a3f5f"
            },
            "type": "carpet"
           }
          ],
          "choropleth": [
           {
            "colorbar": {
             "outlinewidth": 0,
             "ticks": ""
            },
            "type": "choropleth"
           }
          ],
          "contour": [
           {
            "colorbar": {
             "outlinewidth": 0,
             "ticks": ""
            },
            "colorscale": [
             [
              0,
              "#0d0887"
             ],
             [
              0.1111111111111111,
              "#46039f"
             ],
             [
              0.2222222222222222,
              "#7201a8"
             ],
             [
              0.3333333333333333,
              "#9c179e"
             ],
             [
              0.4444444444444444,
              "#bd3786"
             ],
             [
              0.5555555555555556,
              "#d8576b"
             ],
             [
              0.6666666666666666,
              "#ed7953"
             ],
             [
              0.7777777777777778,
              "#fb9f3a"
             ],
             [
              0.8888888888888888,
              "#fdca26"
             ],
             [
              1,
              "#f0f921"
             ]
            ],
            "type": "contour"
           }
          ],
          "contourcarpet": [
           {
            "colorbar": {
             "outlinewidth": 0,
             "ticks": ""
            },
            "type": "contourcarpet"
           }
          ],
          "heatmap": [
           {
            "colorbar": {
             "outlinewidth": 0,
             "ticks": ""
            },
            "colorscale": [
             [
              0,
              "#0d0887"
             ],
             [
              0.1111111111111111,
              "#46039f"
             ],
             [
              0.2222222222222222,
              "#7201a8"
             ],
             [
              0.3333333333333333,
              "#9c179e"
             ],
             [
              0.4444444444444444,
              "#bd3786"
             ],
             [
              0.5555555555555556,
              "#d8576b"
             ],
             [
              0.6666666666666666,
              "#ed7953"
             ],
             [
              0.7777777777777778,
              "#fb9f3a"
             ],
             [
              0.8888888888888888,
              "#fdca26"
             ],
             [
              1,
              "#f0f921"
             ]
            ],
            "type": "heatmap"
           }
          ],
          "heatmapgl": [
           {
            "colorbar": {
             "outlinewidth": 0,
             "ticks": ""
            },
            "colorscale": [
             [
              0,
              "#0d0887"
             ],
             [
              0.1111111111111111,
              "#46039f"
             ],
             [
              0.2222222222222222,
              "#7201a8"
             ],
             [
              0.3333333333333333,
              "#9c179e"
             ],
             [
              0.4444444444444444,
              "#bd3786"
             ],
             [
              0.5555555555555556,
              "#d8576b"
             ],
             [
              0.6666666666666666,
              "#ed7953"
             ],
             [
              0.7777777777777778,
              "#fb9f3a"
             ],
             [
              0.8888888888888888,
              "#fdca26"
             ],
             [
              1,
              "#f0f921"
             ]
            ],
            "type": "heatmapgl"
           }
          ],
          "histogram": [
           {
            "marker": {
             "colorbar": {
              "outlinewidth": 0,
              "ticks": ""
             }
            },
            "type": "histogram"
           }
          ],
          "histogram2d": [
           {
            "colorbar": {
             "outlinewidth": 0,
             "ticks": ""
            },
            "colorscale": [
             [
              0,
              "#0d0887"
             ],
             [
              0.1111111111111111,
              "#46039f"
             ],
             [
              0.2222222222222222,
              "#7201a8"
             ],
             [
              0.3333333333333333,
              "#9c179e"
             ],
             [
              0.4444444444444444,
              "#bd3786"
             ],
             [
              0.5555555555555556,
              "#d8576b"
             ],
             [
              0.6666666666666666,
              "#ed7953"
             ],
             [
              0.7777777777777778,
              "#fb9f3a"
             ],
             [
              0.8888888888888888,
              "#fdca26"
             ],
             [
              1,
              "#f0f921"
             ]
            ],
            "type": "histogram2d"
           }
          ],
          "histogram2dcontour": [
           {
            "colorbar": {
             "outlinewidth": 0,
             "ticks": ""
            },
            "colorscale": [
             [
              0,
              "#0d0887"
             ],
             [
              0.1111111111111111,
              "#46039f"
             ],
             [
              0.2222222222222222,
              "#7201a8"
             ],
             [
              0.3333333333333333,
              "#9c179e"
             ],
             [
              0.4444444444444444,
              "#bd3786"
             ],
             [
              0.5555555555555556,
              "#d8576b"
             ],
             [
              0.6666666666666666,
              "#ed7953"
             ],
             [
              0.7777777777777778,
              "#fb9f3a"
             ],
             [
              0.8888888888888888,
              "#fdca26"
             ],
             [
              1,
              "#f0f921"
             ]
            ],
            "type": "histogram2dcontour"
           }
          ],
          "mesh3d": [
           {
            "colorbar": {
             "outlinewidth": 0,
             "ticks": ""
            },
            "type": "mesh3d"
           }
          ],
          "parcoords": [
           {
            "line": {
             "colorbar": {
              "outlinewidth": 0,
              "ticks": ""
             }
            },
            "type": "parcoords"
           }
          ],
          "pie": [
           {
            "automargin": true,
            "type": "pie"
           }
          ],
          "scatter": [
           {
            "marker": {
             "colorbar": {
              "outlinewidth": 0,
              "ticks": ""
             }
            },
            "type": "scatter"
           }
          ],
          "scatter3d": [
           {
            "line": {
             "colorbar": {
              "outlinewidth": 0,
              "ticks": ""
             }
            },
            "marker": {
             "colorbar": {
              "outlinewidth": 0,
              "ticks": ""
             }
            },
            "type": "scatter3d"
           }
          ],
          "scattercarpet": [
           {
            "marker": {
             "colorbar": {
              "outlinewidth": 0,
              "ticks": ""
             }
            },
            "type": "scattercarpet"
           }
          ],
          "scattergeo": [
           {
            "marker": {
             "colorbar": {
              "outlinewidth": 0,
              "ticks": ""
             }
            },
            "type": "scattergeo"
           }
          ],
          "scattergl": [
           {
            "marker": {
             "colorbar": {
              "outlinewidth": 0,
              "ticks": ""
             }
            },
            "type": "scattergl"
           }
          ],
          "scattermapbox": [
           {
            "marker": {
             "colorbar": {
              "outlinewidth": 0,
              "ticks": ""
             }
            },
            "type": "scattermapbox"
           }
          ],
          "scatterpolar": [
           {
            "marker": {
             "colorbar": {
              "outlinewidth": 0,
              "ticks": ""
             }
            },
            "type": "scatterpolar"
           }
          ],
          "scatterpolargl": [
           {
            "marker": {
             "colorbar": {
              "outlinewidth": 0,
              "ticks": ""
             }
            },
            "type": "scatterpolargl"
           }
          ],
          "scatterternary": [
           {
            "marker": {
             "colorbar": {
              "outlinewidth": 0,
              "ticks": ""
             }
            },
            "type": "scatterternary"
           }
          ],
          "surface": [
           {
            "colorbar": {
             "outlinewidth": 0,
             "ticks": ""
            },
            "colorscale": [
             [
              0,
              "#0d0887"
             ],
             [
              0.1111111111111111,
              "#46039f"
             ],
             [
              0.2222222222222222,
              "#7201a8"
             ],
             [
              0.3333333333333333,
              "#9c179e"
             ],
             [
              0.4444444444444444,
              "#bd3786"
             ],
             [
              0.5555555555555556,
              "#d8576b"
             ],
             [
              0.6666666666666666,
              "#ed7953"
             ],
             [
              0.7777777777777778,
              "#fb9f3a"
             ],
             [
              0.8888888888888888,
              "#fdca26"
             ],
             [
              1,
              "#f0f921"
             ]
            ],
            "type": "surface"
           }
          ],
          "table": [
           {
            "cells": {
             "fill": {
              "color": "#EBF0F8"
             },
             "line": {
              "color": "white"
             }
            },
            "header": {
             "fill": {
              "color": "#C8D4E3"
             },
             "line": {
              "color": "white"
             }
            },
            "type": "table"
           }
          ]
         },
         "layout": {
          "annotationdefaults": {
           "arrowcolor": "#2a3f5f",
           "arrowhead": 0,
           "arrowwidth": 1
          },
          "autotypenumbers": "strict",
          "coloraxis": {
           "colorbar": {
            "outlinewidth": 0,
            "ticks": ""
           }
          },
          "colorscale": {
           "diverging": [
            [
             0,
             "#8e0152"
            ],
            [
             0.1,
             "#c51b7d"
            ],
            [
             0.2,
             "#de77ae"
            ],
            [
             0.3,
             "#f1b6da"
            ],
            [
             0.4,
             "#fde0ef"
            ],
            [
             0.5,
             "#f7f7f7"
            ],
            [
             0.6,
             "#e6f5d0"
            ],
            [
             0.7,
             "#b8e186"
            ],
            [
             0.8,
             "#7fbc41"
            ],
            [
             0.9,
             "#4d9221"
            ],
            [
             1,
             "#276419"
            ]
           ],
           "sequential": [
            [
             0,
             "#0d0887"
            ],
            [
             0.1111111111111111,
             "#46039f"
            ],
            [
             0.2222222222222222,
             "#7201a8"
            ],
            [
             0.3333333333333333,
             "#9c179e"
            ],
            [
             0.4444444444444444,
             "#bd3786"
            ],
            [
             0.5555555555555556,
             "#d8576b"
            ],
            [
             0.6666666666666666,
             "#ed7953"
            ],
            [
             0.7777777777777778,
             "#fb9f3a"
            ],
            [
             0.8888888888888888,
             "#fdca26"
            ],
            [
             1,
             "#f0f921"
            ]
           ],
           "sequentialminus": [
            [
             0,
             "#0d0887"
            ],
            [
             0.1111111111111111,
             "#46039f"
            ],
            [
             0.2222222222222222,
             "#7201a8"
            ],
            [
             0.3333333333333333,
             "#9c179e"
            ],
            [
             0.4444444444444444,
             "#bd3786"
            ],
            [
             0.5555555555555556,
             "#d8576b"
            ],
            [
             0.6666666666666666,
             "#ed7953"
            ],
            [
             0.7777777777777778,
             "#fb9f3a"
            ],
            [
             0.8888888888888888,
             "#fdca26"
            ],
            [
             1,
             "#f0f921"
            ]
           ]
          },
          "colorway": [
           "#636efa",
           "#EF553B",
           "#00cc96",
           "#ab63fa",
           "#FFA15A",
           "#19d3f3",
           "#FF6692",
           "#B6E880",
           "#FF97FF",
           "#FECB52"
          ],
          "font": {
           "color": "#2a3f5f"
          },
          "geo": {
           "bgcolor": "white",
           "lakecolor": "white",
           "landcolor": "#E5ECF6",
           "showlakes": true,
           "showland": true,
           "subunitcolor": "white"
          },
          "hoverlabel": {
           "align": "left"
          },
          "hovermode": "closest",
          "mapbox": {
           "style": "light"
          },
          "paper_bgcolor": "white",
          "plot_bgcolor": "#E5ECF6",
          "polar": {
           "angularaxis": {
            "gridcolor": "white",
            "linecolor": "white",
            "ticks": ""
           },
           "bgcolor": "#E5ECF6",
           "radialaxis": {
            "gridcolor": "white",
            "linecolor": "white",
            "ticks": ""
           }
          },
          "scene": {
           "xaxis": {
            "backgroundcolor": "#E5ECF6",
            "gridcolor": "white",
            "gridwidth": 2,
            "linecolor": "white",
            "showbackground": true,
            "ticks": "",
            "zerolinecolor": "white"
           },
           "yaxis": {
            "backgroundcolor": "#E5ECF6",
            "gridcolor": "white",
            "gridwidth": 2,
            "linecolor": "white",
            "showbackground": true,
            "ticks": "",
            "zerolinecolor": "white"
           },
           "zaxis": {
            "backgroundcolor": "#E5ECF6",
            "gridcolor": "white",
            "gridwidth": 2,
            "linecolor": "white",
            "showbackground": true,
            "ticks": "",
            "zerolinecolor": "white"
           }
          },
          "shapedefaults": {
           "line": {
            "color": "#2a3f5f"
           }
          },
          "ternary": {
           "aaxis": {
            "gridcolor": "white",
            "linecolor": "white",
            "ticks": ""
           },
           "baxis": {
            "gridcolor": "white",
            "linecolor": "white",
            "ticks": ""
           },
           "bgcolor": "#E5ECF6",
           "caxis": {
            "gridcolor": "white",
            "linecolor": "white",
            "ticks": ""
           }
          },
          "title": {
           "x": 0.05
          },
          "xaxis": {
           "automargin": true,
           "gridcolor": "white",
           "linecolor": "white",
           "ticks": "",
           "title": {
            "standoff": 15
           },
           "zerolinecolor": "white",
           "zerolinewidth": 2
          },
          "yaxis": {
           "automargin": true,
           "gridcolor": "white",
           "linecolor": "white",
           "ticks": "",
           "title": {
            "standoff": 15
           },
           "zerolinecolor": "white",
           "zerolinewidth": 2
          }
         }
        },
        "xaxis": {
         "anchor": "y",
         "domain": [
          0,
          1
         ],
         "ticktext": [
          0,
          1,
          2,
          3,
          4,
          5,
          6,
          7,
          8,
          9,
          10,
          11,
          12,
          13,
          14,
          15,
          16,
          17,
          18,
          19,
          20,
          21,
          22,
          23,
          24,
          25,
          26,
          27,
          28,
          29,
          30,
          31,
          32,
          33,
          34,
          35,
          36,
          37,
          38,
          39,
          40,
          41,
          42,
          43,
          44,
          45,
          46,
          47,
          48,
          49,
          50,
          51,
          52,
          53,
          54,
          55,
          56,
          57,
          58,
          59,
          60,
          61,
          62,
          63,
          64,
          65,
          66,
          67,
          68,
          69,
          70,
          71,
          72,
          73,
          74,
          75,
          76,
          77,
          78,
          79,
          80,
          81,
          82,
          83,
          84,
          85,
          86,
          87,
          88,
          89,
          90,
          91,
          92,
          93,
          94,
          95,
          96,
          97,
          98,
          99,
          100,
          101,
          102,
          103,
          104,
          105,
          106,
          107,
          108,
          109,
          110,
          111,
          112,
          113,
          114,
          115,
          116,
          117,
          118,
          119,
          120,
          121,
          122,
          123,
          124,
          125,
          126,
          127,
          128,
          129,
          130,
          131,
          132,
          133,
          134,
          135,
          136,
          137,
          138,
          139,
          140,
          141,
          142,
          143,
          144,
          145,
          146,
          147,
          148,
          149,
          150,
          151,
          152,
          153,
          154,
          155,
          156,
          157,
          158,
          159,
          160,
          161,
          162,
          163,
          164,
          165,
          166,
          167,
          168,
          169,
          170,
          171,
          172,
          173,
          174,
          175,
          176,
          177,
          178,
          179,
          180,
          181,
          182,
          183,
          184,
          185,
          186,
          187,
          188,
          189,
          190,
          191,
          192,
          193,
          194,
          195,
          196,
          197,
          198,
          199,
          200,
          201,
          202,
          203,
          204,
          205,
          206,
          207,
          208,
          209,
          210,
          211,
          212,
          213,
          214,
          215,
          216,
          217,
          218,
          219,
          220,
          221,
          222,
          223,
          224,
          225,
          226,
          227,
          228,
          229,
          230,
          231,
          232,
          233,
          234,
          235,
          236,
          237,
          238,
          239,
          240,
          241,
          242,
          243,
          244,
          245,
          246,
          247,
          248,
          249,
          250,
          251,
          252,
          253,
          254,
          255,
          256,
          257,
          258,
          259,
          260,
          261,
          262,
          263,
          264,
          265,
          266,
          267,
          268,
          269,
          270,
          271,
          272,
          273,
          274,
          275,
          276,
          277,
          278,
          279,
          280,
          281,
          282,
          283,
          284,
          285,
          286,
          287,
          288,
          289,
          290,
          291,
          292,
          293,
          294,
          295,
          296,
          297,
          298,
          299,
          300,
          301,
          302,
          303,
          304,
          305,
          306,
          307,
          308,
          309,
          310,
          311,
          312,
          313,
          314,
          315,
          316,
          317,
          318,
          319,
          320,
          321,
          322,
          323,
          324,
          325,
          326,
          327,
          328,
          329,
          330,
          331,
          332,
          333,
          334,
          335,
          336,
          337,
          338,
          339,
          340,
          341,
          342,
          343,
          344,
          345,
          346,
          347,
          348,
          349,
          350,
          351,
          352,
          353,
          354,
          355,
          356,
          357,
          358,
          359,
          360,
          361,
          362,
          363,
          364,
          365,
          366,
          367,
          368,
          369,
          370,
          371,
          372,
          373,
          374,
          375,
          376,
          377,
          378,
          379,
          380,
          381,
          382,
          383,
          384,
          385,
          386,
          387,
          388,
          389,
          390,
          391,
          392,
          393,
          394,
          395,
          396,
          397,
          398,
          399,
          400,
          401,
          402,
          403,
          404,
          405,
          406,
          407,
          408,
          409,
          410,
          411,
          412,
          413,
          414,
          415,
          416,
          417,
          418,
          419,
          420,
          421,
          422,
          423,
          424,
          425,
          426,
          427,
          428,
          429,
          430,
          431,
          432,
          433,
          434,
          435,
          436,
          437,
          438,
          439,
          440,
          441,
          442,
          443,
          444,
          445,
          446,
          447,
          448,
          449,
          450,
          451,
          452,
          453,
          454,
          455,
          456,
          457,
          458,
          459,
          460,
          461,
          462,
          463,
          464,
          465,
          466,
          467,
          468,
          469,
          470,
          471,
          472,
          473,
          474,
          475,
          476,
          477,
          478,
          479,
          480,
          481,
          482,
          483,
          484,
          485,
          486,
          487,
          488,
          489,
          490,
          491,
          492,
          493,
          494,
          495,
          496,
          497,
          498,
          499,
          500,
          501,
          502,
          503,
          504,
          505,
          506,
          507,
          508,
          509,
          510,
          511,
          512,
          513,
          514,
          515,
          516,
          517,
          518,
          519,
          520,
          521,
          522,
          523,
          524,
          525,
          526,
          527,
          528,
          529,
          530,
          531,
          532,
          533,
          534,
          535,
          536,
          537,
          538,
          539,
          540,
          541,
          542,
          543,
          544,
          545,
          546,
          547,
          548,
          549,
          550,
          551,
          552,
          553,
          554,
          555,
          556,
          557,
          558,
          559,
          560,
          561,
          562,
          563,
          564,
          565,
          566,
          567,
          568,
          569,
          570,
          571,
          572,
          573,
          574,
          575,
          576,
          577,
          578,
          579,
          580,
          581,
          582,
          583,
          584,
          585,
          586,
          587,
          588,
          589,
          590,
          591,
          592,
          593,
          594,
          595,
          596,
          597,
          598,
          599,
          600,
          601,
          602,
          603,
          604,
          605,
          606,
          607,
          608,
          609,
          610,
          611,
          612,
          613,
          614,
          615,
          616,
          617,
          618,
          619,
          620,
          621,
          622,
          623,
          624,
          625,
          626,
          627,
          628,
          629,
          630,
          631,
          632,
          633,
          634,
          635,
          636,
          637,
          638,
          639,
          640,
          641,
          642,
          643,
          644,
          645,
          646,
          647,
          648,
          649,
          650,
          651,
          652,
          653,
          654,
          655,
          656,
          657,
          658,
          659,
          660,
          661,
          662,
          663,
          664,
          665,
          666,
          667,
          668,
          669,
          670,
          671,
          672,
          673,
          674,
          675,
          676,
          677,
          678,
          679,
          680,
          681,
          682,
          683,
          684,
          685,
          686,
          687,
          688,
          689,
          690,
          691,
          692,
          693,
          694,
          695,
          696,
          697,
          698,
          699,
          700,
          701,
          702,
          703,
          704,
          705,
          706,
          707,
          708,
          709,
          710,
          711,
          712,
          713,
          714,
          715,
          716,
          717,
          718,
          719,
          720,
          721,
          722,
          723,
          724,
          725,
          726,
          727,
          728,
          729,
          730,
          731,
          732,
          733,
          734,
          735,
          736,
          737
         ],
         "tickvals": [
          "1971-01-01",
          "1971-01-02",
          "1971-01-03",
          "1971-01-04",
          "1971-01-05",
          "1971-01-06",
          "1971-01-07",
          "1971-01-08",
          "1971-01-09",
          "1971-01-10",
          "1971-01-11",
          "1971-01-12",
          "1971-01-13",
          "1971-01-14",
          "1971-01-15",
          "1971-01-16",
          "1971-01-17",
          "1971-01-18",
          "1971-01-19",
          "1971-01-20",
          "1971-01-21",
          "1971-01-22",
          "1971-01-23",
          "1971-01-24",
          "1971-01-25",
          "1971-01-26",
          "1971-01-27",
          "1971-01-28",
          "1971-01-29",
          "1971-01-30",
          "1971-01-31",
          "1971-02-01",
          "1971-02-02",
          "1971-02-03",
          "1971-02-04",
          "1971-02-05",
          "1971-02-06",
          "1971-02-07",
          "1971-02-08",
          "1971-02-09",
          "1971-02-10",
          "1971-02-11",
          "1971-02-12",
          "1971-02-13",
          "1971-02-14",
          "1971-02-15",
          "1971-02-16",
          "1971-02-17",
          "1971-02-18",
          "1971-02-19",
          "1971-02-20",
          "1971-02-21",
          "1971-02-22",
          "1971-02-23",
          "1971-02-24",
          "1971-02-25",
          "1971-02-26",
          "1971-02-27",
          "1971-02-28",
          "1971-03-01",
          "1971-03-02",
          "1971-03-03",
          "1971-03-04",
          "1971-03-05",
          "1971-03-06",
          "1971-03-07",
          "1971-03-08",
          "1971-03-09",
          "1971-03-10",
          "1971-03-11",
          "1971-03-12",
          "1971-03-13",
          "1971-03-14",
          "1971-03-15",
          "1971-03-16",
          "1971-03-17",
          "1971-03-18",
          "1971-03-19",
          "1971-03-20",
          "1971-03-21",
          "1971-03-22",
          "1971-03-23",
          "1971-03-24",
          "1971-03-25",
          "1971-03-26",
          "1971-03-27",
          "1971-03-28",
          "1971-03-29",
          "1971-03-30",
          "1971-03-31",
          "1971-04-01",
          "1971-04-02",
          "1971-04-03",
          "1971-04-04",
          "1971-04-05",
          "1971-04-06",
          "1971-04-07",
          "1971-04-08",
          "1971-04-09",
          "1971-04-10",
          "1971-04-11",
          "1971-04-12",
          "1971-04-13",
          "1971-04-14",
          "1971-04-15",
          "1971-04-16",
          "1971-04-17",
          "1971-04-18",
          "1971-04-19",
          "1971-04-20",
          "1971-04-21",
          "1971-04-22",
          "1971-04-23",
          "1971-04-24",
          "1971-04-25",
          "1971-04-26",
          "1971-04-27",
          "1971-04-28",
          "1971-04-29",
          "1971-04-30",
          "1971-05-01",
          "1971-05-02",
          "1971-05-03",
          "1971-05-04",
          "1971-05-05",
          "1971-05-06",
          "1971-05-07",
          "1971-05-08",
          "1971-05-09",
          "1971-05-10",
          "1971-05-11",
          "1971-05-12",
          "1971-05-13",
          "1971-05-14",
          "1971-05-15",
          "1971-05-16",
          "1971-05-17",
          "1971-05-18",
          "1971-05-19",
          "1971-05-20",
          "1971-05-21",
          "1971-05-22",
          "1971-05-23",
          "1971-05-24",
          "1971-05-25",
          "1971-05-26",
          "1971-05-27",
          "1971-05-28",
          "1971-05-29",
          "1971-05-30",
          "1971-05-31",
          "1971-06-01",
          "1971-06-02",
          "1971-06-03",
          "1971-06-04",
          "1971-06-05",
          "1971-06-06",
          "1971-06-07",
          "1971-06-08",
          "1971-06-09",
          "1971-06-10",
          "1971-06-11",
          "1971-06-12",
          "1971-06-13",
          "1971-06-14",
          "1971-06-15",
          "1971-06-16",
          "1971-06-17",
          "1971-06-18",
          "1971-06-19",
          "1971-06-20",
          "1971-06-21",
          "1971-06-22",
          "1971-06-23",
          "1971-06-24",
          "1971-06-25",
          "1971-06-26",
          "1971-06-27",
          "1971-06-28",
          "1971-06-29",
          "1971-06-30",
          "1971-07-01",
          "1971-07-02",
          "1971-07-03",
          "1971-07-04",
          "1971-07-05",
          "1971-07-06",
          "1971-07-07",
          "1971-07-08",
          "1971-07-09",
          "1971-07-10",
          "1971-07-11",
          "1971-07-12",
          "1971-07-13",
          "1971-07-14",
          "1971-07-15",
          "1971-07-16",
          "1971-07-17",
          "1971-07-18",
          "1971-07-19",
          "1971-07-20",
          "1971-07-21",
          "1971-07-22",
          "1971-07-23",
          "1971-07-24",
          "1971-07-25",
          "1971-07-26",
          "1971-07-27",
          "1971-07-28",
          "1971-07-29",
          "1971-07-30",
          "1971-07-31",
          "1971-08-01",
          "1971-08-02",
          "1971-08-03",
          "1971-08-04",
          "1971-08-05",
          "1971-08-06",
          "1971-08-07",
          "1971-08-08",
          "1971-08-09",
          "1971-08-10",
          "1971-08-11",
          "1971-08-12",
          "1971-08-13",
          "1971-08-14",
          "1971-08-15",
          "1971-08-16",
          "1971-08-17",
          "1971-08-18",
          "1971-08-19",
          "1971-08-20",
          "1971-08-21",
          "1971-08-22",
          "1971-08-23",
          "1971-08-24",
          "1971-08-25",
          "1971-08-26",
          "1971-08-27",
          "1971-08-28",
          "1971-08-29",
          "1971-08-30",
          "1971-08-31",
          "1971-09-01",
          "1971-09-02",
          "1971-09-03",
          "1971-09-04",
          "1971-09-05",
          "1971-09-06",
          "1971-09-07",
          "1971-09-08",
          "1971-09-09",
          "1971-09-10",
          "1971-09-11",
          "1971-09-12",
          "1971-09-13",
          "1971-09-14",
          "1971-09-15",
          "1971-09-16",
          "1971-09-17",
          "1971-09-18",
          "1971-09-19",
          "1971-09-20",
          "1971-09-21",
          "1971-09-22",
          "1971-09-23",
          "1971-09-24",
          "1971-09-25",
          "1971-09-26",
          "1971-09-27",
          "1971-09-28",
          "1971-09-29",
          "1971-09-30",
          "1971-10-01",
          "1971-10-02",
          "1971-10-03",
          "1971-10-04",
          "1971-10-05",
          "1971-10-06",
          "1971-10-07",
          "1971-10-08",
          "1971-10-09",
          "1971-10-10",
          "1971-10-11",
          "1971-10-12",
          "1971-10-13",
          "1971-10-14",
          "1971-10-15",
          "1971-10-16",
          "1971-10-17",
          "1971-10-18",
          "1971-10-19",
          "1971-10-20",
          "1971-10-21",
          "1971-10-22",
          "1971-10-23",
          "1971-10-24",
          "1971-10-25",
          "1971-10-26",
          "1971-10-27",
          "1971-10-28",
          "1971-10-29",
          "1971-10-30",
          "1971-10-31",
          "1971-11-01",
          "1971-11-02",
          "1971-11-03",
          "1971-11-04",
          "1971-11-05",
          "1971-11-06",
          "1971-11-07",
          "1971-11-08",
          "1971-11-09",
          "1971-11-10",
          "1971-11-11",
          "1971-11-12",
          "1971-11-13",
          "1971-11-14",
          "1971-11-15",
          "1971-11-16",
          "1971-11-17",
          "1971-11-18",
          "1971-11-19",
          "1971-11-20",
          "1971-11-21",
          "1971-11-22",
          "1971-11-23",
          "1971-11-24",
          "1971-11-25",
          "1971-11-26",
          "1971-11-27",
          "1971-11-28",
          "1971-11-29",
          "1971-11-30",
          "1971-12-01",
          "1971-12-02",
          "1971-12-03",
          "1971-12-04",
          "1971-12-05",
          "1971-12-06",
          "1971-12-07",
          "1971-12-08",
          "1971-12-09",
          "1971-12-10",
          "1971-12-11",
          "1971-12-12",
          "1971-12-13",
          "1971-12-14",
          "1971-12-15",
          "1971-12-16",
          "1971-12-17",
          "1971-12-18",
          "1971-12-19",
          "1971-12-20",
          "1971-12-21",
          "1971-12-22",
          "1971-12-23",
          "1971-12-24",
          "1971-12-25",
          "1971-12-26",
          "1971-12-27",
          "1971-12-28",
          "1971-12-29",
          "1971-12-30",
          "1971-12-31",
          "1972-01-01",
          "1972-01-02",
          "1972-01-03",
          "1972-01-04",
          "1972-01-05",
          "1972-01-06",
          "1972-01-07",
          "1972-01-08",
          "1972-01-09",
          "1972-01-10",
          "1972-01-11",
          "1972-01-12",
          "1972-01-13",
          "1972-01-14",
          "1972-01-15",
          "1972-01-16",
          "1972-01-17",
          "1972-01-18",
          "1972-01-19",
          "1972-01-20",
          "1972-01-21",
          "1972-01-22",
          "1972-01-23",
          "1972-01-24",
          "1972-01-25",
          "1972-01-26",
          "1972-01-27",
          "1972-01-28",
          "1972-01-29",
          "1972-01-30",
          "1972-01-31",
          "1972-02-01",
          "1972-02-02",
          "1972-02-03",
          "1972-02-04",
          "1972-02-05",
          "1972-02-06",
          "1972-02-07",
          "1972-02-08",
          "1972-02-09",
          "1972-02-10",
          "1972-02-11",
          "1972-02-12",
          "1972-02-13",
          "1972-02-14",
          "1972-02-15",
          "1972-02-16",
          "1972-02-17",
          "1972-02-18",
          "1972-02-19",
          "1972-02-20",
          "1972-02-21",
          "1972-02-22",
          "1972-02-23",
          "1972-02-24",
          "1972-02-25",
          "1972-02-26",
          "1972-02-27",
          "1972-02-28",
          "1972-02-29",
          "1972-03-01",
          "1972-03-02",
          "1972-03-03",
          "1972-03-04",
          "1972-03-05",
          "1972-03-06",
          "1972-03-07",
          "1972-03-08",
          "1972-03-09",
          "1972-03-10",
          "1972-03-11",
          "1972-03-12",
          "1972-03-13",
          "1972-03-14",
          "1972-03-15",
          "1972-03-16",
          "1972-03-17",
          "1972-03-18",
          "1972-03-19",
          "1972-03-20",
          "1972-03-21",
          "1972-03-22",
          "1972-03-23",
          "1972-03-24",
          "1972-03-25",
          "1972-03-26",
          "1972-03-27",
          "1972-03-28",
          "1972-03-29",
          "1972-03-30",
          "1972-03-31",
          "1972-04-01",
          "1972-04-02",
          "1972-04-03",
          "1972-04-04",
          "1972-04-05",
          "1972-04-06",
          "1972-04-07",
          "1972-04-08",
          "1972-04-09",
          "1972-04-10",
          "1972-04-11",
          "1972-04-12",
          "1972-04-13",
          "1972-04-14",
          "1972-04-15",
          "1972-04-16",
          "1972-04-17",
          "1972-04-18",
          "1972-04-19",
          "1972-04-20",
          "1972-04-21",
          "1972-04-22",
          "1972-04-23",
          "1972-04-24",
          "1972-04-25",
          "1972-04-26",
          "1972-04-27",
          "1972-04-28",
          "1972-04-29",
          "1972-04-30",
          "1972-05-01",
          "1972-05-02",
          "1972-05-03",
          "1972-05-04",
          "1972-05-05",
          "1972-05-06",
          "1972-05-07",
          "1972-05-08",
          "1972-05-09",
          "1972-05-10",
          "1972-05-11",
          "1972-05-12",
          "1972-05-13",
          "1972-05-14",
          "1972-05-15",
          "1972-05-16",
          "1972-05-17",
          "1972-05-18",
          "1972-05-19",
          "1972-05-20",
          "1972-05-21",
          "1972-05-22",
          "1972-05-23",
          "1972-05-24",
          "1972-05-25",
          "1972-05-26",
          "1972-05-27",
          "1972-05-28",
          "1972-05-29",
          "1972-05-30",
          "1972-05-31",
          "1972-06-01",
          "1972-06-02",
          "1972-06-03",
          "1972-06-04",
          "1972-06-05",
          "1972-06-06",
          "1972-06-07",
          "1972-06-08",
          "1972-06-09",
          "1972-06-10",
          "1972-06-11",
          "1972-06-12",
          "1972-06-13",
          "1972-06-14",
          "1972-06-15",
          "1972-06-16",
          "1972-06-17",
          "1972-06-18",
          "1972-06-19",
          "1972-06-20",
          "1972-06-21",
          "1972-06-22",
          "1972-06-23",
          "1972-06-24",
          "1972-06-25",
          "1972-06-26",
          "1972-06-27",
          "1972-06-28",
          "1972-06-29",
          "1972-06-30",
          "1972-07-01",
          "1972-07-02",
          "1972-07-03",
          "1972-07-04",
          "1972-07-05",
          "1972-07-06",
          "1972-07-07",
          "1972-07-08",
          "1972-07-09",
          "1972-07-10",
          "1972-07-11",
          "1972-07-12",
          "1972-07-13",
          "1972-07-14",
          "1972-07-15",
          "1972-07-16",
          "1972-07-17",
          "1972-07-18",
          "1972-07-19",
          "1972-07-20",
          "1972-07-21",
          "1972-07-22",
          "1972-07-23",
          "1972-07-24",
          "1972-07-25",
          "1972-07-26",
          "1972-07-27",
          "1972-07-28",
          "1972-07-29",
          "1972-07-30",
          "1972-07-31",
          "1972-08-01",
          "1972-08-02",
          "1972-08-03",
          "1972-08-04",
          "1972-08-05",
          "1972-08-06",
          "1972-08-07",
          "1972-08-08",
          "1972-08-09",
          "1972-08-10",
          "1972-08-11",
          "1972-08-12",
          "1972-08-13",
          "1972-08-14",
          "1972-08-15",
          "1972-08-16",
          "1972-08-17",
          "1972-08-18",
          "1972-08-19",
          "1972-08-20",
          "1972-08-21",
          "1972-08-22",
          "1972-08-23",
          "1972-08-24",
          "1972-08-25",
          "1972-08-26",
          "1972-08-27",
          "1972-08-28",
          "1972-08-29",
          "1972-08-30",
          "1972-08-31",
          "1972-09-01",
          "1972-09-02",
          "1972-09-03",
          "1972-09-04",
          "1972-09-05",
          "1972-09-06",
          "1972-09-07",
          "1972-09-08",
          "1972-09-09",
          "1972-09-10",
          "1972-09-11",
          "1972-09-12",
          "1972-09-13",
          "1972-09-14",
          "1972-09-15",
          "1972-09-16",
          "1972-09-17",
          "1972-09-18",
          "1972-09-19",
          "1972-09-20",
          "1972-09-21",
          "1972-09-22",
          "1972-09-23",
          "1972-09-24",
          "1972-09-25",
          "1972-09-26",
          "1972-09-27",
          "1972-09-28",
          "1972-09-29",
          "1972-09-30",
          "1972-10-01",
          "1972-10-02",
          "1972-10-03",
          "1972-10-04",
          "1972-10-05",
          "1972-10-06",
          "1972-10-07",
          "1972-10-08",
          "1972-10-09",
          "1972-10-10",
          "1972-10-11",
          "1972-10-12",
          "1972-10-13",
          "1972-10-14",
          "1972-10-15",
          "1972-10-16",
          "1972-10-17",
          "1972-10-18",
          "1972-10-19",
          "1972-10-20",
          "1972-10-21",
          "1972-10-22",
          "1972-10-23",
          "1972-10-24",
          "1972-10-25",
          "1972-10-26",
          "1972-10-27",
          "1972-10-28",
          "1972-10-29",
          "1972-10-30",
          "1972-10-31",
          "1972-11-01",
          "1972-11-02",
          "1972-11-03",
          "1972-11-04",
          "1972-11-05",
          "1972-11-06",
          "1972-11-07",
          "1972-11-08",
          "1972-11-09",
          "1972-11-10",
          "1972-11-11",
          "1972-11-12",
          "1972-11-13",
          "1972-11-14",
          "1972-11-15",
          "1972-11-16",
          "1972-11-17",
          "1972-11-18",
          "1972-11-19",
          "1972-11-20",
          "1972-11-21",
          "1972-11-22",
          "1972-11-23",
          "1972-11-24",
          "1972-11-25",
          "1972-11-26",
          "1972-11-27",
          "1972-11-28",
          "1972-11-29",
          "1972-11-30",
          "1972-12-01",
          "1972-12-02",
          "1972-12-03",
          "1972-12-04",
          "1972-12-05",
          "1972-12-06",
          "1972-12-07",
          "1972-12-08",
          "1972-12-09",
          "1972-12-10",
          "1972-12-11",
          "1972-12-12",
          "1972-12-13",
          "1972-12-14",
          "1972-12-15",
          "1972-12-16",
          "1972-12-17",
          "1972-12-18",
          "1972-12-19",
          "1972-12-20",
          "1972-12-21",
          "1972-12-22",
          "1972-12-23",
          "1972-12-24",
          "1972-12-25",
          "1972-12-26",
          "1972-12-27",
          "1972-12-28",
          "1972-12-29",
          "1972-12-30",
          "1972-12-31",
          "1973-01-01",
          "1973-01-02",
          "1973-01-03",
          "1973-01-04",
          "1973-01-05",
          "1973-01-06",
          "1973-01-07"
         ],
         "type": "date"
        },
        "yaxis": {
         "anchor": "x",
         "domain": [
          0,
          1
         ],
         "title": {
          "text": "Task"
         }
        }
       }
      }
     },
     "metadata": {}
    }
   ],
   "source": [
    "from fsp import simulated_annealing as SA\n",
    "from utils import JsonBenchmark\n",
    "import plotly.express as px\n",
    "\n",
    "jsonbenchmark_9_4 = JsonBenchmark(9,4,benchmark_folder=\"../benchmarks\")\n",
    "instance0 = jsonbenchmark_9_4.get_instance_by_index(0)[\"instance\"]\n",
    "randomInstance = Instance(np.asarray(instance0))\n",
    "#randomInstance = Instance(\n",
    "#    np.array([\n",
    "#        [1,2,3,2],\n",
    "#        [1,4,2,10],\n",
    "#        [3,2,1,5],\n",
    "#        [4,10,3,1],\n",
    "#        [1,5,4,4],\n",
    "#        [2,3,2,6],\n",
    "#        [5,2,1,1],\n",
    "#        [2,3,2,6],\n",
    "#        [5,2,1,1],\n",
    "#    ], dtype=np.int64))\n",
    "results = SA.get_results(randomInstance,'NEH')\n",
    "print(results)\n",
    "\n",
    "res = randomInstance.get_chart_data(results)\n",
    "\n",
    "fig = px.timeline(res['df'], x_start=\"Start\", x_end=\"Finish\", y=\"Task\", color=\"Resource\")\n",
    "fig.layout.xaxis.update({\n",
    "        'tickvals' : res['date_ticks'],\n",
    "        'ticktext' : res['num_tick_labels']\n",
    "})\n",
    "fig.show()\n",
    "\n",
    "#results2 = branch_and_bound.get_results(randomInstance,search_strategy=branch_and_bound.DEPTH_FIRST_SEARCH,use_heuristique_init=True,log=False)\n",
    "#print(results2)"
   ]
  },
  {
   "cell_type": "code",
   "execution_count": null,
   "metadata": {},
   "outputs": [],
   "source": []
  }
 ]
}