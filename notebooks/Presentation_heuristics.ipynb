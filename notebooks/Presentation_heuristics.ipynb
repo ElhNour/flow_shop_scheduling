{
 "cells": [
  {
   "cell_type": "markdown",
   "metadata": {
    "slideshow": {
     "slide_type": "slide"
    }
   },
   "source": [
    "# Présentation heuristique"
   ]
  },
  {
   "cell_type": "markdown",
   "metadata": {
    "slideshow": {
     "slide_type": "slide"
    }
   },
   "source": [
    "# Heuristiques\n",
    "## CDS\n",
    "## GUPTA\n",
    "## NEH"
   ]
  },
  {
   "cell_type": "markdown",
   "metadata": {
    "slideshow": {
     "slide_type": "slide"
    }
   },
   "source": [
    "# Colonie de fourmis\n",
    "### Parametres\n",
    "1. initValue = $10^{-6}$: valeur initial du pheromone\n",
    "1. nbAnts = 5: nombre de fourmis\n",
    "1. rho = 0.01: taux d’évaporation de phéromone\n",
    "1. alpha = 1: importance pheromone\n",
    "1. beta = 0.0001, : importance info heuristique \n",
    "1. q0 = 0.97:  \n",
    "    * j = argmax[$phero^{\\alpha} * heuristique^{\\beta}$]\n",
    "    * $p_{i,j}= \\frac{phero^{\\alpha} * heuristique^{\\beta}}{\\sum{phero^{\\alpha} * heuristique^{\\beta}}}$  pour j $\\in$ $N_i^k$\n",
    "1. nb_rounds : nombre d'episode\n",
    "1. parallel : execution parallele\n",
    "1. threads : Nombre de threads\n",
    "1. local_search = True, : recherche local\n",
    "1. local_search_proba = 0.02, : proba de la recherche local pour chaque job\n",
    "1. local_search_nb_permutation = 3 : nombre de permutation pour chaque job\n",
    "1. heuristic_info_strategy"
   ]
  },
  {
   "cell_type": "markdown",
   "metadata": {
    "slideshow": {
     "slide_type": "subslide"
    }
   },
   "source": [
    "# Colonie de fourmis\n",
    "### Info heuritstique\n",
    "- Rule 1: (Extension of Johnson's Rule):\n",
    "Si un job a des temps de traitement plus courts sur les premieres\n",
    "machines que celles des machines finales, il doit être\n",
    "traité en premier.\n",
    "- Rule 2: (Extension of SPT):\n",
    "si un job a un temp reduit sur toute les machines, il doit etre en premier\n",
    "\n",
    "### MAJ du pheromone\n",
    "$\\tau_{i,j} = (1-\\rho) \\tau_{i,j}+\\rho* \\frac{z}{C_{max}^{best}}$ pour (i,j) $\\in$ Best"
   ]
  },
  {
   "cell_type": "markdown",
   "metadata": {
    "slideshow": {
     "slide_type": "slide"
    }
   },
   "source": [
    "# Algorithme génétique\n",
    "### Parametres\n",
    "1. popul_size : taille de la population\n",
    "1. nb_generations : nombre de générations\n",
    "1. Pc = 0.9 : probabilité de crossover\n",
    "1. Pm = 0.06 : probabilité de mutation"
   ]
  },
  {
   "cell_type": "markdown",
   "metadata": {
    "slideshow": {
     "slide_type": "subslide"
    }
   },
   "source": [
    "# Algorithme génétique\n",
    "### Sélection\n",
    "### Crossover\n",
    "### Mutation\n",
    "### MAJ population"
   ]
  },
  {
   "cell_type": "markdown",
   "metadata": {
    "slideshow": {
     "slide_type": "slide"
    }
   },
   "source": [
    "# Recuit simulé\n",
    "### Parametres\n",
    "1. initial_value = 'CDS': l'heuristique d'initialisation\n",
    "1. Ti=200 : Température initiale\n",
    "1. Tf = 0.1 : Température finale\n",
    "1. nb_repetitions=10 :Nombres d'iteration avant changement de temperature \n",
    "1. alpha = 0.93 : Taux de mise a jour"
   ]
  },
  {
   "cell_type": "markdown",
   "metadata": {
    "slideshow": {
     "slide_type": "slide"
    }
   },
   "source": [
    "# Tests "
   ]
  },
  {
   "cell_type": "code",
   "execution_count": 2,
   "metadata": {},
   "outputs": [],
   "source": [
    "machines = 20\n",
    "jobs = 50\n",
    "indtance_id = 0"
   ]
  },
  {
   "cell_type": "code",
   "execution_count": 3,
   "metadata": {},
   "outputs": [],
   "source": [
    "import json\n",
    "\n",
    "RESULT_PATH = \"../results/\"\n",
    "res = {}\n",
    "file_name = 'b_'+str(jobs)+'_'+str(machines)+'/res_'+str(indtance_id)+'.json'\n",
    "\n",
    "methodes_list = ['cds', 'neh', 'aco','sa', 'ga']\n",
    "\n",
    "for meth in methodes_list:\n",
    "    with open(RESULT_PATH+meth+'/'+file_name) as f:\n",
    "            res[meth] = {\n",
    "                \n",
    "            } json.load(f)"
   ]
  },
  {
   "cell_type": "code",
   "execution_count": 4,
   "metadata": {},
   "outputs": [],
   "source": [
    "infos = {}\n",
    "def fill_info(method_name):\n",
    "    infos[method_name] = {\n",
    "        'max' : max(res[method_name], key =lambda x: x['results'][0]['results']['C_max']),\n",
    "        'min' : min(res[method_name], key =lambda x: x['results'][0]['results']['C_max'])\n",
    "    } \n",
    "    \n",
    "for meth in methodes_list:\n",
    "    fill_info(meth)"
   ]
  },
  {
   "cell_type": "code",
   "execution_count": 5,
   "metadata": {
    "slideshow": {
     "slide_type": "slide"
    }
   },
   "outputs": [
    {
     "data": {
      "text/html": [
       "<div>\n",
       "<style scoped>\n",
       "    .dataframe tbody tr th:only-of-type {\n",
       "        vertical-align: middle;\n",
       "    }\n",
       "\n",
       "    .dataframe tbody tr th {\n",
       "        vertical-align: top;\n",
       "    }\n",
       "\n",
       "    .dataframe thead th {\n",
       "        text-align: right;\n",
       "    }\n",
       "</style>\n",
       "<table border=\"1\" class=\"dataframe\">\n",
       "  <thead>\n",
       "    <tr style=\"text-align: right;\">\n",
       "      <th></th>\n",
       "      <th>max</th>\n",
       "      <th>min</th>\n",
       "    </tr>\n",
       "  </thead>\n",
       "  <tbody>\n",
       "    <tr>\n",
       "      <th>cds</th>\n",
       "      <td>4319.0</td>\n",
       "      <td>4319.0</td>\n",
       "    </tr>\n",
       "    <tr>\n",
       "      <th>neh</th>\n",
       "      <td>5035.0</td>\n",
       "      <td>5035.0</td>\n",
       "    </tr>\n",
       "    <tr>\n",
       "      <th>aco</th>\n",
       "      <td>4397.0</td>\n",
       "      <td>4130.0</td>\n",
       "    </tr>\n",
       "    <tr>\n",
       "      <th>sa</th>\n",
       "      <td>4511.0</td>\n",
       "      <td>4035.0</td>\n",
       "    </tr>\n",
       "    <tr>\n",
       "      <th>ga</th>\n",
       "      <td>4538.0</td>\n",
       "      <td>4048.0</td>\n",
       "    </tr>\n",
       "  </tbody>\n",
       "</table>\n",
       "</div>"
      ],
      "text/plain": [
       "        max     min\n",
       "cds  4319.0  4319.0\n",
       "neh  5035.0  5035.0\n",
       "aco  4397.0  4130.0\n",
       "sa   4511.0  4035.0\n",
       "ga   4538.0  4048.0"
      ]
     },
     "execution_count": 5,
     "metadata": {},
     "output_type": "execute_result"
    }
   ],
   "source": [
    "import pandas as pd\n",
    "data = []\n",
    "for k, v in infos.items():\n",
    "    data.append( [v['max']['results'][0]['results']['C_max'],\n",
    "              v['min']['results'][0]['results']['C_max']\n",
    "              ])\n",
    "    \n",
    "pd.DataFrame(data, methodes_list, columns=[\"max\", \"min\"])"
   ]
  },
  {
   "cell_type": "code",
   "execution_count": 6,
   "metadata": {
    "slideshow": {
     "slide_type": "slide"
    }
   },
   "outputs": [
    {
     "data": {
      "text/html": [
       "<div>\n",
       "<style scoped>\n",
       "    .dataframe tbody tr th:only-of-type {\n",
       "        vertical-align: middle;\n",
       "    }\n",
       "\n",
       "    .dataframe tbody tr th {\n",
       "        vertical-align: top;\n",
       "    }\n",
       "\n",
       "    .dataframe thead th {\n",
       "        text-align: right;\n",
       "    }\n",
       "</style>\n",
       "<table border=\"1\" class=\"dataframe\">\n",
       "  <thead>\n",
       "    <tr style=\"text-align: right;\">\n",
       "      <th></th>\n",
       "      <th>0.01</th>\n",
       "      <th>0.02</th>\n",
       "      <th>0.06</th>\n",
       "      <th>0.10</th>\n",
       "      <th>0.20</th>\n",
       "    </tr>\n",
       "  </thead>\n",
       "  <tbody>\n",
       "    <tr>\n",
       "      <th>0.80</th>\n",
       "      <td>4119.0</td>\n",
       "      <td>4267.0</td>\n",
       "      <td>4202.0</td>\n",
       "      <td>4241.0</td>\n",
       "      <td>4228.0</td>\n",
       "    </tr>\n",
       "    <tr>\n",
       "      <th>0.85</th>\n",
       "      <td>4200.0</td>\n",
       "      <td>4184.0</td>\n",
       "      <td>4220.0</td>\n",
       "      <td>4180.0</td>\n",
       "      <td>4200.0</td>\n",
       "    </tr>\n",
       "    <tr>\n",
       "      <th>0.87</th>\n",
       "      <td>4129.0</td>\n",
       "      <td>4239.0</td>\n",
       "      <td>4166.0</td>\n",
       "      <td>4156.0</td>\n",
       "      <td>4240.0</td>\n",
       "    </tr>\n",
       "    <tr>\n",
       "      <th>0.90</th>\n",
       "      <td>4187.0</td>\n",
       "      <td>4197.0</td>\n",
       "      <td>4170.0</td>\n",
       "      <td>4271.0</td>\n",
       "      <td>4308.0</td>\n",
       "    </tr>\n",
       "    <tr>\n",
       "      <th>0.92</th>\n",
       "      <td>4245.0</td>\n",
       "      <td>4192.0</td>\n",
       "      <td>4150.0</td>\n",
       "      <td>4246.0</td>\n",
       "      <td>4154.0</td>\n",
       "    </tr>\n",
       "    <tr>\n",
       "      <th>0.94</th>\n",
       "      <td>4155.0</td>\n",
       "      <td>4164.0</td>\n",
       "      <td>4130.0</td>\n",
       "      <td>4267.0</td>\n",
       "      <td>4204.0</td>\n",
       "    </tr>\n",
       "    <tr>\n",
       "      <th>0.96</th>\n",
       "      <td>4140.0</td>\n",
       "      <td>4192.0</td>\n",
       "      <td>4166.0</td>\n",
       "      <td>4278.0</td>\n",
       "      <td>4150.0</td>\n",
       "    </tr>\n",
       "    <tr>\n",
       "      <th>0.98</th>\n",
       "      <td>4156.0</td>\n",
       "      <td>4241.0</td>\n",
       "      <td>4134.0</td>\n",
       "      <td>4168.0</td>\n",
       "      <td>4254.0</td>\n",
       "    </tr>\n",
       "  </tbody>\n",
       "</table>\n",
       "</div>"
      ],
      "text/plain": [
       "        0.01    0.02    0.06    0.10    0.20\n",
       "0.80  4119.0  4267.0  4202.0  4241.0  4228.0\n",
       "0.85  4200.0  4184.0  4220.0  4180.0  4200.0\n",
       "0.87  4129.0  4239.0  4166.0  4156.0  4240.0\n",
       "0.90  4187.0  4197.0  4170.0  4271.0  4308.0\n",
       "0.92  4245.0  4192.0  4150.0  4246.0  4154.0\n",
       "0.94  4155.0  4164.0  4130.0  4267.0  4204.0\n",
       "0.96  4140.0  4192.0  4166.0  4278.0  4150.0\n",
       "0.98  4156.0  4241.0  4134.0  4168.0  4254.0"
      ]
     },
     "execution_count": 6,
     "metadata": {},
     "output_type": "execute_result"
    }
   ],
   "source": [
    "import numpy as np\n",
    "import matplotlib.pyplot as plt\n",
    "probas = res['ga'][:40]\n",
    "result = []\n",
    "re = []\n",
    "for i in range(len(probas)):\n",
    "    val = probas[i]\n",
    "    if i % 5 == 0 and i !=0:\n",
    "        result.append(re)\n",
    "        re = []\n",
    "    re.append(val['results'][0]['results']['C_max'])\n",
    "result.append(re)\n",
    "\n",
    "df = pd.DataFrame(result, [0.8, 0.85, 0.87, 0.9, 0.92, 0.94, 0.96, 0.98], [0.01, 0.02, 0.06, 0.1, 0.2])\n",
    "df"
   ]
  },
  {
   "cell_type": "markdown",
   "metadata": {},
   "source": [
    "# AG"
   ]
  },
  {
   "cell_type": "code",
   "execution_count": 1,
   "metadata": {},
   "outputs": [],
   "source": [
    "import json\n",
    "import pandas as pd\n",
    "\n",
    "RESULT_PATH = \"../results/\"\n",
    "res = {}\n",
    "\n",
    "tai_benchmarks = [\n",
    "        [20,5],\n",
    "        [20,10],\n",
    "        [20,20],\n",
    "        [50,5],\n",
    "        [50,10],\n",
    "        [50,20],\n",
    "        [100,5],\n",
    "        [100,10],\n",
    "#          [100,20],\n",
    "#         [500,20]\n",
    "    ]\n",
    "\n",
    "file_names = []\n",
    "for ben in tai_benchmarks:\n",
    "    for inst in range(1):\n",
    "        file_names.append('b_'+str(ben[0])+'_'+str(ben[1])+'/res_'+str(inst)+'.json')\n",
    "\n",
    "methodes_list = ['cds', \n",
    "                 'neh', \n",
    "                 'aco',\n",
    "#                  'sa', \n",
    "                 'ga']\n",
    "\n",
    "for meth in methodes_list:\n",
    "    res[meth] = {}\n",
    "    for file_name in file_names:\n",
    "        with open(RESULT_PATH+meth+'/'+file_name) as f:\n",
    "                res[meth][file_name] = json.load(f)"
   ]
  },
  {
   "cell_type": "code",
   "execution_count": 2,
   "metadata": {},
   "outputs": [],
   "source": [
    "import os, sys\n",
    "sys.path.append(\"../\")\n",
    "\n",
    "from utils import Instance, Benchmark,JsonBenchmark, gen_instance_id\n",
    "\n",
    "def instance_file_to_numbers(file):\n",
    "    file_split = file.split('_')\n",
    "    return {\n",
    "        'jobs_number': int(file_split[1]),\n",
    "        'machines_number': int(file_split[2]),\n",
    "        'instance_number': int(file_split[3][0])\n",
    "    } \n",
    "\n",
    "def benchmark_file_to_numbers(file):\n",
    "    #file exemple tai5_5.txt we want to extract (5, 5)\n",
    "    file = file[3:-4]\n",
    "    file_split = file.split('_')\n",
    "    return {\n",
    "        'jobs_number': int(file_split[0]),\n",
    "        'machines_number': int(file_split[1]),\n",
    "    } \n",
    "\n",
    "def read_all_instances(BENCHMARKS_FOLDER):\n",
    "    results = {}\n",
    "    instance_id = ''\n",
    "    for file in os.listdir(BENCHMARKS_FOLDER):\n",
    "        if file.endswith(\".txt\"):\n",
    "            result = benchmark_file_to_numbers(file)\n",
    "            benchmark = Benchmark(result['jobs_number'], result['machines_number'], BENCHMARKS_FOLDER)\n",
    "            instances_number = benchmark.get_instances_number()\n",
    "            for i in range(instances_number):\n",
    "                inst = benchmark.get_instance(i)\n",
    "                result['jobs_number'], result['machines_number'], i\n",
    "                inst.id = 'b_'+str(result['jobs_number'])+'_'+str(result['machines_number'])+'/res_'+str(i)+'.json'\n",
    "                results[inst.id] = inst\n",
    "    return results\n",
    "\n",
    "#key:id instance -> value: Instance object\n",
    "instances = read_all_instances('../benchmarks')"
   ]
  },
  {
   "cell_type": "code",
   "execution_count": 3,
   "metadata": {},
   "outputs": [],
   "source": [
    "ga = [0 for _ in range(len(res['ga']['b_20_20/res_0.json']))]\n",
    "for instance, result in res['ga'].items():\n",
    "    # 40 are the results where we used defferent pc and pm\n",
    "    for i in range(len(result)):\n",
    "        one_instance = result[i]\n",
    "        ga[i] += one_instance['results'][0]['results']['C_max'] / instances[instance].lower_bound"
   ]
  },
  {
   "cell_type": "markdown",
   "metadata": {},
   "source": [
    "## Pc vs Pm"
   ]
  },
  {
   "cell_type": "code",
   "execution_count": 4,
   "metadata": {},
   "outputs": [
    {
     "data": {
      "text/html": [
       "<div>\n",
       "<style scoped>\n",
       "    .dataframe tbody tr th:only-of-type {\n",
       "        vertical-align: middle;\n",
       "    }\n",
       "\n",
       "    .dataframe tbody tr th {\n",
       "        vertical-align: top;\n",
       "    }\n",
       "\n",
       "    .dataframe thead th {\n",
       "        text-align: right;\n",
       "    }\n",
       "</style>\n",
       "<table border=\"1\" class=\"dataframe\">\n",
       "  <thead>\n",
       "    <tr style=\"text-align: right;\">\n",
       "      <th></th>\n",
       "      <th>0.01</th>\n",
       "      <th>0.02</th>\n",
       "      <th>0.06</th>\n",
       "      <th>0.10</th>\n",
       "      <th>0.20</th>\n",
       "    </tr>\n",
       "  </thead>\n",
       "  <tbody>\n",
       "    <tr>\n",
       "      <th>0.80</th>\n",
       "      <td>8.804868</td>\n",
       "      <td>8.955491</td>\n",
       "      <td>8.841889</td>\n",
       "      <td>8.908552</td>\n",
       "      <td>8.887454</td>\n",
       "    </tr>\n",
       "    <tr>\n",
       "      <th>0.85</th>\n",
       "      <td>8.996020</td>\n",
       "      <td>8.929938</td>\n",
       "      <td>8.928470</td>\n",
       "      <td>8.836845</td>\n",
       "      <td>8.902091</td>\n",
       "    </tr>\n",
       "    <tr>\n",
       "      <th>0.87</th>\n",
       "      <td>8.900080</td>\n",
       "      <td>8.912847</td>\n",
       "      <td>8.886084</td>\n",
       "      <td>8.829580</td>\n",
       "      <td>8.909423</td>\n",
       "    </tr>\n",
       "    <tr>\n",
       "      <th>0.90</th>\n",
       "      <td>8.877612</td>\n",
       "      <td>8.874201</td>\n",
       "      <td>8.828810</td>\n",
       "      <td>8.861719</td>\n",
       "      <td>8.887377</td>\n",
       "    </tr>\n",
       "    <tr>\n",
       "      <th>0.92</th>\n",
       "      <td>8.888275</td>\n",
       "      <td>8.898121</td>\n",
       "      <td>8.874821</td>\n",
       "      <td>8.923960</td>\n",
       "      <td>8.853282</td>\n",
       "    </tr>\n",
       "    <tr>\n",
       "      <th>0.94</th>\n",
       "      <td>8.924514</td>\n",
       "      <td>8.889257</td>\n",
       "      <td>8.897260</td>\n",
       "      <td>8.915835</td>\n",
       "      <td>8.888774</td>\n",
       "    </tr>\n",
       "    <tr>\n",
       "      <th>0.96</th>\n",
       "      <td>8.840277</td>\n",
       "      <td>8.894800</td>\n",
       "      <td>8.872787</td>\n",
       "      <td>8.857395</td>\n",
       "      <td>8.809398</td>\n",
       "    </tr>\n",
       "    <tr>\n",
       "      <th>0.98</th>\n",
       "      <td>8.846332</td>\n",
       "      <td>8.876691</td>\n",
       "      <td>8.856568</td>\n",
       "      <td>8.839123</td>\n",
       "      <td>8.921467</td>\n",
       "    </tr>\n",
       "  </tbody>\n",
       "</table>\n",
       "</div>"
      ],
      "text/plain": [
       "          0.01      0.02      0.06      0.10      0.20\n",
       "0.80  8.804868  8.955491  8.841889  8.908552  8.887454\n",
       "0.85  8.996020  8.929938  8.928470  8.836845  8.902091\n",
       "0.87  8.900080  8.912847  8.886084  8.829580  8.909423\n",
       "0.90  8.877612  8.874201  8.828810  8.861719  8.887377\n",
       "0.92  8.888275  8.898121  8.874821  8.923960  8.853282\n",
       "0.94  8.924514  8.889257  8.897260  8.915835  8.888774\n",
       "0.96  8.840277  8.894800  8.872787  8.857395  8.809398\n",
       "0.98  8.846332  8.876691  8.856568  8.839123  8.921467"
      ]
     },
     "execution_count": 4,
     "metadata": {},
     "output_type": "execute_result"
    }
   ],
   "source": [
    "import numpy as np\n",
    "import matplotlib.pyplot as plt\n",
    "\n",
    "result = []\n",
    "re = []\n",
    "for i in range(len(ga[:40])):\n",
    "    val = ga[i]\n",
    "    if i % 5 == 0 and i !=0:\n",
    "        result.append(re)\n",
    "        re = []\n",
    "    re.append(val)\n",
    "result.append(re)\n",
    "df = pd.DataFrame(result, [0.8, 0.85, 0.87, 0.9, 0.92, 0.94, 0.96, 0.98], [0.01, 0.02, 0.06, 0.1, 0.2])\n",
    "df"
   ]
  },
  {
   "cell_type": "markdown",
   "metadata": {},
   "source": [
    "## popul_size vs nb_generations"
   ]
  },
  {
   "cell_type": "code",
   "execution_count": 5,
   "metadata": {},
   "outputs": [
    {
     "data": {
      "text/html": [
       "<div>\n",
       "<style scoped>\n",
       "    .dataframe tbody tr th:only-of-type {\n",
       "        vertical-align: middle;\n",
       "    }\n",
       "\n",
       "    .dataframe tbody tr th {\n",
       "        vertical-align: top;\n",
       "    }\n",
       "\n",
       "    .dataframe thead th {\n",
       "        text-align: right;\n",
       "    }\n",
       "</style>\n",
       "<table border=\"1\" class=\"dataframe\">\n",
       "  <thead>\n",
       "    <tr style=\"text-align: right;\">\n",
       "      <th></th>\n",
       "      <th>20</th>\n",
       "      <th>30</th>\n",
       "      <th>50</th>\n",
       "      <th>70</th>\n",
       "      <th>100</th>\n",
       "      <th>120</th>\n",
       "      <th>150</th>\n",
       "      <th>170</th>\n",
       "      <th>200</th>\n",
       "    </tr>\n",
       "  </thead>\n",
       "  <tbody>\n",
       "    <tr>\n",
       "      <th>5</th>\n",
       "      <td>8.804868</td>\n",
       "      <td>8.955491</td>\n",
       "      <td>8.841889</td>\n",
       "      <td>8.908552</td>\n",
       "      <td>8.887454</td>\n",
       "      <td>8.996020</td>\n",
       "      <td>8.929938</td>\n",
       "      <td>8.928470</td>\n",
       "      <td>8.836845</td>\n",
       "    </tr>\n",
       "    <tr>\n",
       "      <th>7</th>\n",
       "      <td>8.902091</td>\n",
       "      <td>8.900080</td>\n",
       "      <td>8.912847</td>\n",
       "      <td>8.886084</td>\n",
       "      <td>8.829580</td>\n",
       "      <td>8.909423</td>\n",
       "      <td>8.877612</td>\n",
       "      <td>8.874201</td>\n",
       "      <td>8.828810</td>\n",
       "    </tr>\n",
       "    <tr>\n",
       "      <th>9</th>\n",
       "      <td>8.861719</td>\n",
       "      <td>8.887377</td>\n",
       "      <td>8.888275</td>\n",
       "      <td>8.898121</td>\n",
       "      <td>8.874821</td>\n",
       "      <td>8.923960</td>\n",
       "      <td>8.853282</td>\n",
       "      <td>8.924514</td>\n",
       "      <td>8.889257</td>\n",
       "    </tr>\n",
       "    <tr>\n",
       "      <th>12</th>\n",
       "      <td>8.897260</td>\n",
       "      <td>8.915835</td>\n",
       "      <td>8.888774</td>\n",
       "      <td>8.840277</td>\n",
       "      <td>8.894800</td>\n",
       "      <td>8.872787</td>\n",
       "      <td>8.857395</td>\n",
       "      <td>8.809398</td>\n",
       "      <td>8.846332</td>\n",
       "    </tr>\n",
       "    <tr>\n",
       "      <th>15</th>\n",
       "      <td>8.876691</td>\n",
       "      <td>8.856568</td>\n",
       "      <td>8.839123</td>\n",
       "      <td>8.921467</td>\n",
       "      <td>9.246678</td>\n",
       "      <td>9.317560</td>\n",
       "      <td>9.141697</td>\n",
       "      <td>9.125426</td>\n",
       "      <td>9.064394</td>\n",
       "    </tr>\n",
       "    <tr>\n",
       "      <th>20</th>\n",
       "      <td>9.032215</td>\n",
       "      <td>9.013897</td>\n",
       "      <td>8.980508</td>\n",
       "      <td>8.941498</td>\n",
       "      <td>9.327715</td>\n",
       "      <td>9.298575</td>\n",
       "      <td>9.176522</td>\n",
       "      <td>9.121591</td>\n",
       "      <td>9.135596</td>\n",
       "    </tr>\n",
       "    <tr>\n",
       "      <th>50</th>\n",
       "      <td>8.959271</td>\n",
       "      <td>8.952230</td>\n",
       "      <td>8.898556</td>\n",
       "      <td>8.916960</td>\n",
       "      <td>9.283979</td>\n",
       "      <td>9.245798</td>\n",
       "      <td>9.140231</td>\n",
       "      <td>9.020949</td>\n",
       "      <td>9.003453</td>\n",
       "    </tr>\n",
       "    <tr>\n",
       "      <th>80</th>\n",
       "      <td>8.942837</td>\n",
       "      <td>8.896200</td>\n",
       "      <td>8.915258</td>\n",
       "      <td>8.894924</td>\n",
       "      <td>9.239390</td>\n",
       "      <td>9.129544</td>\n",
       "      <td>9.014998</td>\n",
       "      <td>8.953136</td>\n",
       "      <td>8.932534</td>\n",
       "    </tr>\n",
       "  </tbody>\n",
       "</table>\n",
       "</div>"
      ],
      "text/plain": [
       "         20        30        50        70        100       120       150  \\\n",
       "5   8.804868  8.955491  8.841889  8.908552  8.887454  8.996020  8.929938   \n",
       "7   8.902091  8.900080  8.912847  8.886084  8.829580  8.909423  8.877612   \n",
       "9   8.861719  8.887377  8.888275  8.898121  8.874821  8.923960  8.853282   \n",
       "12  8.897260  8.915835  8.888774  8.840277  8.894800  8.872787  8.857395   \n",
       "15  8.876691  8.856568  8.839123  8.921467  9.246678  9.317560  9.141697   \n",
       "20  9.032215  9.013897  8.980508  8.941498  9.327715  9.298575  9.176522   \n",
       "50  8.959271  8.952230  8.898556  8.916960  9.283979  9.245798  9.140231   \n",
       "80  8.942837  8.896200  8.915258  8.894924  9.239390  9.129544  9.014998   \n",
       "\n",
       "         170       200  \n",
       "5   8.928470  8.836845  \n",
       "7   8.874201  8.828810  \n",
       "9   8.924514  8.889257  \n",
       "12  8.809398  8.846332  \n",
       "15  9.125426  9.064394  \n",
       "20  9.121591  9.135596  \n",
       "50  9.020949  9.003453  \n",
       "80  8.953136  8.932534  "
      ]
     },
     "execution_count": 5,
     "metadata": {},
     "output_type": "execute_result"
    }
   ],
   "source": [
    "import numpy as np\n",
    "import matplotlib.pyplot as plt\n",
    "\n",
    "result = []\n",
    "re = []\n",
    "for i in range(len(ga[40:])):\n",
    "    val = ga[i]\n",
    "    if i % 9 == 0 and i !=0:\n",
    "        result.append(re)\n",
    "        re = []\n",
    "    re.append(val)\n",
    "result.append(re)\n",
    "\n",
    "df = pd.DataFrame(result, [5, 7, 9, 12, 15, 20, 50, 80], [20, 30, 50, 70, 100, 120, 150, 170, 200])\n",
    "df"
   ]
  },
  {
   "cell_type": "code",
   "execution_count": null,
   "metadata": {},
   "outputs": [],
   "source": []
  },
  {
   "cell_type": "code",
   "execution_count": null,
   "metadata": {},
   "outputs": [],
   "source": []
  }
 ],
 "metadata": {
  "celltoolbar": "Slideshow",
  "kernelspec": {
   "display_name": "Python 3",
   "language": "python",
   "name": "python3"
  },
  "language_info": {
   "codemirror_mode": {
    "name": "ipython",
    "version": 3
   },
   "file_extension": ".py",
   "mimetype": "text/x-python",
   "name": "python",
   "nbconvert_exporter": "python",
   "pygments_lexer": "ipython3",
   "version": "3.8.5"
  }
 },
 "nbformat": 4,
 "nbformat_minor": 4
}
